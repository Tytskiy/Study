{
 "cells": [
  {
   "cell_type": "code",
   "execution_count": 1,
   "metadata": {},
   "outputs": [],
   "source": [
    "import cross_validation\n",
    "import numpy as np\n",
    "import nearest_neighbors as nn\n",
    "from sklearn.datasets import load_digits\n",
    "from sklearn.model_selection import train_test_split\n",
    "from sklearn.neighbors import KNeighborsClassifier\n",
    "from sklearn.model_selection import cross_val_score\n",
    "import importlib"
   ]
  },
  {
   "cell_type": "markdown",
   "metadata": {},
   "source": [
    "## Distances"
   ]
  },
  {
   "cell_type": "code",
   "execution_count": 2,
   "metadata": {},
   "outputs": [],
   "source": [
    "def euclidean_distance(X, Y):\n",
    "    X_square = (X*X).sum(axis=1).reshape(-1, 1)\n",
    "    Y_square = (Y*Y).sum(axis=1).reshape(1, -1)\n",
    "    ans = (X_square+Y_square-2*np.dot(X, Y.T))**0.5\n",
    "    return ans\n",
    "\n",
    "\n",
    "def cosine_distance(X, Y):\n",
    "    norm_X = np.linalg.norm(X, axis=1).reshape(-1, 1)\n",
    "    norm_Y = np.linalg.norm(Y, axis=1).reshape(1, -1)\n",
    "    print(norm_Y)\n",
    "    ans = 1-np.dot(X, Y.T)/norm_X/norm_Y\n",
    "    return ans"
   ]
  },
  {
   "cell_type": "code",
   "execution_count": 3,
   "metadata": {},
   "outputs": [],
   "source": [
    "X = np.array([[0, 1, 0], [1, 0, 0], [0, 1, 0]])\n",
    "Y = np.array([[0, 3, 4], [0, 0, 1], [1, 0, 0], [0, 1, 0]])"
   ]
  },
  {
   "cell_type": "markdown",
   "metadata": {},
   "source": [
    "## Cross-validation"
   ]
  },
  {
   "cell_type": "code",
   "execution_count": 4,
   "metadata": {},
   "outputs": [],
   "source": [
    "X, y = load_digits(return_X_y=True)"
   ]
  },
  {
   "cell_type": "code",
   "execution_count": 17,
   "metadata": {},
   "outputs": [
    {
     "output_type": "execute_result",
     "data": {
      "text/plain": [
       "{2: [0.9666110183639399, 0.9632721202003339, 0.9599332220367279],\n",
       " 3: [0.9699499165275459, 0.9666110183639399, 0.9649415692821369],\n",
       " 4: [0.9649415692821369, 0.9666110183639399, 0.9565943238731218],\n",
       " 5: [0.9649415692821369, 0.9616026711185309, 0.9582637729549248]}"
      ]
     },
     "metadata": {},
     "execution_count": 17
    }
   ],
   "source": [
    "cross = cross_validation.knn_cross_val_score(X,y,k_list=[2,3,4,5],cv=cross_validation.kfold(X.shape[0], 3),weights=False)\n",
    "cross"
   ]
  },
  {
   "cell_type": "code",
   "execution_count": null,
   "metadata": {},
   "outputs": [],
   "source": []
  },
  {
   "cell_type": "markdown",
   "metadata": {},
   "source": [
    "## KNNClassifier"
   ]
  },
  {
   "cell_type": "code",
   "execution_count": null,
   "metadata": {},
   "outputs": [],
   "source": [
    "X, y = load_digits(return_X_y=True)\n",
    "X_train,X_test,y_train,y_test = train_test_split(X,y,test_size=0.30)"
   ]
  },
  {
   "cell_type": "code",
   "execution_count": null,
   "metadata": {},
   "outputs": [],
   "source": [
    "importlib.reload(nearest_neighbors)\n",
    "model = nearest_neighbors.KNNClassifier(1,strategy=\"brute\",metric=\"cosine\",test_block_size=100)\n"
   ]
  },
  {
   "cell_type": "code",
   "execution_count": null,
   "metadata": {},
   "outputs": [],
   "source": [
    "from sklearn.neighbors import NearestNeighbors\n",
    "NN = NearestNeighbors(X_train,algorithm=\"brute\",metric=\"cosine\")\n",
    "NN.fit(X_test)\n",
    "NN.kneighbors()"
   ]
  },
  {
   "cell_type": "code",
   "execution_count": null,
   "metadata": {},
   "outputs": [],
   "source": [
    "def f():\n",
    "    if(True):\n",
    "        a=5\n",
    "    print(a)\n",
    "f()"
   ]
  },
  {
   "cell_type": "code",
   "execution_count": null,
   "metadata": {},
   "outputs": [],
   "source": []
  }
 ],
 "metadata": {
  "kernelspec": {
   "display_name": "Python 3",
   "language": "python",
   "name": "python3"
  },
  "language_info": {
   "codemirror_mode": {
    "name": "ipython",
    "version": 3
   },
   "file_extension": ".py",
   "mimetype": "text/x-python",
   "name": "python",
   "nbconvert_exporter": "python",
   "pygments_lexer": "ipython3",
   "version": "3.8.3-final"
  }
 },
 "nbformat": 4,
 "nbformat_minor": 4
}