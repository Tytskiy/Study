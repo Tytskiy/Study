{
 "cells": [
  {
   "cell_type": "code",
   "execution_count": 1,
   "metadata": {},
   "outputs": [],
   "source": [
    "import numpy as np\n",
    "import matplotlib.pyplot as plt"
   ]
  },
  {
   "cell_type": "markdown",
   "metadata": {},
   "source": [
    "**Векторизованная реализация**"
   ]
  },
  {
   "cell_type": "code",
   "execution_count": 2,
   "metadata": {},
   "outputs": [],
   "source": [
    "def get_max_before_zero_vectorize(X):\n",
    "    mask = X == 0\n",
    "    if(np.any(mask)):\n",
    "        mask = np.concatenate((np.array([False]), mask), axis=0)\n",
    "        ans = X[mask[: -1]]\n",
    "        if ans.size != 0:\n",
    "            return ans.max()\n"
   ]
  },
  {
   "cell_type": "markdown",
   "metadata": {},
   "source": [
    "**Частичо векторизованная реализация**"
   ]
  },
  {
   "cell_type": "code",
   "execution_count": 3,
   "metadata": {},
   "outputs": [],
   "source": [
    "def get_max_before_zero_semi_vectorize(X):\n",
    "    mask = np.where(X == 0)[0]\n",
    "    if(mask.size > 0):\n",
    "        if(mask[0] + 1 >= X.size):\n",
    "            return None\n",
    "        m = X[mask[0] + 1]\n",
    "        for i in range(1, mask.size):\n",
    "            if(mask[i] + 1 < X.size and m < X[mask[i] + 1]):\n",
    "                m = X[mask[i] + 1]\n",
    "        return m\n"
   ]
  },
  {
   "cell_type": "markdown",
   "metadata": {},
   "source": [
    "**Не векторизованная реализация**"
   ]
  },
  {
   "cell_type": "code",
   "execution_count": 4,
   "metadata": {},
   "outputs": [],
   "source": [
    "def get_max_before_zero_not_vectorize(X):\n",
    "    flag = False\n",
    "    m = None\n",
    "    for i in range(1,len(X)):\n",
    "        if(X[i-1] == 0):\n",
    "            flag = True\n",
    "        if(X[i-1]==0 and (m is None or m < X[i])):\n",
    "            m = X[i]\n",
    "    if(flag):\n",
    "        return m"
   ]
  },
  {
   "cell_type": "markdown",
   "metadata": {},
   "source": [
    "## Исследование"
   ]
  },
  {
   "cell_type": "code",
   "execution_count": 19,
   "metadata": {},
   "outputs": [],
   "source": [
    "N = 5\n",
    "time = []\n",
    "for i in range(1, N + 1):\n",
    "    X = np.random.normal(0, 10, 10**i).astype(int)\n",
    "    X_list = list(X)\n",
    "    t1 = %timeit -q -o get_max_before_zero_vectorize(X)\n",
    "    t2 = %timeit -q -o get_max_before_zero_semi_vectorize(X)\n",
    "    t3 = %timeit -q -o get_max_before_zero_not_vectorize(X_list)\n",
    "    time.append((t1.average, t2.average, t3.average))\n",
    "time = np.array(time)"
   ]
  },
  {
   "cell_type": "code",
   "execution_count": 21,
   "metadata": {},
   "outputs": [
    {
     "data": {
      "image/png": "[encoded data removed]",
      "text/plain": [
       "<Figure size 432x288 with 1 Axes>"
      ]
     },
     "metadata": {
      "needs_background": "light"
     },
     "output_type": "display_data"
    }
   ],
   "source": [
    "y = np.array([10, 100, 1000, 10000, 100000])\n",
    "\n",
    "plt.yscale(\"log\")\n",
    "plt.xscale(\"log\")\n",
    "plt.plot(y, time[:,0], label = \"vec\")\n",
    "plt.plot(y, time[:,1], label = \"semivec\")\n",
    "plt.plot(y, time[:,2], label = \"not vec\")\n",
    "\n",
    "plt.ylabel(\"sec\")\n",
    "plt.xlabel(\"size of input\")\n",
    "plt.title(\"Speed comparison\")\n",
    "plt.legend()\n",
    "plt.show()"
   ]
  },
  {
   "cell_type": "markdown",
   "metadata": {},
   "source": [
    "## Выводы\n",
    "Ожидаемо, что векторизованная реализация будет быстрее(но тоже имеет линейную сложность).\n",
    "\n",
    "Также ожидаемо, что не векторизованная реализация будет самой медленной.\n",
    "\n",
    "Неоднозначно лишь с полувекторизованной реализацией. Мне кажется в каких-нибудь спецефичных случаях она может быть даже быстрее векторизованной.\n",
    "\n",
    "Далеко не всегда в голову сходу приходят идеи реализации чисто с помощью методов numpy, поэтому симбиоз чистого питона и numpy скорее всего будет лучшим решением, если учесть скорость разработки и читаемось кода."
   ]
  }
 ],
 "metadata": {
  "kernelspec": {
   "display_name": "Python 3",
   "language": "python",
   "name": "python3"
  },
  "language_info": {
   "codemirror_mode": {
    "name": "ipython",
    "version": 3
   },
   "file_extension": ".py",
   "mimetype": "text/x-python",
   "name": "python",
   "nbconvert_exporter": "python",
   "pygments_lexer": "ipython3",
   "version": "3.8.3"
  }
 },
 "nbformat": 4,
 "nbformat_minor": 4
}
