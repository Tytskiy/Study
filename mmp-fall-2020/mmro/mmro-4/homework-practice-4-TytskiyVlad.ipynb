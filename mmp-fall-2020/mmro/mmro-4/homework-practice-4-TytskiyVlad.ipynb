{
 "cells": [
  {
   "cell_type": "markdown",
   "metadata": {},
   "source": [
    "# Машинное обучение, ВМК МГУ\n",
    "\n",
    "## Практическое задание 4. Разложение ошибки на смещение и разброс. Градиентный бустинг ~~своими руками~~\n",
    "\n",
    "### Общая информация\n",
    "\n",
    "Дата выдачи: 30.11.2020 01:00\n",
    "\n",
    "Мягкий дедлайн: 01:00MSK 14.12.2020\n",
    "\n",
    "Жесткий дедлайн: 01:00MSK 21.12.2020\n",
    "\n",
    "### Оценивание и штрафы\n",
    "Каждая из задач имеет определенную «стоимость» (указана в скобках около задачи). Максимально допустимая оценка за работу — 10 баллов.\n",
    "\n",
    "Сдавать задание после указанного срока сдачи нельзя. При выставлении неполного балла за задание в связи с наличием ошибок на усмотрение проверяющего предусмотрена возможность исправить работу на указанных в ответном письме условиях.\n",
    "\n",
    "Задание выполняется самостоятельно. «Похожие» решения считаются плагиатом и все задействованные студенты (в том числе те, у кого списали) не могут получить за него больше 0 баллов (подробнее о плагиате см. на странице курса). Если вы нашли решение какого-то из заданий (или его часть) в открытом источнике, необходимо указать ссылку на этот источник в отдельном блоке в конце вашей работы (скорее всего вы будете не единственным, кто это нашел, поэтому чтобы исключить подозрение в плагиате, необходима ссылка на источник).\n",
    "\n",
    "Неэффективная реализация кода может негативно отразиться на оценке.\n",
    "\n",
    "### Формат сдачи\n",
    "Задания сдаются через систему anytask. Посылка должна содержать:\n",
    "* Ноутбук homework-practice-04-Username.ipynb\n",
    "\n",
    "Username — ваша фамилия и имя на латинице именно в таком порядке\n",
    "\n",
    "### О задании\n",
    "\n",
    "В этом задании вам предстоит воспользоваться возможностями bootstraping для оценки смещения и разброса алгоритмов машинного обучения. Делать мы это будем на данных boston. \n",
    "Также в задании вам будет предложено пообучать готовые модели градиентного бустинга и CatBoost."
   ]
  },
  {
   "cell_type": "markdown",
   "metadata": {},
   "source": [
    "**Напоминание:**\n",
    "    \n",
    "* Все ваши графики должны быть **\"красивыми\"** --- подробнее о том, как их оформлять, можно найти в первом практическом задании. При несоответствии какиму-то из критериев вам могут снять баллы.\n",
    "* Пишите в текстовых ячейках/print в коде ответы на **все вопросы из заданий/просьбы сделать выводы** --- при их отсутствии мы не можем понять, сделали ли вы задание и понимаете, что происходит, и поэтому будем снижать баллы"
   ]
  },
  {
   "cell_type": "markdown",
   "metadata": {},
   "source": [
    "## Часть 1. Bias-Variance Decomposition"
   ]
  },
  {
   "cell_type": "code",
   "execution_count": 1,
   "metadata": {},
   "outputs": [
    {
     "name": "stdout",
     "output_type": "stream",
     "text": [
      "Populating the interactive namespace from numpy and matplotlib\n"
     ]
    }
   ],
   "source": [
    "%pylab inline\n",
    "import numpy as np\n",
    "import pandas as pd\n",
    "import seaborn as sn\n",
    "from matplotlib import pyplot as plt\n",
    "from sklearn.metrics import precision_recall_curve, auc\n",
    "from sklearn.model_selection import train_test_split\n",
    "plt.style.use(\"seaborn\")"
   ]
  },
  {
   "cell_type": "code",
   "execution_count": 2,
   "metadata": {},
   "outputs": [],
   "source": [
    "from sklearn.datasets import load_boston"
   ]
  },
  {
   "cell_type": "code",
   "execution_count": 3,
   "metadata": {},
   "outputs": [],
   "source": [
    "boston = load_boston()"
   ]
  },
  {
   "cell_type": "code",
   "execution_count": 4,
   "metadata": {},
   "outputs": [
    {
     "name": "stdout",
     "output_type": "stream",
     "text": [
      ".. _boston_dataset:\n",
      "\n",
      "Boston house prices dataset\n",
      "---------------------------\n",
      "\n",
      "**Data Set Characteristics:**  \n",
      "\n",
      "    :Number of Instances: 506 \n",
      "\n",
      "    :Number of Attributes: 13 numeric/categorical predictive. Median Value (attribute 14) is usually the target.\n",
      "\n",
      "    :Attribute Information (in order):\n",
      "        - CRIM     per capita crime rate by town\n",
      "        - ZN       proportion of residential land zoned for lots over 25,000 sq.ft.\n",
      "        - INDUS    proportion of non-retail business acres per town\n",
      "        - CHAS     Charles River dummy variable (= 1 if tract bounds river; 0 otherwise)\n",
      "        - NOX      nitric oxides concentration (parts per 10 million)\n",
      "        - RM       average number of rooms per dwelling\n",
      "        - AGE      proportion of owner-occupied units built prior to 1940\n",
      "        - DIS      weighted distances to five Boston employment centres\n",
      "        - RAD      index of accessibility to radial highways\n",
      "        - TAX      full-value property-tax rate per $10,000\n",
      "        - PTRATIO  pupil-teacher ratio by town\n",
      "        - B        1000(Bk - 0.63)^2 where Bk is the proportion of blacks by town\n",
      "        - LSTAT    % lower status of the population\n",
      "        - MEDV     Median value of owner-occupied homes in $1000's\n",
      "\n",
      "    :Missing Attribute Values: None\n",
      "\n",
      "    :Creator: Harrison, D. and Rubinfeld, D.L.\n",
      "\n",
      "This is a copy of UCI ML housing dataset.\n",
      "https://archive.ics.uci.edu/ml/machine-learning-databases/housing/\n",
      "\n",
      "\n",
      "This dataset was taken from the StatLib library which is maintained at Carnegie Mellon University.\n",
      "\n",
      "The Boston house-price data of Harrison, D. and Rubinfeld, D.L. 'Hedonic\n",
      "prices and the demand for clean air', J. Environ. Economics & Management,\n",
      "vol.5, 81-102, 1978.   Used in Belsley, Kuh & Welsch, 'Regression diagnostics\n",
      "...', Wiley, 1980.   N.B. Various transformations are used in the table on\n",
      "pages 244-261 of the latter.\n",
      "\n",
      "The Boston house-price data has been used in many machine learning papers that address regression\n",
      "problems.   \n",
      "     \n",
      ".. topic:: References\n",
      "\n",
      "   - Belsley, Kuh & Welsch, 'Regression diagnostics: Identifying Influential Data and Sources of Collinearity', Wiley, 1980. 244-261.\n",
      "   - Quinlan,R. (1993). Combining Instance-Based and Model-Based Learning. In Proceedings on the Tenth International Conference of Machine Learning, 236-243, University of Massachusetts, Amherst. Morgan Kaufmann.\n",
      "\n"
     ]
    }
   ],
   "source": [
    "print(boston[\"DESCR\"])"
   ]
  },
  {
   "cell_type": "code",
   "execution_count": 5,
   "metadata": {},
   "outputs": [],
   "source": [
    "X = boston[\"data\"]\n",
    "y = boston[\"target\"]"
   ]
  },
  {
   "cell_type": "code",
   "execution_count": 6,
   "metadata": {},
   "outputs": [
    {
     "data": {
      "text/plain": [
       "((506, 13), (506,))"
      ]
     },
     "execution_count": 6,
     "metadata": {},
     "output_type": "execute_result"
    }
   ],
   "source": [
    "X.shape, y.shape"
   ]
  },
  {
   "cell_type": "markdown",
   "metadata": {},
   "source": [
    "### Вычисление bias и variance с помощью бутстрапа\n",
    "На лекции была выведено следующая формула, показывающая, как можно представить ошибку алгоритма регрессии в виде суммы трех компонент:\n",
    "$$\n",
    "L(\\mu) = \n",
    "    \\mathbb{E}_{x, y}\\bigl[\\mathbb{E}_{X}\\bigl[ (y - \\mu(X)(x))^2 \\bigr]\\bigr] = \n",
    "$$\n",
    "$$\n",
    "    \\underbrace{\\mathbb{E}_{x, y}\\bigl[(y - \\mathbb{E}[y|x] )^2\\bigr]}_{\\text{шум}} + \\underbrace{\\mathbb{E}_{x}\\bigl[(\\mathbb{E}_{X}[\\mu(X)(x)] - \\mathbb{E}[y|x] )^2\\bigr]}_{\\text{смещение}} +\n",
    "    \\underbrace{\\mathbb{E}_{x}\\bigl[\\mathbb{E}_{X}\\bigl[(\\mu(X)(x) - \\mathbb{E}_{X}[\\mu(X)(x)] )^2\\bigr]\\bigr]}_{\\text{разброс}},\n",
    "$$\n",
    "* $\\mu(X)$ — алгоритм, обученный по выборке $X = \\{(x_1, y_1), \\dots (x_\\ell, y_\\ell)\\}$;\n",
    "* $\\mu(X)(x)$ — ответ алгоритма, обученного по выборке $X$, на объекте $x$;\n",
    "* $\\mathbb{E}_{X}$ — мат. ожидание по всем возможным выборкам;\n",
    "* $\\mathbb{E}_{X}[\\mu(X)(x)]$ — \"средний\" ответ алгоритма, обученного по всем возможным выборкам $X$, на объекте $x$.\n",
    "    \n",
    "С помощью этой формулы мы можем анализировать свойства алгоритма обучения модели $\\mu$, если зададим вероятностную модель порождения пар $p(x, y)$.\n",
    "\n",
    "В реальных задачах мы, конечно же, не знаем распределение на парах объект - правильный ответ. Однако у нас есть набор семплов из этого распределения (обучающую выборка), и мы можем использовать его, чтобы оценивать математические ожидания. Для оценки мат. ожиданий по выборкам мы будем пользоваться бутстрэпом - методом генерации \"новых\" выборок из одной с помощью выбора объектов с возвращением. Разберем несколько шагов на пути к оценке смещения и разброса.\n",
    "\n",
    "#### Приближенное вычисление интегралов\n",
    "На занятиях мы разбирали примеры аналитического вычисления смещения и разброса нескольких алгоритмов обучения. Для большинства моделей данных и алгоритмов обучения аналитически рассчитать математические ожидания в формулах не удастся. Однако мат. ожидания можно оценивать приближенно. Чтобы оценить математическое ожидание $\\mathbb{E}_{\\bar z} f(\\bar z)$ функции от многомерной случайной величины $\\bar z = (z_1, \\dots, z_d)$, $\\bar z \\sim p(\\bar z)$, можно сгенерировать выборку из распределения $p(\\bar z)$ и усреднить значение функции на элементах этой выборки:\n",
    "$$\\mathbb{E}_{\\bar z} f(z) = \\int f(\\bar z) p(\\bar z) d \\bar z \\approx \\frac 1 m \\sum_{i=1}^m f(\\bar z_i), \\, \\bar z_i \\sim p(\\bar z), i = 1, \\dots, m.$$\n",
    "\n",
    "Например, оценим $\\mathbb{E}_z z^2,$ $z \\sim \\mathcal{N}(\\mu=5, \\sigma=3)$ (из теории вероятностей мы знаем, что\n",
    "$\\mathbb{E}_z z^2 = \\sigma^2 + \\mu^2 = 34$):"
   ]
  },
  {
   "cell_type": "code",
   "execution_count": 7,
   "metadata": {},
   "outputs": [
    {
     "data": {
      "text/plain": [
       "33.78707463013997"
      ]
     },
     "execution_count": 7,
     "metadata": {},
     "output_type": "execute_result"
    }
   ],
   "source": [
    "z = np.random.normal(loc=5, scale=3, size=10000)\n",
    "(z**2).mean()"
   ]
  },
  {
   "cell_type": "markdown",
   "metadata": {},
   "source": [
    "#### Оценивание $\\mathbb{E}_{x, y}$\n",
    "Оценить мат. ожидания по $x$ и по $x, y$, встречающиеся во всех трех компонентах разложения, несложно, потому что у нас есть выборка объектов из распределения данных $p(x, y)$:\n",
    "$$ \\mathbb{E}_{x} f(x) \\approx \\frac 1 N \\sum_{i=1}^N f(x_i), \\quad\n",
    "\\mathbb{E}_{x, y} f(x, y) \\approx \\frac 1 N \\sum_{i=1}^N f(x_i, y_i),$$\n",
    "где $N$ - число объектов в выборке, $\\{(x_i, y_i)\\}_{i=1}^N$ - сама выборка. \n",
    "\n",
    "#### Оценивание $\\mathbb{E}_X$ с помощью бутстрапа\n",
    "Чтобы оценить мат. ожидание по $X$, нам понадобится выборка из выборок:\n",
    "$$\\mathbb{E}_X f(X) \\approx \\frac 1 s \\sum_{j=1}^s f(X_j),$$\n",
    "где $X_j$ - $j$-я выборка. Чтобы их получить, мы можем воспользоваться бутстрапом - методом генерации выборок на основе выбора объектов с возвращением. Чтобы составить одну выборку, будем $N$ раз выбирать индекс объекта $i \\sim \\text{Uniform}(1 \\dots N)$ и добавлять $i$-ю пару (объект, целевая переменная) в выборку. В результате в каждой выборке могут появиться повторяющиеся объекты, а какие-то объекты могут вовсе не войти в некоторые выборки.\n",
    "\n",
    "#### Итоговый алгоритм оценки смещения и разброса алгоритма $a$\n",
    "1. Сгенерировать $s$ выборок $X_j$ методом бутстрапа.\n",
    "1. На каждой выборке $X_j$ обучить алгоритм $a_j$.\n",
    "1. Для каждой выборки $X_j$ определить множество объектов $T_j$, не вошедших в нее (out-of-bag). Вычислить предсказания алгоритма $a_j$ на объектах $T_j$. \n",
    "\n",
    "Поскольку у нас есть только один ответ для каждого объекта, мы будем считать шум равным 0, а $\\mathbb{E}[y|x]$ равным имеющемуся правильному ответу для объекта $x$. \n",
    "\n",
    "Итоговые оценки:\n",
    "* Смещение: для одного объекта - квадрат разности среднего предсказания и правильного ответа. Среднее предсказание берется только по тем алгоритмам $a_j$, для которых этот объект входил в out-of-bag выборку $T_j$. Для получения общего смещения выполнить усреденение смещений по объектам.\n",
    "* Разброс: для одного объекта - выборочная дисперсия предсказаний алгоритмов $a_j$, для которых этот объект входил в out-of-bag выборку $T_j$. Для получения общего разброса выполнить усреденение разбросов по объектам.\n",
    "* Ошибка $L$: усреднить квадраты разностей предсказания и правильного ответа по всем выполненным предсказаниям для всех объектов.\n",
    "\n",
    "В результате должно получиться, что ошибка приблизительно равна сумме смещения и разброса!\n",
    "\n",
    "Алгоритм также вкратце описан по [ссылке](https://web.engr.oregonstate.edu/~tgd/classes/534/slides/part9.pdf) (слайды 19-21).\n",
    "\n",
    "__Задание 1. (1.5 баллa)__\n",
    "\n",
    "Реализуйте описанный алгоритм. Обратите внимание, что если объект не вошел ни в одну из out-of-bag выборок, учитывать его в вычислении итоговых величин не нужно. Как обычно, разрешается использовать только один цикл - по выборкам (от 0 до num_runs-1)."
   ]
  },
  {
   "cell_type": "code",
   "execution_count": 8,
   "metadata": {},
   "outputs": [],
   "source": [
    "from sklearn.metrics import mean_squared_error\n",
    "\n",
    "\n",
    "def bootstrap(n, size, replace=True):\n",
    "    index = np.random.choice(n, size, replace=replace)\n",
    "    inv_index = np.asarray(list(set(np.arange(n))-set(index)))\n",
    "    return index, inv_index\n",
    "\n",
    "\n",
    "def compute_biase_variance(regressor, X, y, num_runs=100, size=400):\n",
    "    \"\"\"\n",
    "    :param regressor: sklearn estimator with fit(...) and predict(...) method\n",
    "    :param X: numpy-array representing training set ob objects, shape [n_obj, n_feat]\n",
    "    :param y: numpy-array representing target for training objects, shape [n_obj]\n",
    "    :param num_runs: int, number of samples (s in the description of the algorithm)\n",
    "\n",
    "    :returns: bias (float), variance (float), error (float) \n",
    "    each value is computed using bootstrap\n",
    "    \"\"\"\n",
    "    y_preds = np.empty((num_runs, X.shape[0]))\n",
    "    indexs = np.empty((num_runs, size))\n",
    "\n",
    "    y_average = np.zeros(X.shape[0])\n",
    "    n_sum = np.zeros(X.shape[0])\n",
    "\n",
    "    for i in range(num_runs):\n",
    "        index, inv_index = bootstrap(X.shape[0], size)\n",
    "        indexs[i] = index\n",
    "\n",
    "        regressor.fit(X[index], y[index])\n",
    "        y_pred = regressor.predict(X[inv_index])\n",
    "        y_preds[i, inv_index] = y_pred\n",
    "\n",
    "        y_average[inv_index] += y_pred\n",
    "        n_sum[inv_index] += np.ones(inv_index.size)\n",
    "\n",
    "    mask = (y_average != 0)\n",
    "    y_average[mask] = y_average[mask]/n_sum[mask]\n",
    "    bias = ((y[mask]-y_average[mask])**2).mean()\n",
    "    variance = 0\n",
    "    error = 0\n",
    "    for i in range(num_runs):\n",
    "        index = indexs[i]\n",
    "        inv_index = np.asarray(list(set(np.arange(X.shape[0]))-set(index)))\n",
    "        y_test = y[inv_index]\n",
    "        y_pred = y_preds[i, inv_index]\n",
    "        variance += ((y_pred-y_average[inv_index])**2).mean()\n",
    "        error += mean_squared_error(y_pred, y_test)\n",
    "\n",
    "    return bias, variance/num_runs, error/num_runs"
   ]
  },
  {
   "cell_type": "markdown",
   "metadata": {},
   "source": [
    "**Задание 2. (0.5 баллa)**\n",
    "\n",
    "Оцените смещение, разброс и ошибку для трех алгоритмов с гиперпараметрами по умолчанию: линейная регрессия, решающее дерево, случайный лес.\n"
   ]
  },
  {
   "cell_type": "code",
   "execution_count": 9,
   "metadata": {},
   "outputs": [],
   "source": [
    "from sklearn.linear_model import Ridge\n",
    "from sklearn.ensemble import RandomForestRegressor\n",
    "from sklearn.tree import DecisionTreeRegressor"
   ]
  },
  {
   "cell_type": "code",
   "execution_count": 188,
   "metadata": {},
   "outputs": [],
   "source": [
    "metrics = {}\n",
    "metrics[\"linear\"] = compute_biase_variance(Ridge(), X, y, num_runs=100)\n",
    "metrics[\"decision_tree\"] = compute_biase_variance(DecisionTreeRegressor(), X, y, num_runs=100)\n",
    "metrics[\"random_forest\"] = compute_biase_variance(RandomForestRegressor(), X, y, num_runs=100)"
   ]
  },
  {
   "cell_type": "code",
   "execution_count": 189,
   "metadata": {},
   "outputs": [
    {
     "name": "stdout",
     "output_type": "stream",
     "text": [
      "linear: bias =  23.88, variance = 1.06, error =  24.65, bias + var - error = 0.28\n",
      "decision_tree: bias =  10.42, variance = 13.57, error =  23.99, bias + var - error = -0.00\n",
      "random_forest: bias =  11.50, variance = 2.81, error =  14.71, bias + var - error = -0.40\n"
     ]
    }
   ],
   "source": [
    "for model, tmp in metrics.items():\n",
    "    bias, var, err = tmp\n",
    "    print(f\"{model}: bias = {bias: .2f}, variance = {var:.2f}, error = {err: .2f}, bias + var - error = {bias+var-err:.2f}\")"
   ]
  },
  {
   "cell_type": "markdown",
   "metadata": {},
   "source": [
    "Посмотрим на работу бэггинга"
   ]
  },
  {
   "cell_type": "markdown",
   "metadata": {},
   "source": [
    "Проанализируйте полученный результат. Согласуются ли полученные результаты с теми, что мы обсуждали на семинарах (с комментарием)?\n",
    "\n",
    "**Ответ:** Действительно, разложение ошибки на разброс и смещение дает довольно точные результаты для всех трех моделей.\n",
    "Также очень заметно, что decision tree и random forest дают разброс намного меньше, чем линейная регрессия, но дисперсия у них выше, чем у линейной регрессии. То, что мы обсуждали на семинарах(в контексте поведения разных моделей) хорошо кореллирует с полученными результатами.\n",
    "\n",
    "Вспомните во сколько раз в теории бутстрап уменьшает разброс базового алгоритма. Выполняется ли это в ваших экспериментах? Если нет, поясните,  почему.  \n",
    "**Ответ**: **????????????????????????????????????????????????????????????**\n"
   ]
  },
  {
   "cell_type": "markdown",
   "metadata": {},
   "source": [
    "### Визуализация предсказаний базовых алгоритмов бэггинга\n",
    "\n",
    "В материалах лекций можно найти изображение, похожее на мишень - визуализация алгоритмов с разным смещением и разным разбросом. В центре \"мишени\" - правильный ответ, а \"попадания\" - предсказания алгоритмов, обученных по разным выборкам. Построим похожее изображение на наших данных для трех алгоритмов. Наши \"мишени\" будут одномерными, потому что мы решаем задачу одномерной регрессии.\n",
    "\n",
    "__Задание 3. (1.5 балла)__\n",
    "\n",
    "Реализуйте фукнцию plot_predictions. Она должна выполнять следующие действия:\n",
    "1. Случайно выбрать num_test_objects пар объект-целевая переменная из выборки X, y. Получится две выборки: маленькая X_test, y_test (выбранные тестовые объекты) и X_train, y_train (остальные объекты).\n",
    "1. Сгенерировать num_runs выборок методом бутстарапа из X_train, y_train. На каждой выборке обучить алгоритм regressor и сделать предсказания для X_test.\n",
    "1. Нарисовать scatter-график. По оси абсцисс - объекты тестовой выборки (номера от 0 до num_test_objects-1), по оси ординат - предсказания. В итоге получится num_test_objects столбиков с точками. Для каждого тестового объекта надо отметить одним цветом все предсказания для него, а также черным цветом отметить правильный ответ.\n",
    "1. Подпишите оси и название графика (аргумент title)."
   ]
  },
  {
   "cell_type": "code",
   "execution_count": 105,
   "metadata": {},
   "outputs": [],
   "source": [
    "import matplotlib.patches as mpatches\n",
    "\n",
    "\n",
    "def plot_predictions(regressor, X, y, num_runs=20, num_test_objects=10, size=400, title=\"\"):\n",
    "    \"\"\"\n",
    "    plot graphics described above\n",
    "    \"\"\"\n",
    "    np.random.seed(1)\n",
    "    test_index, inv_test_index = bootstrap(X.shape[0], num_test_objects, replace=False)\n",
    "    X_train, y_train = X[inv_test_index], y[inv_test_index]\n",
    "    X_test, y_test = X[test_index], y[test_index]\n",
    "    for i in range(num_runs):\n",
    "        index, _ = bootstrap(X_train.shape[0], size)\n",
    "        regressor.fit(X_train[index], y_train[index])\n",
    "        y_pred = regressor.predict(X_test)\n",
    "        sn.scatterplot(x=np.arange(num_test_objects), y=y_pred, color=\"tomato\", alpha=0.6, s=100)\n",
    "    sn.scatterplot(x=np.arange(num_test_objects), y=y_test, color=\"black\", alpha=0.8, s=120)\n",
    "    plt.xlim([-1, num_test_objects])\n",
    "    plt.xticks(np.arange(num_test_objects), [f\"obj{i}\" for i in range(num_test_objects)], fontsize=12)\n",
    "    plt.ylabel(\"Значения тагрета\", fontsize=14)\n",
    "\n",
    "    leg_1 = mpatches.Patch(color='tomato', alpha=0.8, label='predict')\n",
    "    leg_2 = mpatches.Patch(color='black', alpha=0.8, label='true')\n",
    "    plt.legend(handles=[leg_1, leg_2], fontsize=12, loc=\"upper right\", framealpha=0.5)\n",
    "    plt.title(title, fontsize=14)"
   ]
  },
  {
   "cell_type": "markdown",
   "metadata": {},
   "source": [
    "Нарисуйте графики для линейной регрессии, решающего дерева и случайного леса. Нарисуйте три графика в строчку (это можно сделать с помощью plt.subplot) с одинаковой осью ординат (это важно для понимания масштаба разброса у разных алгоритмов):"
   ]
  },
  {
   "cell_type": "code",
   "execution_count": 106,
   "metadata": {},
   "outputs": [
    {
     "data": {
      "image/png": "[encoded data removed]",
      "text/plain": [
       "<Figure size 1440x360 with 3 Axes>"
      ]
     },
     "metadata": {},
     "output_type": "display_data"
    }
   ],
   "source": [
    "plt.figure(figsize=(20, 5))\n",
    "ax1 = plt.subplot(131)\n",
    "plot_predictions(Ridge(), X, y, title=\"Ошибки Ridge Regression\")\n",
    "ax2 = plt.subplot(132, sharey=ax1)\n",
    "plot_predictions(DecisionTreeRegressor(), X, y, title=\"Ошибки Decision Tree\")\n",
    "ax3 = plt.subplot(133, sharey=ax1)\n",
    "plot_predictions(RandomForestRegressor(), X, y, title=\"Ошибки Random Forest\")"
   ]
  },
  {
   "cell_type": "markdown",
   "metadata": {},
   "source": [
    "Для каждого графика прокомментируйте, как он характеризует смещение и разброс соответствующего алгоритма.\n",
    "\n",
    "**Ответ:**  \n",
    "В случае линейной регрессии четко видно, что модель имеет довольно большое смещение, но разборс небольшой. Это связано с тем, что модель недостаточно хорошо может описать данные - зависимость между таргетом и признаками нелинейная(и еще регуляризация мешает).  \n",
    "В случае Decision Tree смещение уже не такое явное, но смещение очень сильно увеличилось. Это говорит о том, что модель переобучилась.  \n",
    "Radom Forest показал хорошие результаты - смешение и разборс у этого алгоритма самые маленькие. Это связано с тем, что Random Forest - это композиция решаюших деревьев и за счет этого сильно понижается разборс(смещение относительно DT, почти не поменялось)"
   ]
  },
  {
   "cell_type": "markdown",
   "metadata": {},
   "source": [
    "### Часть 2. Градиентный бустинг"
   ]
  },
  {
   "cell_type": "markdown",
   "metadata": {},
   "source": [
    "**Задание 4 (1 балл)**\n",
    "\n",
    "Мы будем использовать данные из [соревнования](https://www.kaggle.com/t/b710e05dc0bd424995ca94da5b639869) (вам нужны только данные, посылать туда ничего не надо).\n",
    "* Загрузите таблицу application_train.csv;\n",
    "* Запишите в Y столбец с целевой переменной (TARGET);\n",
    "* Удалите ненужные столбцы:\n",
    "    * Воспользуйтесь описанием соревнования\n",
    "    * При желании, воспользуйтесь методами feature selection/стат. методами, если хотите. Объясните, что использовали и почему решили выкинуть тот или иной признак.\n",
    "* Определите тип столбцов и заполните пропуски - стратегия произвольная;\n",
    "* Разбейте выборку в соотношении 70:30 с random_state=0. Если считаете нужным, сделайте сбалансированное по классам разбиение.\n",
    "\n",
    "Так как в данных имеется значительный дисбаланс классов, в качестве метрики качества везде будем использовать площадь под precision-recall кривой (AUC-PR)."
   ]
  },
  {
   "cell_type": "code",
   "execution_count": 3,
   "metadata": {},
   "outputs": [],
   "source": [
    "data = pd.read_csv(\"application_train.csv\")"
   ]
  },
  {
   "cell_type": "code",
   "execution_count": 4,
   "metadata": {},
   "outputs": [
    {
     "data": {
      "text/plain": [
       "(215257, 122)"
      ]
     },
     "execution_count": 4,
     "metadata": {},
     "output_type": "execute_result"
    }
   ],
   "source": [
    "data.shape"
   ]
  },
  {
   "cell_type": "code",
   "execution_count": 5,
   "metadata": {},
   "outputs": [
    {
     "data": {
      "text/html": [
       "<div>\n",
       "<style scoped>\n",
       "    .dataframe tbody tr th:only-of-type {\n",
       "        vertical-align: middle;\n",
       "    }\n",
       "\n",
       "    .dataframe tbody tr th {\n",
       "        vertical-align: top;\n",
       "    }\n",
       "\n",
       "    .dataframe thead th {\n",
       "        text-align: right;\n",
       "    }\n",
       "</style>\n",
       "<table border=\"1\" class=\"dataframe\">\n",
       "  <thead>\n",
       "    <tr style=\"text-align: right;\">\n",
       "      <th></th>\n",
       "      <th>SK_ID_CURR</th>\n",
       "      <th>TARGET</th>\n",
       "      <th>NAME_CONTRACT_TYPE</th>\n",
       "      <th>CODE_GENDER</th>\n",
       "      <th>FLAG_OWN_CAR</th>\n",
       "      <th>FLAG_OWN_REALTY</th>\n",
       "      <th>CNT_CHILDREN</th>\n",
       "      <th>AMT_INCOME_TOTAL</th>\n",
       "      <th>AMT_CREDIT</th>\n",
       "      <th>AMT_ANNUITY</th>\n",
       "      <th>...</th>\n",
       "      <th>FLAG_DOCUMENT_18</th>\n",
       "      <th>FLAG_DOCUMENT_19</th>\n",
       "      <th>FLAG_DOCUMENT_20</th>\n",
       "      <th>FLAG_DOCUMENT_21</th>\n",
       "      <th>AMT_REQ_CREDIT_BUREAU_HOUR</th>\n",
       "      <th>AMT_REQ_CREDIT_BUREAU_DAY</th>\n",
       "      <th>AMT_REQ_CREDIT_BUREAU_WEEK</th>\n",
       "      <th>AMT_REQ_CREDIT_BUREAU_MON</th>\n",
       "      <th>AMT_REQ_CREDIT_BUREAU_QRT</th>\n",
       "      <th>AMT_REQ_CREDIT_BUREAU_YEAR</th>\n",
       "    </tr>\n",
       "  </thead>\n",
       "  <tbody>\n",
       "    <tr>\n",
       "      <th>0</th>\n",
       "      <td>247330</td>\n",
       "      <td>0</td>\n",
       "      <td>Cash loans</td>\n",
       "      <td>F</td>\n",
       "      <td>N</td>\n",
       "      <td>N</td>\n",
       "      <td>0</td>\n",
       "      <td>157500.0</td>\n",
       "      <td>706410.0</td>\n",
       "      <td>67072.5</td>\n",
       "      <td>...</td>\n",
       "      <td>0</td>\n",
       "      <td>0</td>\n",
       "      <td>0</td>\n",
       "      <td>0</td>\n",
       "      <td>0.0</td>\n",
       "      <td>0.0</td>\n",
       "      <td>0.0</td>\n",
       "      <td>0.0</td>\n",
       "      <td>0.0</td>\n",
       "      <td>1.0</td>\n",
       "    </tr>\n",
       "    <tr>\n",
       "      <th>1</th>\n",
       "      <td>425716</td>\n",
       "      <td>1</td>\n",
       "      <td>Cash loans</td>\n",
       "      <td>F</td>\n",
       "      <td>Y</td>\n",
       "      <td>Y</td>\n",
       "      <td>1</td>\n",
       "      <td>121500.0</td>\n",
       "      <td>545040.0</td>\n",
       "      <td>25407.0</td>\n",
       "      <td>...</td>\n",
       "      <td>0</td>\n",
       "      <td>0</td>\n",
       "      <td>0</td>\n",
       "      <td>0</td>\n",
       "      <td>0.0</td>\n",
       "      <td>0.0</td>\n",
       "      <td>0.0</td>\n",
       "      <td>0.0</td>\n",
       "      <td>0.0</td>\n",
       "      <td>0.0</td>\n",
       "    </tr>\n",
       "    <tr>\n",
       "      <th>2</th>\n",
       "      <td>331625</td>\n",
       "      <td>0</td>\n",
       "      <td>Cash loans</td>\n",
       "      <td>M</td>\n",
       "      <td>Y</td>\n",
       "      <td>Y</td>\n",
       "      <td>1</td>\n",
       "      <td>225000.0</td>\n",
       "      <td>942300.0</td>\n",
       "      <td>27679.5</td>\n",
       "      <td>...</td>\n",
       "      <td>0</td>\n",
       "      <td>0</td>\n",
       "      <td>0</td>\n",
       "      <td>0</td>\n",
       "      <td>0.0</td>\n",
       "      <td>0.0</td>\n",
       "      <td>0.0</td>\n",
       "      <td>0.0</td>\n",
       "      <td>0.0</td>\n",
       "      <td>1.0</td>\n",
       "    </tr>\n",
       "    <tr>\n",
       "      <th>3</th>\n",
       "      <td>455397</td>\n",
       "      <td>0</td>\n",
       "      <td>Revolving loans</td>\n",
       "      <td>F</td>\n",
       "      <td>N</td>\n",
       "      <td>Y</td>\n",
       "      <td>2</td>\n",
       "      <td>144000.0</td>\n",
       "      <td>180000.0</td>\n",
       "      <td>9000.0</td>\n",
       "      <td>...</td>\n",
       "      <td>0</td>\n",
       "      <td>0</td>\n",
       "      <td>0</td>\n",
       "      <td>0</td>\n",
       "      <td>0.0</td>\n",
       "      <td>0.0</td>\n",
       "      <td>0.0</td>\n",
       "      <td>0.0</td>\n",
       "      <td>1.0</td>\n",
       "      <td>2.0</td>\n",
       "    </tr>\n",
       "    <tr>\n",
       "      <th>4</th>\n",
       "      <td>449114</td>\n",
       "      <td>0</td>\n",
       "      <td>Cash loans</td>\n",
       "      <td>F</td>\n",
       "      <td>N</td>\n",
       "      <td>Y</td>\n",
       "      <td>0</td>\n",
       "      <td>112500.0</td>\n",
       "      <td>729792.0</td>\n",
       "      <td>37390.5</td>\n",
       "      <td>...</td>\n",
       "      <td>0</td>\n",
       "      <td>0</td>\n",
       "      <td>0</td>\n",
       "      <td>0</td>\n",
       "      <td>0.0</td>\n",
       "      <td>0.0</td>\n",
       "      <td>0.0</td>\n",
       "      <td>0.0</td>\n",
       "      <td>1.0</td>\n",
       "      <td>0.0</td>\n",
       "    </tr>\n",
       "  </tbody>\n",
       "</table>\n",
       "<p>5 rows × 122 columns</p>\n",
       "</div>"
      ],
      "text/plain": [
       "   SK_ID_CURR  TARGET NAME_CONTRACT_TYPE CODE_GENDER FLAG_OWN_CAR  \\\n",
       "0      247330       0         Cash loans           F            N   \n",
       "1      425716       1         Cash loans           F            Y   \n",
       "2      331625       0         Cash loans           M            Y   \n",
       "3      455397       0    Revolving loans           F            N   \n",
       "4      449114       0         Cash loans           F            N   \n",
       "\n",
       "  FLAG_OWN_REALTY  CNT_CHILDREN  AMT_INCOME_TOTAL  AMT_CREDIT  AMT_ANNUITY  \\\n",
       "0               N             0          157500.0    706410.0      67072.5   \n",
       "1               Y             1          121500.0    545040.0      25407.0   \n",
       "2               Y             1          225000.0    942300.0      27679.5   \n",
       "3               Y             2          144000.0    180000.0       9000.0   \n",
       "4               Y             0          112500.0    729792.0      37390.5   \n",
       "\n",
       "   ...  FLAG_DOCUMENT_18 FLAG_DOCUMENT_19 FLAG_DOCUMENT_20 FLAG_DOCUMENT_21  \\\n",
       "0  ...                 0                0                0                0   \n",
       "1  ...                 0                0                0                0   \n",
       "2  ...                 0                0                0                0   \n",
       "3  ...                 0                0                0                0   \n",
       "4  ...                 0                0                0                0   \n",
       "\n",
       "  AMT_REQ_CREDIT_BUREAU_HOUR AMT_REQ_CREDIT_BUREAU_DAY  \\\n",
       "0                        0.0                       0.0   \n",
       "1                        0.0                       0.0   \n",
       "2                        0.0                       0.0   \n",
       "3                        0.0                       0.0   \n",
       "4                        0.0                       0.0   \n",
       "\n",
       "   AMT_REQ_CREDIT_BUREAU_WEEK  AMT_REQ_CREDIT_BUREAU_MON  \\\n",
       "0                         0.0                        0.0   \n",
       "1                         0.0                        0.0   \n",
       "2                         0.0                        0.0   \n",
       "3                         0.0                        0.0   \n",
       "4                         0.0                        0.0   \n",
       "\n",
       "   AMT_REQ_CREDIT_BUREAU_QRT  AMT_REQ_CREDIT_BUREAU_YEAR  \n",
       "0                        0.0                         1.0  \n",
       "1                        0.0                         0.0  \n",
       "2                        0.0                         1.0  \n",
       "3                        1.0                         2.0  \n",
       "4                        1.0                         0.0  \n",
       "\n",
       "[5 rows x 122 columns]"
      ]
     },
     "execution_count": 5,
     "metadata": {},
     "output_type": "execute_result"
    }
   ],
   "source": [
    "data.head(5)"
   ]
  },
  {
   "cell_type": "code",
   "execution_count": 6,
   "metadata": {},
   "outputs": [
    {
     "name": "stdout",
     "output_type": "stream",
     "text": [
      "<class 'pandas.core.frame.DataFrame'>\n",
      "RangeIndex: 215257 entries, 0 to 215256\n",
      "Columns: 122 entries, SK_ID_CURR to AMT_REQ_CREDIT_BUREAU_YEAR\n",
      "dtypes: float64(65), int64(41), object(16)\n",
      "memory usage: 200.4+ MB\n"
     ]
    }
   ],
   "source": [
    "data.info()"
   ]
  },
  {
   "cell_type": "code",
   "execution_count": 7,
   "metadata": {},
   "outputs": [
    {
     "data": {
      "text/plain": [
       "array(['SK_ID_CURR', 'TARGET', 'NAME_CONTRACT_TYPE', 'CODE_GENDER',\n",
       "       'FLAG_OWN_CAR', 'FLAG_OWN_REALTY', 'CNT_CHILDREN',\n",
       "       'AMT_INCOME_TOTAL', 'AMT_CREDIT', 'AMT_ANNUITY', 'AMT_GOODS_PRICE',\n",
       "       'NAME_TYPE_SUITE', 'NAME_INCOME_TYPE', 'NAME_EDUCATION_TYPE',\n",
       "       'NAME_FAMILY_STATUS', 'NAME_HOUSING_TYPE',\n",
       "       'REGION_POPULATION_RELATIVE', 'DAYS_BIRTH', 'DAYS_EMPLOYED',\n",
       "       'DAYS_REGISTRATION', 'DAYS_ID_PUBLISH', 'OWN_CAR_AGE',\n",
       "       'FLAG_MOBIL', 'FLAG_EMP_PHONE', 'FLAG_WORK_PHONE',\n",
       "       'FLAG_CONT_MOBILE', 'FLAG_PHONE', 'FLAG_EMAIL', 'OCCUPATION_TYPE',\n",
       "       'CNT_FAM_MEMBERS', 'REGION_RATING_CLIENT',\n",
       "       'REGION_RATING_CLIENT_W_CITY', 'WEEKDAY_APPR_PROCESS_START',\n",
       "       'HOUR_APPR_PROCESS_START', 'REG_REGION_NOT_LIVE_REGION',\n",
       "       'REG_REGION_NOT_WORK_REGION', 'LIVE_REGION_NOT_WORK_REGION',\n",
       "       'REG_CITY_NOT_LIVE_CITY', 'REG_CITY_NOT_WORK_CITY',\n",
       "       'LIVE_CITY_NOT_WORK_CITY', 'ORGANIZATION_TYPE', 'EXT_SOURCE_1',\n",
       "       'EXT_SOURCE_2', 'EXT_SOURCE_3', 'APARTMENTS_AVG',\n",
       "       'BASEMENTAREA_AVG', 'YEARS_BEGINEXPLUATATION_AVG',\n",
       "       'YEARS_BUILD_AVG', 'COMMONAREA_AVG', 'ELEVATORS_AVG',\n",
       "       'ENTRANCES_AVG', 'FLOORSMAX_AVG', 'FLOORSMIN_AVG', 'LANDAREA_AVG',\n",
       "       'LIVINGAPARTMENTS_AVG', 'LIVINGAREA_AVG',\n",
       "       'NONLIVINGAPARTMENTS_AVG', 'NONLIVINGAREA_AVG', 'APARTMENTS_MODE',\n",
       "       'BASEMENTAREA_MODE', 'YEARS_BEGINEXPLUATATION_MODE',\n",
       "       'YEARS_BUILD_MODE', 'COMMONAREA_MODE', 'ELEVATORS_MODE',\n",
       "       'ENTRANCES_MODE', 'FLOORSMAX_MODE', 'FLOORSMIN_MODE',\n",
       "       'LANDAREA_MODE', 'LIVINGAPARTMENTS_MODE', 'LIVINGAREA_MODE',\n",
       "       'NONLIVINGAPARTMENTS_MODE', 'NONLIVINGAREA_MODE',\n",
       "       'APARTMENTS_MEDI', 'BASEMENTAREA_MEDI',\n",
       "       'YEARS_BEGINEXPLUATATION_MEDI', 'YEARS_BUILD_MEDI',\n",
       "       'COMMONAREA_MEDI', 'ELEVATORS_MEDI', 'ENTRANCES_MEDI',\n",
       "       'FLOORSMAX_MEDI', 'FLOORSMIN_MEDI', 'LANDAREA_MEDI',\n",
       "       'LIVINGAPARTMENTS_MEDI', 'LIVINGAREA_MEDI',\n",
       "       'NONLIVINGAPARTMENTS_MEDI', 'NONLIVINGAREA_MEDI',\n",
       "       'FONDKAPREMONT_MODE', 'HOUSETYPE_MODE', 'TOTALAREA_MODE',\n",
       "       'WALLSMATERIAL_MODE', 'EMERGENCYSTATE_MODE',\n",
       "       'OBS_30_CNT_SOCIAL_CIRCLE', 'DEF_30_CNT_SOCIAL_CIRCLE',\n",
       "       'OBS_60_CNT_SOCIAL_CIRCLE', 'DEF_60_CNT_SOCIAL_CIRCLE',\n",
       "       'DAYS_LAST_PHONE_CHANGE', 'FLAG_DOCUMENT_2', 'FLAG_DOCUMENT_3',\n",
       "       'FLAG_DOCUMENT_4', 'FLAG_DOCUMENT_5', 'FLAG_DOCUMENT_6',\n",
       "       'FLAG_DOCUMENT_7', 'FLAG_DOCUMENT_8', 'FLAG_DOCUMENT_9',\n",
       "       'FLAG_DOCUMENT_10', 'FLAG_DOCUMENT_11', 'FLAG_DOCUMENT_12',\n",
       "       'FLAG_DOCUMENT_13', 'FLAG_DOCUMENT_14', 'FLAG_DOCUMENT_15',\n",
       "       'FLAG_DOCUMENT_16', 'FLAG_DOCUMENT_17', 'FLAG_DOCUMENT_18',\n",
       "       'FLAG_DOCUMENT_19', 'FLAG_DOCUMENT_20', 'FLAG_DOCUMENT_21',\n",
       "       'AMT_REQ_CREDIT_BUREAU_HOUR', 'AMT_REQ_CREDIT_BUREAU_DAY',\n",
       "       'AMT_REQ_CREDIT_BUREAU_WEEK', 'AMT_REQ_CREDIT_BUREAU_MON',\n",
       "       'AMT_REQ_CREDIT_BUREAU_QRT', 'AMT_REQ_CREDIT_BUREAU_YEAR'],\n",
       "      dtype=object)"
      ]
     },
     "execution_count": 7,
     "metadata": {},
     "output_type": "execute_result"
    }
   ],
   "source": [
    "data.columns.values"
   ]
  },
  {
   "cell_type": "code",
   "execution_count": 8,
   "metadata": {},
   "outputs": [
    {
     "data": {
      "text/plain": [
       "67"
      ]
     },
     "execution_count": 8,
     "metadata": {},
     "output_type": "execute_result"
    }
   ],
   "source": [
    "(data.isna().sum() != 0).sum()"
   ]
  },
  {
   "cell_type": "code",
   "execution_count": 9,
   "metadata": {},
   "outputs": [
    {
     "data": {
      "text/plain": [
       "array([0.00000000e+00, 0.00000000e+00, 0.00000000e+00, 0.00000000e+00,\n",
       "       0.00000000e+00, 0.00000000e+00, 0.00000000e+00, 0.00000000e+00,\n",
       "       0.00000000e+00, 3.71648773e-05, 9.24476324e-04, 4.24144163e-03,\n",
       "       0.00000000e+00, 0.00000000e+00, 0.00000000e+00, 0.00000000e+00,\n",
       "       0.00000000e+00, 0.00000000e+00, 0.00000000e+00, 0.00000000e+00,\n",
       "       0.00000000e+00, 6.58914693e-01, 0.00000000e+00, 0.00000000e+00,\n",
       "       0.00000000e+00, 0.00000000e+00, 0.00000000e+00, 0.00000000e+00,\n",
       "       3.13155902e-01, 4.64560967e-06, 0.00000000e+00, 0.00000000e+00,\n",
       "       0.00000000e+00, 0.00000000e+00, 0.00000000e+00, 0.00000000e+00,\n",
       "       0.00000000e+00, 0.00000000e+00, 0.00000000e+00, 0.00000000e+00,\n",
       "       0.00000000e+00, 5.63275526e-01, 2.19737337e-03, 1.99003981e-01,\n",
       "       5.07765137e-01, 5.85272488e-01, 4.87737913e-01, 6.64967922e-01,\n",
       "       6.98592845e-01, 5.32948987e-01, 5.03667709e-01, 4.97925735e-01,\n",
       "       6.78240429e-01, 5.93741435e-01, 6.83271624e-01, 5.02116075e-01,\n",
       "       6.94086603e-01, 5.52307242e-01, 5.07765137e-01, 5.85272488e-01,\n",
       "       4.87737913e-01, 6.64967922e-01, 6.98592845e-01, 5.32948987e-01,\n",
       "       5.03667709e-01, 4.97925735e-01, 6.78240429e-01, 5.93741435e-01,\n",
       "       6.83271624e-01, 5.02116075e-01, 6.94086603e-01, 5.52307242e-01,\n",
       "       5.07765137e-01, 5.85272488e-01, 4.87737913e-01, 6.64967922e-01,\n",
       "       6.98592845e-01, 5.32948987e-01, 5.03667709e-01, 4.97925735e-01,\n",
       "       6.78240429e-01, 5.93741435e-01, 6.83271624e-01, 5.02116075e-01,\n",
       "       6.94086603e-01, 5.52307242e-01, 6.83754768e-01, 5.01916314e-01,\n",
       "       4.82702072e-01, 5.08601346e-01, 4.74116986e-01, 3.27050921e-03,\n",
       "       3.27050921e-03, 3.27050921e-03, 3.27050921e-03, 4.64560967e-06,\n",
       "       0.00000000e+00, 0.00000000e+00, 0.00000000e+00, 0.00000000e+00,\n",
       "       0.00000000e+00, 0.00000000e+00, 0.00000000e+00, 0.00000000e+00,\n",
       "       0.00000000e+00, 0.00000000e+00, 0.00000000e+00, 0.00000000e+00,\n",
       "       0.00000000e+00, 0.00000000e+00, 0.00000000e+00, 0.00000000e+00,\n",
       "       0.00000000e+00, 0.00000000e+00, 0.00000000e+00, 0.00000000e+00,\n",
       "       1.35419522e-01, 1.35419522e-01, 1.35419522e-01, 1.35419522e-01,\n",
       "       1.35419522e-01, 1.35419522e-01])"
      ]
     },
     "execution_count": 9,
     "metadata": {},
     "output_type": "execute_result"
    }
   ],
   "source": [
    "data.isna().mean().values"
   ]
  },
  {
   "cell_type": "code",
   "execution_count": 10,
   "metadata": {},
   "outputs": [],
   "source": [
    "y = data[\"TARGET\"].values\n",
    "X = data.drop(columns=[\"TARGET\", \"SK_ID_CURR\"])"
   ]
  },
  {
   "cell_type": "code",
   "execution_count": 11,
   "metadata": {},
   "outputs": [
    {
     "data": {
      "text/plain": [
       "(215257, 120)"
      ]
     },
     "execution_count": 11,
     "metadata": {},
     "output_type": "execute_result"
    }
   ],
   "source": [
    "X.shape"
   ]
  },
  {
   "cell_type": "code",
   "execution_count": 12,
   "metadata": {},
   "outputs": [
    {
     "data": {
      "text/plain": [
       "(0.08088935551457095, 17412)"
      ]
     },
     "execution_count": 12,
     "metadata": {},
     "output_type": "execute_result"
    }
   ],
   "source": [
    "y.mean(), y.sum()  # первого класса очень мало"
   ]
  },
  {
   "cell_type": "code",
   "execution_count": 13,
   "metadata": {},
   "outputs": [],
   "source": [
    "object_cols = X.columns[X.dtypes == object]\n",
    "int_cols = X.columns[X.dtypes == int]\n",
    "float_cols = X.columns[X.dtypes == float]\n",
    "non_object_cols = X.columns[X.dtypes != object]"
   ]
  },
  {
   "cell_type": "code",
   "execution_count": 14,
   "metadata": {},
   "outputs": [],
   "source": [
    "X[non_object_cols] = X[non_object_cols].fillna(X[non_object_cols].mean())\n",
    "X[object_cols] = X[object_cols].fillna(\"UNKNOWN(NAN)\")"
   ]
  },
  {
   "cell_type": "code",
   "execution_count": 17,
   "metadata": {},
   "outputs": [],
   "source": [
    "from sklearn.feature_selection import f_regression"
   ]
  },
  {
   "cell_type": "code",
   "execution_count": 18,
   "metadata": {},
   "outputs": [],
   "source": [
    "corr = f_regression(X[non_object_cols].values, y, center=True)"
   ]
  },
  {
   "cell_type": "code",
   "execution_count": 19,
   "metadata": {},
   "outputs": [
    {
     "data": {
      "image/png": "[encoded data removed]",
      "text/plain": [
       "<Figure size 2160x504 with 1 Axes>"
      ]
     },
     "metadata": {},
     "output_type": "display_data"
    }
   ],
   "source": [
    "plt.figure(figsize=(30, 7))\n",
    "threshold = 0.001\n",
    "bar = sn.barplot(y=corr[1][corr[1] > threshold], x=np.arange(non_object_cols.size)[corr[1] > threshold])\n",
    "plt.title(\"p-value для проверки гипотезы скоррелированности признака и тагрета\")\n",
    "plt.show()"
   ]
  },
  {
   "cell_type": "markdown",
   "metadata": {},
   "source": [
    "**Пока обойдемся без выкидывания признаков**  \n",
    "Сейчас подумал, что странно смотреть на корреляцию признаков и бинарного таргета...  \n",
    "но это слишком красивая картинка, поэтому оставлю "
   ]
  },
  {
   "cell_type": "code",
   "execution_count": 20,
   "metadata": {},
   "outputs": [],
   "source": [
    "X_train, X_test, y_train, y_test = train_test_split(\n",
    "    X, y, train_size=0.7, shuffle=True, stratify=y, random_state=42)"
   ]
  },
  {
   "cell_type": "markdown",
   "metadata": {},
   "source": [
    "**Задание 5 (1 балл)**"
   ]
  },
  {
   "cell_type": "markdown",
   "metadata": {},
   "source": [
    "Обучите реализации градиентного бустинга LightGBM и Catboost на вещественных признаках без подбора параметров. **Получилась ли заметная разнциа в качестве? Как вы думаете, почему?**\n",
    "\n",
    "**Замечание:**\n",
    "* В этом и последующих экспериментах необходимо измерять время обучения моделей."
   ]
  },
  {
   "cell_type": "code",
   "execution_count": 21,
   "metadata": {},
   "outputs": [],
   "source": [
    "import lightgbm as lgb\n",
    "from catboost import CatBoostClassifier"
   ]
  },
  {
   "cell_type": "code",
   "execution_count": 202,
   "metadata": {},
   "outputs": [
    {
     "name": "stdout",
     "output_type": "stream",
     "text": [
      "3.32 s ± 0 ns per loop (mean ± std. dev. of 1 run, 1 loop each)\n",
      "31.2 s ± 0 ns per loop (mean ± std. dev. of 1 run, 1 loop each)\n"
     ]
    }
   ],
   "source": [
    "lgb_model = lgb.LGBMClassifier(verbose=0)\n",
    "cat_model = CatBoostClassifier(verbose=0)\n",
    "\n",
    "\n",
    "lgb_time = %timeit -n 1 -r 1 lgb_model.fit(X_train[non_object_cols], y_train)\n",
    "cat_time = %timeit -n 1 -r 1 cat_model.fit(X_train[non_object_cols], y_train)\n",
    "\n",
    "lgb_pred = lgb_model.predict_proba(X_test[non_object_cols])\n",
    "cat_pred = cat_model.predict_proba(X_test[non_object_cols])"
   ]
  },
  {
   "cell_type": "code",
   "execution_count": 203,
   "metadata": {},
   "outputs": [
    {
     "name": "stdout",
     "output_type": "stream",
     "text": [
      "Lgb: pr_score = 0.2322\n",
      "CatBoost: pr_score = 0.2334\n"
     ]
    }
   ],
   "source": [
    "pr = precision_recall_curve(y_test, lgb_pred[:, 1])\n",
    "print(f\"Lgb: pr_score = {auc(pr[1],pr[0]):.4f}\")\n",
    "pr = precision_recall_curve(y_test, cat_pred[:, 1])\n",
    "print(f\"CatBoost: pr_score = {auc(pr[1],pr[0]):.4f}\")"
   ]
  },
  {
   "cell_type": "markdown",
   "metadata": {},
   "source": [
    "**Ответ:** Разница между LGB и CatBoost получилась несущественной. Скорее всего это связано с тем, что мы не используем все признаки и не подбирали гиперпараметры на кросс-валидации"
   ]
  },
  {
   "cell_type": "markdown",
   "metadata": {},
   "source": [
    "__Задание 6. (2 балла)__\n",
    "\n",
    "Подберите оптимальные с точки зрения метрики качества параметры алгоритмов, изменяя:\n",
    "\n",
    "* глубину деревьев;\n",
    "* количество деревьев;\n",
    "* темп обучения;\n",
    "* оптимизируемый функционал.\n",
    "\n",
    "Масштаб значений предлагается посмотреть [тут](https://github.com/esokolov/ml-course-hse/blob/master/2019-fall/seminars/sem10-gbm.ipynb).\n",
    "\n",
    "**Проанализируйте соотношения получившихся оптимальных глубины и количества деревьев в зависимости от алгоритма.** \n",
    "\n",
    "**Если на перебор гиперпараметров уходит много времени, то переберите значениях каких-нибудь 1-2 гиперпараметров, а не всех предложенных 4**"
   ]
  },
  {
   "cell_type": "code",
   "execution_count": 28,
   "metadata": {},
   "outputs": [],
   "source": [
    "from sklearn.metrics import make_scorer\n",
    "\n",
    "\n",
    "def pr_score(y_true, y_pred):\n",
    "    pr = precision_recall_curve(y_true, y_pred)\n",
    "    return auc(pr[1], pr[0])\n",
    "\n",
    "\n",
    "sk_pr_score = make_scorer(pr_score, greater_is_better=True, needs_proba=True)"
   ]
  },
  {
   "cell_type": "code",
   "execution_count": 29,
   "metadata": {},
   "outputs": [],
   "source": [
    "from sklearn.model_selection import GridSearchCV\n",
    "from sklearn.metrics import roc_auc_score"
   ]
  },
  {
   "cell_type": "code",
   "execution_count": 30,
   "metadata": {},
   "outputs": [],
   "source": [
    "metrics = {\"pr_auc\": sk_pr_score, \"roc_auc\": \"roc_auc\"}\n",
    "\n",
    "learning_rate = [0.01, 0.1, 0.2, 1]\n",
    "max_depth = [-1, 3, 5, 7]\n",
    "num_estimators = [30, 50, 100, 300, 800]\n",
    "# лосс функцию решил не подбирать и оставить по умолчанию"
   ]
  },
  {
   "cell_type": "markdown",
   "metadata": {},
   "source": [
    "## LightGBM"
   ]
  },
  {
   "cell_type": "code",
   "execution_count": 208,
   "metadata": {},
   "outputs": [
    {
     "data": {
      "text/plain": [
       "GridSearchCV(cv=3, estimator=LGBMClassifier(random_state=42),\n",
       "             param_grid={'learning_rate': [0.01, 0.1, 0.2, 1],\n",
       "                         'max_depth': [-1, 3, 5, 7],\n",
       "                         'n_estimators': [10, 50, 100, 300, 800]},\n",
       "             refit=False,\n",
       "             scoring={'pr_auc': make_scorer(pr_score, needs_proba=True),\n",
       "                      'roc_auc': 'roc_auc'})"
      ]
     },
     "execution_count": 208,
     "metadata": {},
     "output_type": "execute_result"
    }
   ],
   "source": [
    "params = {\n",
    "    \"learning_rate\": learning_rate,\n",
    "    \"max_depth\": max_depth,\n",
    "    \"n_estimators\": num_estimators\n",
    "}\n",
    "\n",
    "gs = GridSearchCV(lgb.LGBMClassifier(random_state=42), params, scoring=metrics, cv=3, refit=False)\n",
    "gs.fit(X_train[non_object_cols], y_train)"
   ]
  },
  {
   "cell_type": "code",
   "execution_count": 209,
   "metadata": {},
   "outputs": [],
   "source": [
    "params = gs.cv_results_[\"params\"]\n",
    "pr_auc_score_lgb = gs.cv_results_[\"mean_test_pr_auc\"]\n",
    "best_params = params[pr_auc_score_lgb.argmax()]"
   ]
  },
  {
   "cell_type": "code",
   "execution_count": 211,
   "metadata": {},
   "outputs": [
    {
     "name": "stdout",
     "output_type": "stream",
     "text": [
      "pr_auc: 0.23116781845292245\n",
      "best_params {'learning_rate': 0.1, 'max_depth': 3, 'n_estimators': 300}\n"
     ]
    }
   ],
   "source": [
    "print(\"pr_auc:\", pr_auc_score_lgb.max())\n",
    "print(\"best_params\", best_params)"
   ]
  },
  {
   "cell_type": "markdown",
   "metadata": {},
   "source": [
    "### На тестовой выборке"
   ]
  },
  {
   "cell_type": "code",
   "execution_count": 289,
   "metadata": {},
   "outputs": [
    {
     "name": "stdout",
     "output_type": "stream",
     "text": [
      "4.85 s ± 0 ns per loop (mean ± std. dev. of 1 run, 1 loop each)\n"
     ]
    }
   ],
   "source": [
    "lgb_model = lgb.LGBMClassifier(**best_params, random_state=42)\n",
    "lgb_time = %timeit - n 1 - r 1 lgb_model.fit(X_train[non_object_cols], y_train)\n",
    "y_pred = lgb_model.predict_proba(X_test[non_object_cols])"
   ]
  },
  {
   "cell_type": "code",
   "execution_count": 290,
   "metadata": {},
   "outputs": [
    {
     "data": {
      "text/plain": [
       "('PR_AUC:', 0.23587191141175973, 'ROC_AUC:', 0.7505198646932741)"
      ]
     },
     "execution_count": 290,
     "metadata": {},
     "output_type": "execute_result"
    }
   ],
   "source": [
    "\"PR_AUC:\", pr_score(y_test, y_pred[:, 1]), \"ROC_AUC:\", roc_auc_score(y_test, y_pred[:, 1])"
   ]
  },
  {
   "cell_type": "markdown",
   "metadata": {},
   "source": [
    "## CatBoost"
   ]
  },
  {
   "cell_type": "code",
   "execution_count": 231,
   "metadata": {},
   "outputs": [],
   "source": [
    "metrics = {\"pr_auc\": sk_pr_score, \"roc_auc\": \"roc_auc\"}\n",
    "\n",
    "learning_rate = [0.01, 0.1, 1]\n",
    "max_depth = [3, 6, 7]\n",
    "num_estimators = [30, 50, 100, 300, 800]"
   ]
  },
  {
   "cell_type": "code",
   "execution_count": 232,
   "metadata": {},
   "outputs": [
    {
     "data": {
      "text/plain": [
       "GridSearchCV(cv=3,\n",
       "             estimator=<catboost.core.CatBoostClassifier object at 0x7f0449df00a0>,\n",
       "             param_grid={'depth': [3, 6, 7], 'iterations': [50, 100, 300, 800],\n",
       "                         'learning_rate': [0.01, 0.1, 1]},\n",
       "             refit=False,\n",
       "             scoring={'pr_auc': make_scorer(pr_score, needs_proba=True),\n",
       "                      'roc_auc': 'roc_auc'})"
      ]
     },
     "execution_count": 232,
     "metadata": {},
     "output_type": "execute_result"
    }
   ],
   "source": [
    "params = {\n",
    "    \"learning_rate\": learning_rate,\n",
    "    \"depth\": max_depth,\n",
    "    \"iterations\": num_estimators\n",
    "}\n",
    "\n",
    "gs = GridSearchCV(CatBoostClassifier(random_state=42, verbose=False),\n",
    "                  params, scoring=metrics, cv=3, refit=False)\n",
    "gs.fit(X_train[non_object_cols], y_train)"
   ]
  },
  {
   "cell_type": "code",
   "execution_count": 233,
   "metadata": {},
   "outputs": [],
   "source": [
    "params = gs.cv_results_[\"params\"]\n",
    "pr_auc_score_lgb = gs.cv_results_[\"mean_test_pr_auc\"]\n",
    "best_params = params[pr_auc_score_lgb.argmax()]"
   ]
  },
  {
   "cell_type": "code",
   "execution_count": 234,
   "metadata": {},
   "outputs": [
    {
     "name": "stdout",
     "output_type": "stream",
     "text": [
      "pr_auc: 0.2321868149945545\n",
      "best_params {'depth': 3, 'iterations': 300, 'learning_rate': 0.1}\n"
     ]
    }
   ],
   "source": [
    "print(\"pr_auc:\", pr_auc_score_lgb.max())\n",
    "print(\"best_params\", best_params)"
   ]
  },
  {
   "cell_type": "code",
   "execution_count": 286,
   "metadata": {},
   "outputs": [
    {
     "name": "stdout",
     "output_type": "stream",
     "text": [
      "37.1 s ± 0 ns per loop (mean ± std. dev. of 1 run, 1 loop each)\n"
     ]
    }
   ],
   "source": [
    "сat_model = CatBoostClassifier(**best_params, random_state=42)\n",
    "cat_time = %timeit - n 1 - r 1 cat_model.fit(X_train[non_object_cols], y_train)\n",
    "y_pred = cat_model.predict_proba(X_test[non_object_cols])"
   ]
  },
  {
   "cell_type": "code",
   "execution_count": 288,
   "metadata": {},
   "outputs": [
    {
     "data": {
      "text/plain": [
       "('PR_AUC:', 0.23343237811742812, 'ROC_AUC:', 0.7508048272516121)"
      ]
     },
     "execution_count": 288,
     "metadata": {},
     "output_type": "execute_result"
    }
   ],
   "source": [
    "\"PR_AUC:\", pr_score(y_test, y_pred[:, 1]), \"ROC_AUC:\", roc_auc_score(y_test, y_pred[:, 1])"
   ]
  },
  {
   "cell_type": "markdown",
   "metadata": {},
   "source": [
    "**Ответ:**"
   ]
  },
  {
   "cell_type": "markdown",
   "metadata": {},
   "source": [
    "**Задание 7 (1.5 баллa)**\n",
    "\n",
    "Добавьте категориальные признаки к вещественным следующими способами:\n",
    "\n",
    "* как OHE признаки;\n",
    "* как счетчики со сглаживанием.\n",
    "\n",
    "Можно использовать библиотечные реализации; при подсчете счетчиков нельзя использовать циклы.\n",
    "\n",
    "Как меняется время, необходимое для обучения моделей в зависимости от способа кодирования? (Параметры можно не подбирать)."
   ]
  },
  {
   "cell_type": "markdown",
   "metadata": {},
   "source": [
    "## Счетчики"
   ]
  },
  {
   "cell_type": "code",
   "execution_count": 35,
   "metadata": {},
   "outputs": [],
   "source": [
    "from category_encoders import TargetEncoder, OneHotEncoder"
   ]
  },
  {
   "cell_type": "code",
   "execution_count": 36,
   "metadata": {},
   "outputs": [
    {
     "name": "stderr",
     "output_type": "stream",
     "text": [
      "/home/tyskiy/anaconda3/lib/python3.8/site-packages/category_encoders/utils.py:21: FutureWarning: is_categorical is deprecated and will be removed in a future version.  Use is_categorical_dtype instead\n",
      "  elif pd.api.types.is_categorical(cols):\n"
     ]
    }
   ],
   "source": [
    "tar_encoder = TargetEncoder(cols=object_cols)\n",
    "X_train_tar = tar_encoder.fit_transform(X_train, y_train)\n",
    "X_test_tar = tar_encoder.transform(X_test)"
   ]
  },
  {
   "cell_type": "markdown",
   "metadata": {},
   "source": [
    "### LightGBM"
   ]
  },
  {
   "cell_type": "code",
   "execution_count": 38,
   "metadata": {},
   "outputs": [
    {
     "name": "stdout",
     "output_type": "stream",
     "text": [
      "6.73 s ± 0 ns per loop (mean ± std. dev. of 1 run, 1 loop each)\n"
     ]
    }
   ],
   "source": [
    "lgb_model = lgb.LGBMClassifier(learning_rate=0.1, max_depth=4, n_estimators=300, random_state=42)\n",
    "lgb_time = %timeit - n 1 - r 1 lgb_model.fit(X_train_tar, y_train)\n",
    "y_pred = lgb_model.predict_proba(X_test_tar)"
   ]
  },
  {
   "cell_type": "code",
   "execution_count": 39,
   "metadata": {},
   "outputs": [
    {
     "data": {
      "text/plain": [
       "('PR_AUC:', 0.24164615486160107, 'ROC_AUC:', 0.7560477584050553)"
      ]
     },
     "execution_count": 39,
     "metadata": {},
     "output_type": "execute_result"
    }
   ],
   "source": [
    "\"PR_AUC:\", pr_score(y_test, y_pred[:, 1]), \"ROC_AUC:\", roc_auc_score(y_test, y_pred[:, 1])"
   ]
  },
  {
   "cell_type": "markdown",
   "metadata": {},
   "source": [
    "### CatBoost"
   ]
  },
  {
   "cell_type": "code",
   "execution_count": 42,
   "metadata": {},
   "outputs": [
    {
     "name": "stdout",
     "output_type": "stream",
     "text": [
      "12.4 s ± 0 ns per loop (mean ± std. dev. of 1 run, 1 loop each)\n"
     ]
    }
   ],
   "source": [
    "сat_model = CatBoostClassifier(depth=4, iterations=400, learning_rate=0.1, random_state=42, verbose=False)\n",
    "cat_time = %timeit - n 1 - r 1 сat_model.fit(X_train_tar, y_train)\n",
    "y_pred = сat_model.predict_proba(X_test_tar)"
   ]
  },
  {
   "cell_type": "code",
   "execution_count": 43,
   "metadata": {},
   "outputs": [
    {
     "data": {
      "text/plain": [
       "('PR_AUC:', 0.2461774832057446, 'ROC_AUC:', 0.7585524340653719)"
      ]
     },
     "execution_count": 43,
     "metadata": {},
     "output_type": "execute_result"
    }
   ],
   "source": [
    "\"PR_AUC:\", pr_score(y_test, y_pred[:, 1]), \"ROC_AUC:\", roc_auc_score(y_test, y_pred[:, 1])"
   ]
  },
  {
   "cell_type": "markdown",
   "metadata": {},
   "source": [
    "## Oh.. ONE HOT"
   ]
  },
  {
   "cell_type": "code",
   "execution_count": 44,
   "metadata": {},
   "outputs": [
    {
     "name": "stderr",
     "output_type": "stream",
     "text": [
      "/home/tyskiy/anaconda3/lib/python3.8/site-packages/category_encoders/utils.py:21: FutureWarning: is_categorical is deprecated and will be removed in a future version.  Use is_categorical_dtype instead\n",
      "  elif pd.api.types.is_categorical(cols):\n"
     ]
    }
   ],
   "source": [
    "hot_encoder = OneHotEncoder(cols=object_cols)\n",
    "X_train_hot = hot_encoder.fit_transform(X_train, y_train, cols=object_cols)\n",
    "X_test_hot = hot_encoder.transform(X_test)"
   ]
  },
  {
   "cell_type": "code",
   "execution_count": 45,
   "metadata": {},
   "outputs": [
    {
     "data": {
      "text/plain": [
       "(150679, 250)"
      ]
     },
     "execution_count": 45,
     "metadata": {},
     "output_type": "execute_result"
    }
   ],
   "source": [
    "X_train_hot.shape"
   ]
  },
  {
   "cell_type": "markdown",
   "metadata": {},
   "source": [
    "### LightGBM"
   ]
  },
  {
   "cell_type": "code",
   "execution_count": 48,
   "metadata": {},
   "outputs": [
    {
     "name": "stdout",
     "output_type": "stream",
     "text": [
      "8.61 s ± 0 ns per loop (mean ± std. dev. of 1 run, 1 loop each)\n"
     ]
    }
   ],
   "source": [
    "lgb_model = lgb.LGBMClassifier(learning_rate=0.1, max_depth=3,\n",
    "                               n_estimators=300, random_state=42)\n",
    "lgb_time = %timeit -n 1 -r 1 lgb_model.fit(X_train_hot, y_train)\n",
    "y_pred = lgb_model.predict_proba(X_test_hot)"
   ]
  },
  {
   "cell_type": "code",
   "execution_count": 49,
   "metadata": {},
   "outputs": [
    {
     "data": {
      "text/plain": [
       "('PR_AUC:', 0.24100907706327798, 'ROC_AUC:', 0.7569332654370968)"
      ]
     },
     "execution_count": 49,
     "metadata": {},
     "output_type": "execute_result"
    }
   ],
   "source": [
    "\"PR_AUC:\", pr_score(y_test, y_pred[:, 1]), \"ROC_AUC:\", roc_auc_score(y_test, y_pred[:, 1])"
   ]
  },
  {
   "cell_type": "markdown",
   "metadata": {},
   "source": [
    "### CatBoost"
   ]
  },
  {
   "cell_type": "code",
   "execution_count": 51,
   "metadata": {},
   "outputs": [
    {
     "name": "stdout",
     "output_type": "stream",
     "text": [
      "8.06 s ± 0 ns per loop (mean ± std. dev. of 1 run, 1 loop each)\n"
     ]
    }
   ],
   "source": [
    "сat_model = CatBoostClassifier(depth=3, iterations=300, learning_rate=0.1, random_state=42, verbose=False)\n",
    "cat_time = %timeit -n 1 -r 1 сat_model.fit(X_train_hot, y_train)\n",
    "y_pred = сat_model.predict_proba(X_test_hot)"
   ]
  },
  {
   "cell_type": "code",
   "execution_count": 52,
   "metadata": {},
   "outputs": [
    {
     "data": {
      "text/plain": [
       "('PR_AUC:', 0.24255900034426436, 'ROC_AUC:', 0.7560013810768427)"
      ]
     },
     "execution_count": 52,
     "metadata": {},
     "output_type": "execute_result"
    }
   ],
   "source": [
    "\"PR_AUC:\", pr_score(y_test, y_pred[:, 1]), \"ROC_AUC:\", roc_auc_score(y_test, y_pred[:, 1])"
   ]
  },
  {
   "cell_type": "markdown",
   "metadata": {},
   "source": [
    "**Задание 8 (1 балл)**\n",
    "\n",
    "Для CatBoost можно не делать ручную обработку категориальных признаков, а подавать как есть. Обучите модель CatBoost, не обрабатывая специально категориальные признаки, замерьте время обучения (параметры возьмите из предыдущего пункта).  Сравните с временем обучения модели CatBoost из предыдущего пункта. Как изменилось время? Почему?"
   ]
  },
  {
   "cell_type": "code",
   "execution_count": 54,
   "metadata": {},
   "outputs": [
    {
     "name": "stdout",
     "output_type": "stream",
     "text": [
      "48.6 s ± 0 ns per loop (mean ± std. dev. of 1 run, 1 loop each)\n"
     ]
    }
   ],
   "source": [
    "сat_model = CatBoostClassifier(depth=4, iterations=400, learning_rate=0.1,\n",
    "                               cat_features=object_cols,\n",
    "                               random_state=42, verbose=False)\n",
    "\n",
    "cat_time = %timeit -n 1 -r 1 сat_model.fit(X_train, y_train, cat_features=object_cols)\n",
    "y_pred = сat_model.predict_proba(X_test)"
   ]
  },
  {
   "cell_type": "code",
   "execution_count": 55,
   "metadata": {},
   "outputs": [
    {
     "data": {
      "text/plain": [
       "('PR_AUC:', 0.24402446793524174, 'ROC_AUC:', 0.7576827849834572)"
      ]
     },
     "execution_count": 55,
     "metadata": {},
     "output_type": "execute_result"
    }
   ],
   "source": [
    "\"PR_AUC:\", pr_score(y_test, y_pred[:, 1]), \"ROC_AUC:\", roc_auc_score(y_test, y_pred[:, 1])"
   ]
  },
  {
   "cell_type": "markdown",
   "metadata": {},
   "source": [
    "**Бонус. (1 балл)**\n",
    "\n",
    "Подберите оптимальные параметры для LightGBM с вещественными и категориальными признаками (предварительно обработанные каким-нибудь способом). Подберите оптимальные параметры для CatBoost с вещественными и необработанными категориальными признаками. Сравните качество моделей на наилучших параметрах. Какой метод получился лучше с точки зрения качества? Совпадает ли результат с вашими ожиданиями?"
   ]
  },
  {
   "cell_type": "code",
   "execution_count": 30,
   "metadata": {},
   "outputs": [],
   "source": [
    "metrics = {\"pr_auc\": sk_pr_score, \"roc_auc\": \"roc_auc\"}\n",
    "\n",
    "learning_rate = [0.01, 0.1, 0.2, 1]\n",
    "max_depth = [-1, 3, 5, 7]\n",
    "num_estimators = [30, 50, 100, 300, 800]\n",
    "# лосс функцию решил не подбирать и оставить по умолчанию"
   ]
  },
  {
   "cell_type": "markdown",
   "metadata": {},
   "source": [
    "## LightGBM"
   ]
  },
  {
   "cell_type": "code",
   "execution_count": 208,
   "metadata": {},
   "outputs": [
    {
     "data": {
      "text/plain": [
       "GridSearchCV(cv=3, estimator=LGBMClassifier(random_state=42),\n",
       "             param_grid={'learning_rate': [0.01, 0.1, 0.2, 1],\n",
       "                         'max_depth': [-1, 3, 5, 7],\n",
       "                         'n_estimators': [10, 50, 100, 300, 800]},\n",
       "             refit=False,\n",
       "             scoring={'pr_auc': make_scorer(pr_score, needs_proba=True),\n",
       "                      'roc_auc': 'roc_auc'})"
      ]
     },
     "execution_count": 208,
     "metadata": {},
     "output_type": "execute_result"
    }
   ],
   "source": [
    "params = {\n",
    "    \"learning_rate\": learning_rate,\n",
    "    \"max_depth\": max_depth,\n",
    "    \"n_estimators\": num_estimators\n",
    "}\n",
    "\n",
    "gs = GridSearchCV(lgb.LGBMClassifier(random_state=42), params, scoring=metrics, cv=3, refit=False)\n",
    "gs.fit(X_train_tar, y_train)"
   ]
  },
  {
   "cell_type": "code",
   "execution_count": 209,
   "metadata": {},
   "outputs": [],
   "source": [
    "params = gs.cv_results_[\"params\"]\n",
    "pr_auc_score_lgb = gs.cv_results_[\"mean_test_pr_auc\"]\n",
    "best_params = params[pr_auc_score_lgb.argmax()]"
   ]
  },
  {
   "cell_type": "code",
   "execution_count": 211,
   "metadata": {},
   "outputs": [
    {
     "name": "stdout",
     "output_type": "stream",
     "text": [
      "pr_auc: 0.23116781845292245\n",
      "best_params {'learning_rate': 0.1, 'max_depth': 3, 'n_estimators': 300}\n"
     ]
    }
   ],
   "source": [
    "print(\"pr_auc:\", pr_auc_score_lgb.max())\n",
    "print(\"best_params\", best_params)"
   ]
  },
  {
   "cell_type": "markdown",
   "metadata": {},
   "source": [
    "### На тестовой выборке"
   ]
  },
  {
   "cell_type": "code",
   "execution_count": 289,
   "metadata": {},
   "outputs": [
    {
     "name": "stdout",
     "output_type": "stream",
     "text": [
      "4.85 s ± 0 ns per loop (mean ± std. dev. of 1 run, 1 loop each)\n"
     ]
    }
   ],
   "source": [
    "lgb_model = lgb.LGBMClassifier(**best_params, random_state=42)\n",
    "lgb_time = %timeit - n 1 - r 1 lgb_model.fit(X_train_tar, y_train)\n",
    "y_pred = lgb_model.predict_proba(X_test_tar)"
   ]
  },
  {
   "cell_type": "code",
   "execution_count": 290,
   "metadata": {},
   "outputs": [
    {
     "data": {
      "text/plain": [
       "('PR_AUC:', 0.23587191141175973, 'ROC_AUC:', 0.7505198646932741)"
      ]
     },
     "execution_count": 290,
     "metadata": {},
     "output_type": "execute_result"
    }
   ],
   "source": [
    "\"PR_AUC:\", pr_score(y_test, y_pred[:, 1]), \"ROC_AUC:\", roc_auc_score(y_test, y_pred[:, 1])"
   ]
  },
  {
   "cell_type": "markdown",
   "metadata": {},
   "source": [
    "## CatBoost"
   ]
  },
  {
   "cell_type": "code",
   "execution_count": 231,
   "metadata": {},
   "outputs": [],
   "source": [
    "metrics = {\"pr_auc\": sk_pr_score, \"roc_auc\": \"roc_auc\"}\n",
    "\n",
    "learning_rate = [0.01, 0.1, 1]\n",
    "max_depth = [3, 4, 7]\n",
    "num_estimators = [30, 50, 100, 300, 800]"
   ]
  },
  {
   "cell_type": "code",
   "execution_count": 232,
   "metadata": {},
   "outputs": [
    {
     "data": {
      "text/plain": [
       "GridSearchCV(cv=3,\n",
       "             estimator=<catboost.core.CatBoostClassifier object at 0x7f0449df00a0>,\n",
       "             param_grid={'depth': [3, 6, 7], 'iterations': [50, 100, 300, 800],\n",
       "                         'learning_rate': [0.01, 0.1, 1]},\n",
       "             refit=False,\n",
       "             scoring={'pr_auc': make_scorer(pr_score, needs_proba=True),\n",
       "                      'roc_auc': 'roc_auc'})"
      ]
     },
     "execution_count": 232,
     "metadata": {},
     "output_type": "execute_result"
    }
   ],
   "source": [
    "params = {\n",
    "    \"learning_rate\": learning_rate,\n",
    "    \"depth\": max_depth,\n",
    "    \"iterations\": num_estimators\n",
    "}\n",
    "\n",
    "gs = GridSearchCV(CatBoostClassifier(random_state=42, cat_features=object_cols, verbose=False),\n",
    "                  params, scoring=metrics, cv=3, refit=False)\n",
    "gs.fit(X_train[non_object_cols], y_train)"
   ]
  },
  {
   "cell_type": "code",
   "execution_count": 233,
   "metadata": {},
   "outputs": [],
   "source": [
    "params = gs.cv_results_[\"params\"]\n",
    "pr_auc_score_lgb = gs.cv_results_[\"mean_test_pr_auc\"]\n",
    "best_params = params[pr_auc_score_lgb.argmax()]"
   ]
  },
  {
   "cell_type": "code",
   "execution_count": 234,
   "metadata": {},
   "outputs": [
    {
     "name": "stdout",
     "output_type": "stream",
     "text": [
      "pr_auc: 0.2321868149945545\n",
      "best_params {'depth': 3, 'iterations': 300, 'learning_rate': 0.1}\n"
     ]
    }
   ],
   "source": [
    "print(\"pr_auc:\", pr_auc_score_lgb.max())\n",
    "print(\"best_params\", best_params)"
   ]
  },
  {
   "cell_type": "code",
   "execution_count": 286,
   "metadata": {},
   "outputs": [
    {
     "name": "stdout",
     "output_type": "stream",
     "text": [
      "37.1 s ± 0 ns per loop (mean ± std. dev. of 1 run, 1 loop each)\n"
     ]
    }
   ],
   "source": [
    "сat_model = CatBoostClassifier(**best_params, cat_features=object_cols, random_state=42)\n",
    "cat_time = %timeit - n 1 - r 1 cat_model.fit(X_train[non_object_cols], y_train)\n",
    "y_pred = cat_model.predict_proba(X_test[non_object_cols])"
   ]
  },
  {
   "cell_type": "code",
   "execution_count": 288,
   "metadata": {},
   "outputs": [
    {
     "data": {
      "text/plain": [
       "('PR_AUC:', 0.23343237811742812, 'ROC_AUC:', 0.7508048272516121)"
      ]
     },
     "execution_count": 288,
     "metadata": {},
     "output_type": "execute_result"
    }
   ],
   "source": [
    "\"PR_AUC:\", pr_score(y_test, y_pred[:, 1]), \"ROC_AUC:\", roc_auc_score(y_test, y_pred[:, 1])"
   ]
  },
  {
   "cell_type": "markdown",
   "metadata": {},
   "source": [
    "**Бонус (0.2 балла)**\n",
    "\n",
    "Вставьте лучший мем 2020"
   ]
  },
  {
   "cell_type": "markdown",
   "metadata": {},
   "source": [
    "#### Your meme here ╰( ͡° ͜ʖ ͡° )つ──☆*:・ﾟ\n",
    "![](https://sun9-64.userapi.com/c841230/v841230917/34efa/Wd22hcNCTJc.jpg)"
   ]
  },
  {
   "cell_type": "code",
   "execution_count": null,
   "metadata": {},
   "outputs": [],
   "source": []
  }
 ],
 "metadata": {
  "kernelspec": {
   "display_name": "Python 3",
   "language": "python",
   "name": "python3"
  },
  "language_info": {
   "codemirror_mode": {
    "name": "ipython",
    "version": 3
   },
   "file_extension": ".py",
   "mimetype": "text/x-python",
   "name": "python",
   "nbconvert_exporter": "python",
   "pygments_lexer": "ipython3",
   "version": "3.8.3"
  }
 },
 "nbformat": 4,
 "nbformat_minor": 4
}
