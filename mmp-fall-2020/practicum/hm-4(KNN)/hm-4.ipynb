{
 "cells": [
  {
   "cell_type": "code",
   "execution_count": 2,
   "metadata": {},
   "outputs": [],
   "source": [
    "import nearest_neighbors as nn\n",
    "import cross_validation as cross_val\n",
    "import matplotlib.pyplot as plt\n",
    "import numpy as np\n",
    "from sklearn.datasets import fetch_openml\n",
    "from sklearn.model_selection import train_test_split"
   ]
  },
  {
   "cell_type": "code",
   "execution_count": 3,
   "metadata": {},
   "outputs": [],
   "source": [
    "mnist = fetch_openml('mnist_784')"
   ]
  },
  {
   "cell_type": "code",
   "execution_count": 4,
   "metadata": {},
   "outputs": [
    {
     "data": {
      "text/plain": [
       "((70000, 784), (70000,))"
      ]
     },
     "execution_count": 4,
     "metadata": {},
     "output_type": "execute_result"
    }
   ],
   "source": [
    "X = mnist.data\n",
    "y = mnist.target.astype(int)\n",
    "X.shape, y.shape"
   ]
  },
  {
   "cell_type": "code",
   "execution_count": 6,
   "metadata": {},
   "outputs": [],
   "source": [
    "X_train, X_test, y_train, y_test = train_test_split(X, y, test_size=10000, shuffle=True, random_state=42)"
   ]
  },
  {
   "cell_type": "markdown",
   "metadata": {},
   "source": [
    "## Задание №1"
   ]
  },
  {
   "cell_type": "code",
   "execution_count": null,
   "metadata": {},
   "outputs": [],
   "source": [
    "num_features = [10, 20, 100]\n",
    "select_features = [np.random.choice(np.arange(784), i, replace=False) for i in num_features]\n",
    "\n",
    "strategy = [\"my_own\", \"brute\", \"kd_tree\", \"ball_tree\"]\n",
    "metric = \"euclidean\"\n",
    "\n",
    "time = np.zeros((len(strategy), len(num_features)))\n",
    "\n",
    "ls = [\"-\", \"--\", \"-.\", \":\"]\n",
    "plt.figure(figsize=(10, 6))\n",
    "for i, strat in enumerate(strategy):\n",
    "    model = nn.KNNClassifier(5, strategy=strat, metric=metric)\n",
    "    for j, f in enumerate(select_features):\n",
    "        model.fit(X_train[:, f], y)\n",
    "        t = %timeit -q -o model.find_kneighbors(X_test[:, f])\n",
    "        time[i][j] = t.average\n",
    "    plt.plot(num_features, time[i], label=strat, ls=ls[i])\n",
    "\n",
    "plt.ylabel(\"Время с.\", size=12)\n",
    "plt.xlabel(\"Размерность пространства\", size=12)\n",
    "plt.yticks(np.linspace(time.min(), time.max(), 10).round(4))\n",
    "plt.xticks(np.arange(10, 101, 10))\n",
    "plt.title(\"Время работы в зависимости от размерности пространства\", size=14)\n",
    "plt.grid(True, color=\"lightgrey\")\n",
    "plt.legend(fontsize=12)\n",
    "plt.show()"
   ]
  },
  {
   "cell_type": "markdown",
   "metadata": {},
   "source": [
    "## Задание №2"
   ]
  },
  {
   "cell_type": "code",
   "execution_count": null,
   "metadata": {},
   "outputs": [],
   "source": [
    "X=X[:10000,:]\n",
    "y=y[:10000]"
   ]
  },
  {
   "cell_type": "code",
   "execution_count": null,
   "metadata": {},
   "outputs": [],
   "source": [
    "str_w = \"True\" if w else \"False\"\n",
    "rg = np.arange(1, 11)\n",
    "plt.figure(figsize=(10, 6))\n",
    "for w in [False, True]:\n",
    "\n",
    "    acc = cross_val.knn_cross_val_score(X, y, k_list=rg,\n",
    "                                        cv=cross_val.kfold(X.shape[0], 3),\n",
    "                                        strategy=\"brute\", weights=w)\n",
    "    plt.plot(rg, [sum(x[1])/len(x[1])for x in acc.items()],\n",
    "             ls=\"-.\",label=\"euclidean, weight=\"+str_w)\n",
    "\n",
    "    acc = cross_val.knn_cross_val_score(X, y, k_list=rg,\n",
    "                                        cv=cross_val.kfold(X.shape[0], 3),\n",
    "                                        metric=\"cosine\", weights=w)\n",
    "    plt.plot(rg, [sum(x[1])/len(x[1])for x in acc.items()],\n",
    "             ls=\"--\", label=\"cosine, weight=\"+str_w)\n",
    "\n",
    "plt.xticks(range(1, 11))\n",
    "plt.xlabel(\"количество соседей\", size=12)\n",
    "plt.ylabel(\"точность\", size=12)\n",
    "plt.title(\"Точность в зависимости от количества соседей\", size=14)\n",
    "plt.grid(True, color=\"lightgrey\")\n",
    "plt.legend(fontsize=12)\n",
    "plt.show()"
   ]
  },
  {
   "cell_type": "code",
   "execution_count": null,
   "metadata": {},
   "outputs": [],
   "source": [
    "X_train, X_test, y_train, y_test = train_test_split(X, y, test_size=0.5,train_size=0.5, shuffle=True)\n",
    "\n",
    "model_time_euc = nn.KNNClassifier(3, metric=\"euclidean\", test_block_size=500)\n",
    "model_time_cosine = nn.KNNClassifier(3, metric=\"cosine\", test_block_size=500)\n",
    "model_time_euc.fit(X_train,y_train)\n",
    "model_time_cosine.fit(X_train,y_train)\n",
    "\n",
    "time_euclidean = %timeit -q -o -n 1 model_time_euc.predict(X_test)\n",
    "time_coisne = %timeit -q -o -n 1 model_time_cosine.predict(X_test)"
   ]
  },
  {
   "cell_type": "code",
   "execution_count": null,
   "metadata": {},
   "outputs": [],
   "source": [
    "time_euclidean.average,time_coisne.average"
   ]
  },
  {
   "cell_type": "code",
   "execution_count": null,
   "metadata": {},
   "outputs": [],
   "source": []
  }
 ],
 "metadata": {
  "kernelspec": {
   "display_name": "Python 3",
   "language": "python",
   "name": "python3"
  },
  "language_info": {
   "codemirror_mode": {
    "name": "ipython",
    "version": 3
   },
   "file_extension": ".py",
   "mimetype": "text/x-python",
   "name": "python",
   "nbconvert_exporter": "python",
   "pygments_lexer": "ipython3",
   "version": "3.8.3"
  }
 },
 "nbformat": 4,
 "nbformat_minor": 4
}
