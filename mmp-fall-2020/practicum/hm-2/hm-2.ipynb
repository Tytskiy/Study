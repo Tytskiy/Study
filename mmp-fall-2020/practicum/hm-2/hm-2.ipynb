{
 "cells": [
  {
   "cell_type": "code",
   "execution_count": 1,
   "metadata": {},
   "outputs": [],
   "source": [
    "import numpy as np"
   ]
  },
  {
   "cell_type": "markdown",
   "metadata": {},
   "source": [
    "Написать функцию get_nonzero_diag_product(X), которая подсчитывает произведение ненулевых элементов на диагонали прямоугольной матрицы. Если все элементы на диагонали нулевые, функция должна вернуть None.\n"
   ]
  },
  {
   "cell_type": "code",
   "execution_count": 2,
   "metadata": {},
   "outputs": [],
   "source": [
    "def get_nonzero_diag_product(X):\n",
    "    diag = np.diag(X)\n",
    "    if(not np.any(diag != 0)):\n",
    "        return None\n",
    "    return np.multiply.reduce(diag[diag != 0])"
   ]
  },
  {
   "cell_type": "code",
   "execution_count": 3,
   "metadata": {},
   "outputs": [],
   "source": [
    "get_nonzero_diag_product([[0,2],[0,0]])"
   ]
  },
  {
   "cell_type": "markdown",
   "metadata": {},
   "source": [
    "Написать функцию replace_nan_to_means(X), принимающую матрицу X. Функция должна вернуть копию матрицы X, в которой все значения nan в каждом столбце заменены на среднее арифметическое остальных элементов столбца. В случае столбца из одних nan необходимо заменить все элементы столбца на нули. Исходная матрица X должна остаться неизменной!"
   ]
  },
  {
   "cell_type": "code",
   "execution_count": 4,
   "metadata": {},
   "outputs": [],
   "source": [
    "def replace_nan_to_means(X):\n",
    "    Y = X.copy()\n",
    "    mean = np.nanmean(Y, axis=0)\n",
    "    mask = np.isnan(Y)\n",
    "    Y = np.nan_to_num(Y, 0) + mask * np.nan_to_num(mean, 0)[np.newaxis, :]\n",
    "    return Y\n"
   ]
  },
  {
   "cell_type": "markdown",
   "metadata": {},
   "source": [
    "Написать функцию get_max_before_zero(x), возвращающую максимальный элемент в векторе x среди элементов, перед которыми стоит нулевой. Если подходящих элементов нет, функция должна возвращать None."
   ]
  },
  {
   "cell_type": "code",
   "execution_count": 5,
   "metadata": {},
   "outputs": [],
   "source": [
    "def get_max_before_zero(X):\n",
    "    mask = X == 0\n",
    "    if(np.any(mask)):\n",
    "        mask = np.concatenate((np.array([False]), mask), axis=0)\n",
    "        ans = X[mask[: -1]]\n",
    "        if ans.size != 0:\n",
    "            return ans.max()\n",
    "    return None\n"
   ]
  },
  {
   "cell_type": "code",
   "execution_count": 6,
   "metadata": {},
   "outputs": [
    {
     "data": {
      "text/plain": [
       "1"
      ]
     },
     "execution_count": 6,
     "metadata": {},
     "output_type": "execute_result"
    }
   ],
   "source": [
    "get_max_before_zero(np.array([1,1,0,1]))\n"
   ]
  },
  {
   "cell_type": "markdown",
   "metadata": {},
   "source": [
    "Написать функцию encode_rle(x), реализующую кодирование длин серий (Run-length encoding). По входному вектору x необходимо вернуть кортеж из двух векторов одинаковой длины. Первый содержит числа, а второй — сколько раз их нужно повторить."
   ]
  },
  {
   "cell_type": "code",
   "execution_count": 7,
   "metadata": {},
   "outputs": [],
   "source": [
    "def encode_rle(X):\n",
    "    bias = np.append(X[1:], X[-1])\n",
    "    mask = (bias != X)\n",
    "    mask[-1] = True \n",
    "    tmp = np.where(mask)[0]\n",
    "    tmp[1:] -= tmp[:-1]\n",
    "    tmp[0] += 1\n",
    "    return X[mask],tmp\n"
   ]
  },
  {
   "cell_type": "code",
   "execution_count": 8,
   "metadata": {},
   "outputs": [
    {
     "data": {
      "text/plain": [
       "(array([0]), array([2]))"
      ]
     },
     "execution_count": 8,
     "metadata": {},
     "output_type": "execute_result"
    }
   ],
   "source": [
    "encode_rle(np.array([0,0]))"
   ]
  },
  {
   "cell_type": "code",
   "execution_count": 9,
   "metadata": {},
   "outputs": [
    {
     "data": {
      "text/plain": [
       "array([[ 0.,  1.,  3.,  6.,  9., 12.,  9.,  5.],\n",
       "       [ 6., 13., 21., 24., 27., 30., 21., 11.]])"
      ]
     },
     "execution_count": 9,
     "metadata": {},
     "output_type": "execute_result"
    }
   ],
   "source": [
    "arr = np.arange(12).reshape(2,-1)\n",
    "x = np.ones(3)\n",
    "np.apply_along_axis(np.convolve,1,arr,x)"
   ]
  },
  {
   "cell_type": "markdown",
   "metadata": {},
   "source": [
    "Охотники за сокровищами отправились за очередным кладом в необычное место, которое называется \"Поле чудес\". \"Поле чудес\" имеет размер H на W метров. На каждом квадратном метре \"Поля чудес\" закопан сундук с определённым количеством камней. Скоро \"Поле чудес\" должен посетить лепрекон. Под влиянием лепрекона камни в сундуках превращаются в золотые монеты. Лепрекон появляется в определённой клетке поля и действует на прямоугольную область размером h на w, верхний левый край этой области - точка, где стоит лепрекон. Охотники за сокровищами не знают, когда точно появятся лепрекон, но хотят получить как можно больше золота. Известно вероятностное распределение на появление лепрекона в каждый момент времени в каждой клетке поля. Необходимо для каждой клетки \"Поля чудес\" посчитать математическое ожидание награды, которое будет получено от этой клетки. Необходимо написать функцию calc_expectations(h, w, X, Q), где: h, w - размеры области влияния лепрекона X - размера H на W, матрица целых чисел, X[i, j] - количество камней в i, j клетке Q - размера H на W, двумерная матрица вещественных чисел, вероятностное распределение. Q[i, j] - вероятность появления лепрекона в точке i, j."
   ]
  },
  {
   "cell_type": "code",
   "execution_count": 10,
   "metadata": {},
   "outputs": [],
   "source": [
    "X = np.array([ [1, 1, 1, 1], [2, 2, 2, 2], [3, 3, 3, 3], [4, 4, 4, 4] ])\n",
    "Q = np.array([ [0.2, 0, 0.3, 0.1], [0.1, 0, 0.2, 0], [0.05, 0, 0, 0], [0, 0, 0, 0.05]])\n",
    "def calc_expectations(h,w,X,Q):\n",
    "    E = np.apply_along_axis(np.convolve, 1, Q,np.ones(w))[:, :Q.shape[1]]\n",
    "    E = np.apply_along_axis(np.convolve, 0, E, np.ones(h))[:E.shape[0], :]\n",
    "    E = E * X\n",
    "    return E\n"
   ]
  },
  {
   "cell_type": "code",
   "execution_count": 11,
   "metadata": {},
   "outputs": [
    {
     "data": {
      "text/plain": [
       "array([[0.2 , 0.2 , 0.3 , 0.4 ],\n",
       "       [0.6 , 0.6 , 1.  , 1.2 ],\n",
       "       [0.45, 0.45, 0.6 , 0.6 ],\n",
       "       [0.2 , 0.2 , 0.  , 0.2 ]])"
      ]
     },
     "execution_count": 11,
     "metadata": {},
     "output_type": "execute_result"
    }
   ],
   "source": [
    "calc_expectations(2,2,X,Q)"
   ]
  },
  {
   "cell_type": "code",
   "execution_count": null,
   "metadata": {},
   "outputs": [],
   "source": []
  }
 ],
 "metadata": {
  "kernelspec": {
   "display_name": "Python 3",
   "language": "python",
   "name": "python3"
  },
  "language_info": {
   "codemirror_mode": {
    "name": "ipython",
    "version": 3
   },
   "file_extension": ".py",
   "mimetype": "text/x-python",
   "name": "python",
   "nbconvert_exporter": "python",
   "pygments_lexer": "ipython3",
   "version": "3.8.3"
  }
 },
 "nbformat": 4,
 "nbformat_minor": 4
}
