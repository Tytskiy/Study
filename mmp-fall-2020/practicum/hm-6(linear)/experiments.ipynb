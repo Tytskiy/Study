{
 "cells": [
  {
   "cell_type": "code",
   "execution_count": 1,
   "metadata": {},
   "outputs": [],
   "source": [
    "from sklearn.metrics import accuracy_score as acs\n",
    "from sklearn.metrics import roc_auc_score\n",
    "from sklearn.feature_extraction.text import CountVectorizer\n",
    "from itertools import accumulate\n",
    "from matplotlib.ticker import StrMethodFormatter\n",
    "import optimization as opt\n",
    "import pandas as pd\n",
    "import numpy as np\n",
    "import re\n",
    "import matplotlib.pyplot as plt\n",
    "plt.style.use(\"seaborn\")\n",
    "params = {'legend.fontsize': '14',\n",
    "          'figure.figsize': (15, 5),\n",
    "          'axes.labelsize': '14',\n",
    "          'axes.titlesize': '14',\n",
    "          'xtick.labelsize': '12',\n",
    "          'ytick.labelsize': '12'}\n",
    "plt.rcParams.update(params)"
   ]
  },
  {
   "cell_type": "markdown",
   "metadata": {},
   "source": [
    "## Задание №1"
   ]
  },
  {
   "cell_type": "code",
   "execution_count": 2,
   "metadata": {},
   "outputs": [],
   "source": [
    "X_train = pd.read_csv(\"_data/toxic_train.csv\")\n",
    "X_test = pd.read_csv(\"_data/toxic_test.csv\")\n",
    "y_train = X_train[\"is_toxic\"].values\n",
    "y_test = X_test[\"is_toxic\"].values"
   ]
  },
  {
   "cell_type": "code",
   "execution_count": 3,
   "metadata": {},
   "outputs": [],
   "source": [
    "y_train = (-1)**(y_train+1)\n",
    "y_test = (-1)**(y_test+1)"
   ]
  },
  {
   "cell_type": "code",
   "execution_count": 4,
   "metadata": {},
   "outputs": [
    {
     "data": {
      "text/html": [
       "<div>\n",
       "<style scoped>\n",
       "    .dataframe tbody tr th:only-of-type {\n",
       "        vertical-align: middle;\n",
       "    }\n",
       "\n",
       "    .dataframe tbody tr th {\n",
       "        vertical-align: top;\n",
       "    }\n",
       "\n",
       "    .dataframe thead th {\n",
       "        text-align: right;\n",
       "    }\n",
       "</style>\n",
       "<table border=\"1\" class=\"dataframe\">\n",
       "  <thead>\n",
       "    <tr style=\"text-align: right;\">\n",
       "      <th></th>\n",
       "      <th>Unnamed: 0</th>\n",
       "      <th>comment_text</th>\n",
       "      <th>is_toxic</th>\n",
       "    </tr>\n",
       "  </thead>\n",
       "  <tbody>\n",
       "    <tr>\n",
       "      <th>0</th>\n",
       "      <td>0</td>\n",
       "      <td>Explanation\\nWhy the edits made under my usern...</td>\n",
       "      <td>False</td>\n",
       "    </tr>\n",
       "    <tr>\n",
       "      <th>1</th>\n",
       "      <td>1</td>\n",
       "      <td>D'aww! He matches this background colour I'm s...</td>\n",
       "      <td>False</td>\n",
       "    </tr>\n",
       "    <tr>\n",
       "      <th>2</th>\n",
       "      <td>2</td>\n",
       "      <td>Hey man, I'm really not trying to edit war. It...</td>\n",
       "      <td>False</td>\n",
       "    </tr>\n",
       "    <tr>\n",
       "      <th>3</th>\n",
       "      <td>3</td>\n",
       "      <td>\"\\nMore\\nI can't make any real suggestions on ...</td>\n",
       "      <td>False</td>\n",
       "    </tr>\n",
       "    <tr>\n",
       "      <th>4</th>\n",
       "      <td>4</td>\n",
       "      <td>You, sir, are my hero. Any chance you remember...</td>\n",
       "      <td>False</td>\n",
       "    </tr>\n",
       "  </tbody>\n",
       "</table>\n",
       "</div>"
      ],
      "text/plain": [
       "   Unnamed: 0                                       comment_text  is_toxic\n",
       "0           0  Explanation\\nWhy the edits made under my usern...     False\n",
       "1           1  D'aww! He matches this background colour I'm s...     False\n",
       "2           2  Hey man, I'm really not trying to edit war. It...     False\n",
       "3           3  \"\\nMore\\nI can't make any real suggestions on ...     False\n",
       "4           4  You, sir, are my hero. Any chance you remember...     False"
      ]
     },
     "execution_count": 4,
     "metadata": {},
     "output_type": "execute_result"
    }
   ],
   "source": [
    "X_train.head(5)"
   ]
  },
  {
   "cell_type": "code",
   "execution_count": 5,
   "metadata": {},
   "outputs": [
    {
     "data": {
      "text/plain": [
       "(0.3116536370795797, 0.3019442832269298, (52061, 3), (20676, 3))"
      ]
     },
     "execution_count": 5,
     "metadata": {},
     "output_type": "execute_result"
    }
   ],
   "source": [
    "X_train[\"is_toxic\"].mean(), X_test[\"is_toxic\"].mean(), X_train.shape, X_test.shape"
   ]
  },
  {
   "cell_type": "code",
   "execution_count": 6,
   "metadata": {},
   "outputs": [
    {
     "data": {
      "text/plain": [
       "Unnamed: 0      0.0\n",
       "comment_text    0.0\n",
       "is_toxic        0.0\n",
       "dtype: float64"
      ]
     },
     "execution_count": 6,
     "metadata": {},
     "output_type": "execute_result"
    }
   ],
   "source": [
    "X_train.isna().mean()"
   ]
  },
  {
   "cell_type": "code",
   "execution_count": 7,
   "metadata": {},
   "outputs": [
    {
     "data": {
      "text/html": [
       "<div>\n",
       "<style scoped>\n",
       "    .dataframe tbody tr th:only-of-type {\n",
       "        vertical-align: middle;\n",
       "    }\n",
       "\n",
       "    .dataframe tbody tr th {\n",
       "        vertical-align: top;\n",
       "    }\n",
       "\n",
       "    .dataframe thead th {\n",
       "        text-align: right;\n",
       "    }\n",
       "</style>\n",
       "<table border=\"1\" class=\"dataframe\">\n",
       "  <thead>\n",
       "    <tr style=\"text-align: right;\">\n",
       "      <th></th>\n",
       "      <th>Unnamed: 0</th>\n",
       "      <th>comment_text</th>\n",
       "      <th>is_toxic</th>\n",
       "    </tr>\n",
       "  </thead>\n",
       "  <tbody>\n",
       "    <tr>\n",
       "      <th>0</th>\n",
       "      <td>0</td>\n",
       "      <td>explanation why the edits made under my userna...</td>\n",
       "      <td>False</td>\n",
       "    </tr>\n",
       "    <tr>\n",
       "      <th>1</th>\n",
       "      <td>1</td>\n",
       "      <td>d aww  he matches this background colour i m s...</td>\n",
       "      <td>False</td>\n",
       "    </tr>\n",
       "    <tr>\n",
       "      <th>2</th>\n",
       "      <td>2</td>\n",
       "      <td>hey man  i m really not trying to edit war  it...</td>\n",
       "      <td>False</td>\n",
       "    </tr>\n",
       "    <tr>\n",
       "      <th>3</th>\n",
       "      <td>3</td>\n",
       "      <td>more i can t make any real suggestions on im...</td>\n",
       "      <td>False</td>\n",
       "    </tr>\n",
       "    <tr>\n",
       "      <th>4</th>\n",
       "      <td>4</td>\n",
       "      <td>you  sir  are my hero  any chance you remember...</td>\n",
       "      <td>False</td>\n",
       "    </tr>\n",
       "  </tbody>\n",
       "</table>\n",
       "</div>"
      ],
      "text/plain": [
       "   Unnamed: 0                                       comment_text  is_toxic\n",
       "0           0  explanation why the edits made under my userna...     False\n",
       "1           1  d aww  he matches this background colour i m s...     False\n",
       "2           2  hey man  i m really not trying to edit war  it...     False\n",
       "3           3    more i can t make any real suggestions on im...     False\n",
       "4           4  you  sir  are my hero  any chance you remember...     False"
      ]
     },
     "execution_count": 7,
     "metadata": {},
     "output_type": "execute_result"
    }
   ],
   "source": [
    "X_train[\"comment_text\"] = X_train[\"comment_text\"].apply(lambda x: re.sub(\"[^0-9a-zA-Zа-яА-ЯёЁ]\", \" \", x.lower()))\n",
    "X_test[\"comment_text\"] = X_test[\"comment_text\"].apply(lambda x: re.sub(\"[^0-9a-zA-Zа-яА-ЯёЁ]\", \" \", x.lower()))\n",
    "X_train.head(5)"
   ]
  },
  {
   "cell_type": "code",
   "execution_count": 8,
   "metadata": {},
   "outputs": [
    {
     "data": {
      "text/plain": [
       "(0, 0)"
      ]
     },
     "execution_count": 8,
     "metadata": {},
     "output_type": "execute_result"
    }
   ],
   "source": [
    "text = X_train[\"comment_text\"]\n",
    "count = 0\n",
    "count_bad = 0\n",
    "for i in range(text.size):\n",
    "    if text[i].find(\"very bad word\") != -1:\n",
    "        count += 1\n",
    "        if X_train[\"is_toxic\"][i]:\n",
    "            count_bad += 1\n",
    "count, count_bad"
   ]
  },
  {
   "cell_type": "markdown",
   "metadata": {},
   "source": [
    "## Задание №2"
   ]
  },
  {
   "cell_type": "code",
   "execution_count": null,
   "metadata": {},
   "outputs": [],
   "source": [
    "vectorizer = CountVectorizer(lowercase=True, min_df=50)\n",
    "X_train_v = vectorizer.fit_transform(X_train[\"comment_text\"])\n",
    "X_test_v = vectorizer.transform(X_test[\"comment_text\"])"
   ]
  },
  {
   "cell_type": "code",
   "execution_count": null,
   "metadata": {},
   "outputs": [],
   "source": [
    "X_train_v.shape, X_test_v.shape"
   ]
  },
  {
   "cell_type": "markdown",
   "metadata": {},
   "source": [
    "## Задание №3\n",
    "1. зависимость значения функции потерь от реального времени работы метода\n",
    "2. зависимость значения функции потерь от итерации метода (эпохи в случае стохастического варианта)\n",
    "3. зависимость точности (accuracy) от реального времени работы метода\n",
    "4. зависимость точности (accuracy) итерации метода (эпохи в случае стохастического варианта)"
   ]
  },
  {
   "cell_type": "markdown",
   "metadata": {},
   "source": [
    "### Пункт 1"
   ]
  },
  {
   "cell_type": "code",
   "execution_count": null,
   "metadata": {},
   "outputs": [],
   "source": [
    "step_alpha = np.logspace(-1, 1, 3)\n",
    "step_beta = [0, 0.5, 1]\n",
    "for i, a in enumerate(step_alpha):\n",
    "    fig = plt.figure(figsize=(8, 6))\n",
    "    min_func = float(\"inf\")\n",
    "    max_func = float(\"-inf\")\n",
    "    for j, b in enumerate(step_beta):\n",
    "        model = opt.GDClassifier(step_alpha=a, step_beta=b, l2_coef=0.1, max_iter=4, tolerance=1e-6)\n",
    "        history = model.fit(X_train_v, y_train, trace=True)\n",
    "        plt.plot(list(accumulate(history[\"time\"])), history[\"func\"], label=f\"a={a},b={b}\")\n",
    "        plt.yaxis.set_major_formatter(StrMethodFormatter('{x:,.2f}'))\n",
    "        plt.ylabel(\"loss function\")\n",
    "        plt.xlabel(\"time s.\")\n",
    "        min_func = min(*history[\"func\"], min_func)\n",
    "        max_func = max(*history[\"func\"], max_func)\n",
    "        plt.yticks(np.linspace(min_func, max_func, 7))\n",
    "    plt.legend()\n",
    "    #fig.savefig(f\"./_figures/task_3/sub_1/fig_a_{a}_b_{b}.pdf\")\n",
    "    plt.show()"
   ]
  },
  {
   "cell_type": "markdown",
   "metadata": {},
   "source": [
    "### Пункт 2"
   ]
  },
  {
   "cell_type": "code",
   "execution_count": null,
   "metadata": {},
   "outputs": [],
   "source": [
    "step_alpha = np.logspace(-1, 1, 3)\n",
    "step_beta = [0, 0.5, 1]\n",
    "max_iter = 40\n",
    "for i, a in enumerate(step_alpha):\n",
    "    fig = plt.figure(figsize=(8, 6))\n",
    "    min_func = float(\"inf\")\n",
    "    max_func = float(\"-inf\")\n",
    "    for j, b in enumerate(step_beta):\n",
    "        model = opt.GDClassifier(step_alpha=a, step_beta=b, l2_coef=0.1, max_iter=max_iter, tolerance=1e-6)\n",
    "        history = model.fit(X_train_v, y_train, trace=True)\n",
    "        plt.plot(np.arange(0, len(history[\"func\"])), history[\"func\"], label=f\"a={a},b={b}\")\n",
    "        plt.gca().yaxis.set_major_formatter(StrMethodFormatter('{x:,.2f}'))\n",
    "        plt.ylabel(\"loss function\")\n",
    "        plt.xlabel(\"iteration\")\n",
    "        min_func = min(*history[\"func\"], min_func)\n",
    "        max_func = max(*history[\"func\"], max_func)\n",
    "        plt.yticks(np.linspace(min_func, max_func, 7))\n",
    "    plt.legend()\n",
    "    fig.savefig(f\"./_figures/task_3/sub_2/fig_a_{a}_b_{b}.pdf\")\n",
    "    plt.show()"
   ]
  },
  {
   "cell_type": "markdown",
   "metadata": {},
   "source": [
    "### Пункт 3"
   ]
  },
  {
   "cell_type": "code",
   "execution_count": null,
   "metadata": {},
   "outputs": [],
   "source": [
    "step_alpha = np.logspace(-1, 1, 3)\n",
    "step_beta = [0, 0.5, 1]\n",
    "max_iter = 40\n",
    "for i, a in enumerate(step_alpha):\n",
    "    fig = plt.figure(figsize=(8, 6))\n",
    "    min_func = float(\"inf\")\n",
    "    max_func = float(\"-inf\")\n",
    "    for j, b in enumerate(step_beta):\n",
    "        x_values = []\n",
    "        times = []\n",
    "        w_0 = np.ones(X_train_v.shape[1])\n",
    "        for i in range(max_iter):\n",
    "            model = opt.GDClassifier(step_alpha=a/(i+1)**b, step_beta=b,\n",
    "                                     l2_coef=0.1, max_iter=1, tolerance=1e-6)\n",
    "            history = model.fit(X_train_v, y_train, trace=True, w_0=w_0)\n",
    "            w_0 = model.get_weights()\n",
    "            x_values.append(acs(model.predict(X_train_v), y_train))\n",
    "            times.append(history[\"time\"][-1])\n",
    "\n",
    "        plt.plot(list(accumulate(times)), x_values, label=f\"a={a},b={b}\")\n",
    "        plt.ylabel(\"acccuracy\")\n",
    "        plt.xlabel(\"time s.\")\n",
    "\n",
    "        min_func = min(*x_values, min_func)\n",
    "        max_func = max(*x_values, max_func)\n",
    "        plt.yticks(np.linspace(min_func, max_func, 7))\n",
    "    plt.legend(frameon=True,facecolor=\"white\")\n",
    "    fig.savefig(f\"./_figures/task_3/sub_3/fig_a_{a}_b_{b}.pdf\")\n",
    "    plt.show()"
   ]
  },
  {
   "cell_type": "markdown",
   "metadata": {},
   "source": [
    "### Пункт 4"
   ]
  },
  {
   "cell_type": "code",
   "execution_count": null,
   "metadata": {},
   "outputs": [],
   "source": [
    "step_alpha = np.logspace(-2, 1, 4)\n",
    "step_beta = [0, 0.5, 1]\n",
    "max_iter = 40\n",
    "for i, a in enumerate(step_alpha):\n",
    "    fig = plt.figure(figsize=(8, 6))\n",
    "    min_func = float(\"inf\")\n",
    "    max_func = float(\"-inf\")\n",
    "    for j, b in enumerate(step_beta):\n",
    "        x_values = []\n",
    "        w_0 = np.ones(X_train_v.shape[1])\n",
    "        for i in range(max_iter):\n",
    "            model = opt.GDClassifier(step_alpha=a/(i+1)**b, step_beta=b,\n",
    "                                     l2_coef=0.1, max_iter=1, tolerance=1e-7)\n",
    "    \n",
    "            history = model.fit(X_train_v, y_train, trace=True, w_0=w_0)\n",
    "            w_0 = model.get_weights()\n",
    "            x_values.append(acs(model.predict(X_train_v), y_train))\n",
    "\n",
    "        plt.plot(np.arange(1,len(x_values)+1), x_values, label=f\"a={a},b={b}\")\n",
    "        plt.ylabel(\"accuracy\")\n",
    "        plt.xlabel(\"iteration\")\n",
    "\n",
    "        min_func = min(*x_values, min_func)\n",
    "        max_func = max(*x_values, max_func)\n",
    "        plt.yticks(np.linspace(min_func, max_func, 7))\n",
    "    plt.legend(frameon=True,facecolor=\"white\")\n",
    "    fig.savefig(f\"./_figures/task_3/sub_4/fig_a_{a}_b_{b}.pdf\")\n",
    "    plt.show()"
   ]
  },
  {
   "cell_type": "markdown",
   "metadata": {},
   "source": [
    "### Для нормы весов"
   ]
  },
  {
   "cell_type": "code",
   "execution_count": null,
   "metadata": {},
   "outputs": [],
   "source": [
    "min_func = float(\"inf\")\n",
    "max_func = float(\"-inf\")\n",
    "fig = plt.figure(figsize=(8, 6))\n",
    "rand = [(0,0), (5, 2), (10, 5)]\n",
    "ls = [\"-\", \"--\", \"-.\", \"-\"]\n",
    "for r, ls in zip(rand, ls):\n",
    "    a, b = r[0],r[1]\n",
    "    np.random.seed(42)\n",
    "    w = b + (a-b)*np.random.rand(X_train_v.shape[1])\n",
    "    model = opt.GDClassifier(step_alpha=0.8, step_beta=0, l2_coef=0.05,\n",
    "                             max_iter=40, tolerance=1e-7)\n",
    "    history = model.fit(X_train_v, y_train, trace=True, w_0=w)\n",
    "    plt.plot(np.arange(len(history[\"func\"])), history[\"func\"], label=f\"||w||={np.linalg.norm(w):.01f}\", ls=ls)\n",
    "    plt.gca().yaxis.set_major_formatter(StrMethodFormatter('{x:,.2f}'))\n",
    "    plt.ylabel(\"loss function\")\n",
    "    plt.xlabel(\"iteration\")\n",
    "    min_func = min(*history[\"func\"], min_func)\n",
    "    max_func = max(*history[\"func\"], max_func)\n",
    "    plt.yticks(np.linspace(min_func, max_func, 7))\n",
    "plt.legend()\n",
    "fig.savefig(f\"./_figures/task_3/weights.pdf\")\n",
    "plt.show()"
   ]
  },
  {
   "cell_type": "markdown",
   "metadata": {},
   "source": [
    "## Задание №4"
   ]
  },
  {
   "cell_type": "markdown",
   "metadata": {},
   "source": [
    "1. параметр размера шага step_alpha\n",
    "2. параметр размера шага step_beta\n",
    "3. размер подвыборки batch_size\n",
    "4. начального приближения"
   ]
  },
  {
   "cell_type": "markdown",
   "metadata": {},
   "source": [
    "### Пункт 1,2"
   ]
  },
  {
   "cell_type": "code",
   "execution_count": null,
   "metadata": {},
   "outputs": [],
   "source": [
    "step_alpha = np.logspace(-2, 1, 4)\n",
    "step_beta = [0, 0.5, 1]\n",
    "\n",
    "for i, a in enumerate(step_alpha):\n",
    "    fig = plt.figure(figsize=(8, 6))\n",
    "    min_func = float(\"inf\")\n",
    "    max_func = float(\"-inf\")\n",
    "    for j, b in enumerate(step_beta):\n",
    "        model = opt.SGDClassifier(batch_size=5000, step_alpha=a, step_beta=b,\n",
    "                                  l2_coef=0.1, max_iter=300, tolerance=1e-7)\n",
    "        history = model.fit(X_train_v, y_train, trace=True,log_freq=0.3)\n",
    "        plt.plot(list(accumulate(history[\"time\"])), history[\"func\"], label=f\"a={a},b={b}\")\n",
    "        plt.gca().yaxis.set_major_formatter(StrMethodFormatter('{x:,.2f}'))\n",
    "        plt.ylabel(\"loss function\")\n",
    "        plt.xlabel(\"time s.\")\n",
    "        min_func = min(*history[\"func\"], min_func)\n",
    "        max_func = max(*history[\"func\"], max_func)\n",
    "        plt.yticks(np.linspace(min_func, max_func, 7))\n",
    "    plt.legend()\n",
    "    fig.savefig(f\"./_figures/task_4/sub_1/fig_a_{a}_b_{b}.pdf\")\n",
    "    plt.show()"
   ]
  },
  {
   "cell_type": "code",
   "execution_count": null,
   "metadata": {},
   "outputs": [],
   "source": [
    "step_alpha = np.logspace(-1, 1, 3)\n",
    "step_beta = [0, 0.5, 1]\n",
    "for i, a in enumerate(step_alpha):\n",
    "    fig = plt.figure(figsize=(8, 6))\n",
    "    min_func = float(\"inf\")\n",
    "    max_func = float(\"-inf\")\n",
    "    for j, b in enumerate(step_beta):\n",
    "        model = opt.SGDClassifier(batch_size=5000, step_alpha=a, step_beta=b,\n",
    "                                  l2_coef=0.1, max_iter=300, tolerance=1e-6)\n",
    "        history = model.fit(X_train_v, y_train, trace=True)\n",
    "        plt.plot(history[\"epoch_num\"], history[\"func\"], label=f\"a={a},b={b}\")\n",
    "        plt.gca().yaxis.set_major_formatter(StrMethodFormatter('{x:,.2f}'))\n",
    "        plt.ylabel(\"loss function\")\n",
    "        plt.xlabel(\"epoch\")\n",
    "        min_func = min(*history[\"func\"], min_func)\n",
    "        max_func = max(*history[\"func\"], max_func)\n",
    "        plt.yticks(np.linspace(min_func, max_func, 7))\n",
    "    plt.legend()\n",
    "    fig.savefig(f\"./_figures/task_4/sub_2/fig_a_{a}_b_{b}.pdf\")\n",
    "    plt.show()"
   ]
  },
  {
   "cell_type": "code",
   "execution_count": null,
   "metadata": {},
   "outputs": [],
   "source": [
    "step_alpha = np.logspace(-1, 1, 3)\n",
    "step_beta = [0, 0.5, 1]\n",
    "max_iter = 200\n",
    "for i, a in enumerate(step_alpha):\n",
    "    fig = plt.figure(figsize=(8, 6))\n",
    "    min_func = float(\"inf\")\n",
    "    max_func = float(\"-inf\")\n",
    "    for j, b in enumerate(step_beta):\n",
    "        x_values = []\n",
    "        times = []\n",
    "        w_0 = np.ones(X_train_v.shape[1])\n",
    "        for i in range(max_iter):\n",
    "            model = opt.SGDClassifier(batch_size=2000, step_alpha=a/(i+1)**b, step_beta=b,\n",
    "                                      l2_coef=0.1, max_iter=2, tolerance=1e-6)\n",
    "            history = model.fit(X_train_v, y_train, trace=True, w_0=w_0, log_freq=0)\n",
    "            w_0 = model.get_weights()\n",
    "            x_values.append(acs(model.predict(X_train_v), y_train))\n",
    "            times.append(history[\"time\"][-1])\n",
    "\n",
    "        plt.plot(list(accumulate(times)), x_values, label=f\"a={a},b={b}\")\n",
    "        plt.ylabel(\"acccuracy\")\n",
    "        plt.xlabel(\"time s.\")\n",
    "\n",
    "        min_func = min(*x_values, min_func)\n",
    "        max_func = max(*x_values, max_func)\n",
    "        plt.yticks(np.linspace(min_func, max_func, 7))\n",
    "    plt.legend(frameon=True, facecolor=\"white\")\n",
    "    fig.savefig(f\"./_figures/task_4/sub_3/fig_a_{a}_b_{b}.pdf\")\n",
    "    plt.show()"
   ]
  },
  {
   "cell_type": "markdown",
   "metadata": {},
   "source": [
    "### Пункт 3"
   ]
  },
  {
   "cell_type": "code",
   "execution_count": null,
   "metadata": {},
   "outputs": [],
   "source": [
    "min_func = float(\"inf\")\n",
    "max_func = float(\"-inf\")\n",
    "fig = plt.figure(figsize=(8, 6))\n",
    "rand = [(0,0), (5, 2), (10, 5)]\n",
    "ls = [\"-\", \"--\", \"-.\", \"-\"]\n",
    "for r, ls in zip(rand, ls):\n",
    "    a, b = r[0], r[1]\n",
    "    np.random.seed(42)\n",
    "    w = b + (a-b)*np.random.rand(X_train_v.shape[1])\n",
    "    model = opt.SGDClassifier(batch_size=5000, step_alpha=0.8, step_beta=0, l2_coef=0.05,\n",
    "                              max_iter=300, tolerance=1e-7, random_seed=153)\n",
    "    history = model.fit(X_train_v, y_train, trace=True, w_0=w)\n",
    "    plt.plot(history[\"epoch_num\"], history[\"func\"], label=f\"||w||={np.linalg.norm(w):.01f}\", ls=ls)\n",
    "    plt.gca().yaxis.set_major_formatter(StrMethodFormatter('{x:,.2f}'))\n",
    "    plt.ylabel(\"loss function\")\n",
    "    plt.xlabel(\"epoch\")\n",
    "    min_func = min(*history[\"func\"], min_func)\n",
    "    max_func = max(*history[\"func\"], max_func)\n",
    "    plt.yticks(np.linspace(min_func, max_func, 7))\n",
    "plt.legend()\n",
    "fig.savefig(f\"./_figures/task_4/weights.pdf\")\n",
    "plt.show()"
   ]
  },
  {
   "cell_type": "markdown",
   "metadata": {},
   "source": [
    "### Пункт 4"
   ]
  },
  {
   "cell_type": "code",
   "execution_count": null,
   "metadata": {},
   "outputs": [],
   "source": [
    "min_func = float(\"inf\")\n",
    "max_func = float(\"-inf\")\n",
    "fig = plt.figure(figsize=(8, 6))\n",
    "batchs = [100, 500, 2000, 10000]\n",
    "ls = [\"-\", \"-\", \"-.\", \"--\"]\n",
    "for b, ls in zip(batchs, ls):\n",
    "    model = opt.SGDClassifier(batch_size=b, step_alpha=0.8, step_beta=0, l2_coef=0.05,\n",
    "                              max_iter=100000//b, tolerance=1e-7, random_seed=153)\n",
    "    history = model.fit(X_train_v, y_train, trace=True,log_freq=0.1)\n",
    "    plt.plot(history[\"epoch_num\"], history[\"func\"], label=f\"batch={b}\", ls=ls)\n",
    "    plt.gca().yaxis.set_major_formatter(StrMethodFormatter('{x:,.2f}'))\n",
    "    plt.ylabel(\"loss function\")\n",
    "    plt.xlabel(\"epoch\")\n",
    "    min_func = min(*history[\"func\"], min_func)\n",
    "    max_func = max(*history[\"func\"], max_func)\n",
    "    plt.yticks(np.linspace(min_func, max_func, 7))\n",
    "plt.legend()\n",
    "fig.savefig(f\"./pictures/task_4/fig_batch.pdf\")\n",
    "plt.show()"
   ]
  },
  {
   "cell_type": "markdown",
   "metadata": {},
   "source": [
    "## Исследования"
   ]
  },
  {
   "cell_type": "code",
   "execution_count": 9,
   "metadata": {},
   "outputs": [],
   "source": [
    "vectorizer = CountVectorizer(lowercase=True, min_df=50)\n",
    "X_train_v = vectorizer.fit_transform(X_train[\"comment_text\"])\n",
    "X_test_v = vectorizer.transform(X_test[\"comment_text\"])"
   ]
  },
  {
   "cell_type": "code",
   "execution_count": 10,
   "metadata": {},
   "outputs": [
    {
     "data": {
      "text/plain": [
       "(52061, 3930)"
      ]
     },
     "execution_count": 10,
     "metadata": {},
     "output_type": "execute_result"
    }
   ],
   "source": [
    "X_train_v.shape"
   ]
  },
  {
   "cell_type": "code",
   "execution_count": 11,
   "metadata": {},
   "outputs": [],
   "source": [
    "from sklearn.model_selection import StratifiedKFold"
   ]
  },
  {
   "cell_type": "code",
   "execution_count": null,
   "metadata": {},
   "outputs": [],
   "source": [
    "\n",
    "l2 = np.linspace(0.01, 0.3, 3)\n",
    "scores = []\n",
    "for a in step_alpha:\n",
    "    for l in l2:\n",
    "        cv = StratifiedKFold(n_splits=2, shuffle=True)\n",
    "        score = []\n",
    "        for train_index, test_index in cv.split(X_train_v, y_train):\n",
    "            model = opt.SGDClassifier(\"binary_logistic\", 2000, a, 0,\n",
    "                                      tolerance=1e-5, max_iter=400, l2_coef=l)\n",
    "            model.fit(X_train_v[train_index], y_train[train_index])\n",
    "            y_pred = model.predict(X_train_v[test_index])\n",
    "            score.append(acs(y_pred, y_train[test_index]))\n",
    "        print(f\"{a}, {l}, {score}\")\n",
    "        scores.append([score, a, l])"
   ]
  },
  {
   "cell_type": "code",
   "execution_count": 13,
   "metadata": {},
   "outputs": [],
   "source": [
    "model = opt.SGDClassifier(batch_size=2000, step_alpha=0.7, step_beta=0,\n",
    "                          tolerance=1e-6, max_iter=1500, l2_coef=0.001, fit_intercept=True)\n",
    "history = model.fit(X_train_v, y_train, trace=True, log_freq=0.6)"
   ]
  },
  {
   "cell_type": "code",
   "execution_count": 15,
   "metadata": {},
   "outputs": [
    {
     "data": {
      "text/plain": [
       "(0.9282228868452114, 0.8598374927452118)"
      ]
     },
     "execution_count": 15,
     "metadata": {},
     "output_type": "execute_result"
    }
   ],
   "source": [
    "y_pred_test = model.predict(X_test_v)\n",
    "y_pred_train = model.predict(X_train_v)\n",
    "y_pred_prob = model.predict_proba(X_test_v)\n",
    "\n",
    "auc = roc_auc_score(y_test, y_pred_prob[:, 1], labels=[-1, 1])\n",
    "\n",
    "auc, acs(y_pred_test, y_test)"
   ]
  },
  {
   "cell_type": "code",
   "execution_count": 18,
   "metadata": {},
   "outputs": [
    {
     "data": {
      "text/plain": [
       "[<matplotlib.lines.Line2D at 0x7f9a00450610>]"
      ]
     },
     "execution_count": 18,
     "metadata": {},
     "output_type": "execute_result"
    },
    {
     "data": {
      "image/png": "[encoded data removed]",
      "text/plain": [
       "<Figure size 1080x360 with 1 Axes>"
      ]
     },
     "metadata": {},
     "output_type": "display_data"
    }
   ],
   "source": [
    "plt.plot(history[\"epoch_num\"][-10:], history[\"func\"][-10:])"
   ]
  },
  {
   "cell_type": "code",
   "execution_count": 19,
   "metadata": {},
   "outputs": [
    {
     "name": "stderr",
     "output_type": "stream",
     "text": [
      "[nltk_data] Downloading package wordnet to /home/tyskiy/nltk_data...\n",
      "[nltk_data]   Package wordnet is already up-to-date!\n",
      "[nltk_data] Downloading package punkt to /home/tyskiy/nltk_data...\n",
      "[nltk_data]   Package punkt is already up-to-date!\n",
      "[nltk_data] Downloading package averaged_perceptron_tagger to\n",
      "[nltk_data]     /home/tyskiy/nltk_data...\n",
      "[nltk_data]   Package averaged_perceptron_tagger is already up-to-\n",
      "[nltk_data]       date!\n"
     ]
    },
    {
     "data": {
      "text/plain": [
       "True"
      ]
     },
     "execution_count": 19,
     "metadata": {},
     "output_type": "execute_result"
    }
   ],
   "source": [
    "from nltk.corpus import wordnet\n",
    "from nltk.stem import WordNetLemmatizer\n",
    "import nltk\n",
    "nltk.download('wordnet')\n",
    "nltk.download('punkt')\n",
    "nltk.download('averaged_perceptron_tagger')"
   ]
  },
  {
   "cell_type": "code",
   "execution_count": 20,
   "metadata": {},
   "outputs": [],
   "source": [
    "# https://webdevblog.ru/podhody-lemmatizacii-s-primerami-v-python/\n",
    "def get_wordnet_pos(word):\n",
    "    tag = nltk.pos_tag([word])[0][1][0].upper()\n",
    "    tag_dict = {\"J\": wordnet.ADJ,\n",
    "                \"N\": wordnet.NOUN,\n",
    "                \"V\": wordnet.VERB,\n",
    "                \"R\": wordnet.ADV}\n",
    "    return tag_dict.get(tag, wordnet.NOUN)"
   ]
  },
  {
   "cell_type": "code",
   "execution_count": 21,
   "metadata": {},
   "outputs": [
    {
     "data": {
      "text/html": [
       "<div>\n",
       "<style scoped>\n",
       "    .dataframe tbody tr th:only-of-type {\n",
       "        vertical-align: middle;\n",
       "    }\n",
       "\n",
       "    .dataframe tbody tr th {\n",
       "        vertical-align: top;\n",
       "    }\n",
       "\n",
       "    .dataframe thead th {\n",
       "        text-align: right;\n",
       "    }\n",
       "</style>\n",
       "<table border=\"1\" class=\"dataframe\">\n",
       "  <thead>\n",
       "    <tr style=\"text-align: right;\">\n",
       "      <th></th>\n",
       "      <th>Unnamed: 0</th>\n",
       "      <th>comment_text</th>\n",
       "      <th>is_toxic</th>\n",
       "    </tr>\n",
       "  </thead>\n",
       "  <tbody>\n",
       "    <tr>\n",
       "      <th>0</th>\n",
       "      <td>0</td>\n",
       "      <td>explanation why the edits made under my userna...</td>\n",
       "      <td>False</td>\n",
       "    </tr>\n",
       "    <tr>\n",
       "      <th>1</th>\n",
       "      <td>1</td>\n",
       "      <td>d aww  he matches this background colour i m s...</td>\n",
       "      <td>False</td>\n",
       "    </tr>\n",
       "    <tr>\n",
       "      <th>2</th>\n",
       "      <td>2</td>\n",
       "      <td>hey man  i m really not trying to edit war  it...</td>\n",
       "      <td>False</td>\n",
       "    </tr>\n",
       "    <tr>\n",
       "      <th>3</th>\n",
       "      <td>3</td>\n",
       "      <td>more i can t make any real suggestions on im...</td>\n",
       "      <td>False</td>\n",
       "    </tr>\n",
       "    <tr>\n",
       "      <th>4</th>\n",
       "      <td>4</td>\n",
       "      <td>you  sir  are my hero  any chance you remember...</td>\n",
       "      <td>False</td>\n",
       "    </tr>\n",
       "  </tbody>\n",
       "</table>\n",
       "</div>"
      ],
      "text/plain": [
       "   Unnamed: 0                                       comment_text  is_toxic\n",
       "0           0  explanation why the edits made under my userna...     False\n",
       "1           1  d aww  he matches this background colour i m s...     False\n",
       "2           2  hey man  i m really not trying to edit war  it...     False\n",
       "3           3    more i can t make any real suggestions on im...     False\n",
       "4           4  you  sir  are my hero  any chance you remember...     False"
      ]
     },
     "execution_count": 21,
     "metadata": {},
     "output_type": "execute_result"
    }
   ],
   "source": [
    "X_train.head(5)"
   ]
  },
  {
   "cell_type": "code",
   "execution_count": 22,
   "metadata": {},
   "outputs": [],
   "source": [
    "lemmatizer = WordNetLemmatizer()\n",
    "X_train[\"comment_text\"] = X_train[\"comment_text\"].apply(\n",
    "    lambda x: \" \".join([lemmatizer.lemmatize(w, get_wordnet_pos(w)) for w in nltk.word_tokenize(x)]))\n",
    "X_test[\"comment_text\"] = X_test[\"comment_text\"].apply(\n",
    "    lambda x: \" \".join([lemmatizer.lemmatize(w, get_wordnet_pos(w)) for w in nltk.word_tokenize(x)]))"
   ]
  },
  {
   "cell_type": "markdown",
   "metadata": {},
   "source": [
    "## Задание №5"
   ]
  },
  {
   "cell_type": "code",
   "execution_count": 23,
   "metadata": {},
   "outputs": [],
   "source": [
    "vectorizer = CountVectorizer(lowercase=True, min_df=50, stop_words=\"english\")\n",
    "X_train_v_lem = vectorizer.fit_transform(X_train[\"comment_text\"])\n",
    "X_test_v_lem = vectorizer.transform(X_test[\"comment_text\"])"
   ]
  },
  {
   "cell_type": "code",
   "execution_count": 24,
   "metadata": {},
   "outputs": [
    {
     "data": {
      "text/plain": [
       "((52061, 3095), (20676, 3095))"
      ]
     },
     "execution_count": 24,
     "metadata": {},
     "output_type": "execute_result"
    }
   ],
   "source": [
    "X_train_v_lem.shape, X_test_v_lem.shape"
   ]
  },
  {
   "cell_type": "code",
   "execution_count": 58,
   "metadata": {},
   "outputs": [],
   "source": [
    "#параметры подбраны на кросс-валидации\n",
    "model = opt.SGDClassifier(batch_size=2000, step_alpha=0.4, step_beta=0,\n",
    "                          tolerance=1e-9, max_iter=3000, l2_coef=0.001, fit_intercept=True)\n",
    "history = model.fit(X_train_v_lem, y_train, trace=True, log_freq=0.7)"
   ]
  },
  {
   "cell_type": "code",
   "execution_count": 59,
   "metadata": {},
   "outputs": [
    {
     "data": {
      "text/plain": [
       "(0.9350241299563347, 0.8650125749661444, 0.8821766773592516)"
      ]
     },
     "execution_count": 59,
     "metadata": {},
     "output_type": "execute_result"
    }
   ],
   "source": [
    "y_pred_test = model.predict(X_test_v_lem)\n",
    "y_pred_train = model.predict(X_train_v_lem)\n",
    "\n",
    "y_pred_prob = model.predict_proba(X_test_v_lem)\n",
    "auc = roc_auc_score(y_test, y_pred_prob[:, 1], labels=[-1, 1])\n",
    "\n",
    "auc, acs(y_pred_test, y_test), acs(y_pred_train, y_train)"
   ]
  },
  {
   "cell_type": "code",
   "execution_count": 60,
   "metadata": {},
   "outputs": [
    {
     "data": {
      "text/plain": [
       "[<matplotlib.lines.Line2D at 0x7f9a00f32ac0>]"
      ]
     },
     "execution_count": 60,
     "metadata": {},
     "output_type": "execute_result"
    },
    {
     "data": {
      "image/png": "[encoded data removed]",
      "text/plain": [
       "<Figure size 1080x360 with 1 Axes>"
      ]
     },
     "metadata": {},
     "output_type": "display_data"
    }
   ],
   "source": [
    "plt.plot(history[\"epoch_num\"][-3:], history[\"func\"][-3:])"
   ]
  },
  {
   "cell_type": "code",
   "execution_count": 12,
   "metadata": {},
   "outputs": [],
   "source": [
    "from sklearn.feature_extraction.text import TfidfVectorizer"
   ]
  },
  {
   "cell_type": "code",
   "execution_count": 62,
   "metadata": {},
   "outputs": [],
   "source": [
    "vectorizer = TfidfVectorizer(lowercase=True, min_df=50, stop_words=\"english\")\n",
    "X_train_tf_lem = vectorizer.fit_transform(X_train[\"comment_text\"])\n",
    "X_test_tf_lem = vectorizer.transform(X_test[\"comment_text\"])"
   ]
  },
  {
   "cell_type": "code",
   "execution_count": null,
   "metadata": {},
   "outputs": [],
   "source": [
    "step_alpha = np.linspace(0.75, 1, 3)\n",
    "step_beta = 0  # best\n",
    "l2 = np.linspace(0.001, 0.015, 3)\n",
    "scores = []\n",
    "for a in step_alpha:\n",
    "    for l in l2:\n",
    "        cv = StratifiedKFold(n_splits=2, shuffle=True)\n",
    "        score = []\n",
    "        for train_index, test_index in cv.split(X_train_tf_lem, y_train):\n",
    "            model = opt.SGDClassifier(\"binary_logistic\", 2000, a, 0,\n",
    "                                      tolerance=1e-5, max_iter=800, l2_coef=l)\n",
    "            model.fit(X_train_tf_lem[train_index], y_train[train_index])\n",
    "            y_pred = model.predict(X_train_tf_lem[test_index])\n",
    "            score.append(acs(y_pred, y_train[test_index]))\n",
    "        print(f\"{a}, {l}, {score}\")\n",
    "        scores.append([score, a, l])"
   ]
  },
  {
   "cell_type": "code",
   "execution_count": 74,
   "metadata": {},
   "outputs": [],
   "source": [
    "model = opt.SGDClassifier(batch_size=2000, step_alpha=0.4, step_beta=0,\n",
    "                          tolerance=1e-7, max_iter=3000, l2_coef=0, fit_intercept=True)\n",
    "history = model.fit(X_train_tf_lem, y_train, trace=True, log_freq=0.7)"
   ]
  },
  {
   "cell_type": "code",
   "execution_count": 75,
   "metadata": {},
   "outputs": [
    {
     "data": {
      "text/plain": [
       "(0.9352074822658164, 0.8534049139098472, 0.8416088818885538)"
      ]
     },
     "execution_count": 75,
     "metadata": {},
     "output_type": "execute_result"
    }
   ],
   "source": [
    "y_pred_test = model.predict(X_test_tf_lem)\n",
    "y_pred_train = model.predict(X_train_tf_lem)\n",
    "\n",
    "y_pred_prob = model.predict_proba(X_test_tf_lem)\n",
    "auc = roc_auc_score(y_test, y_pred_prob[:, 1], labels=[-1, 1])\n",
    "\n",
    "auc, acs(y_pred_test, y_test), acs(y_pred_train, y_train)"
   ]
  },
  {
   "cell_type": "code",
   "execution_count": 76,
   "metadata": {},
   "outputs": [
    {
     "data": {
      "text/plain": [
       "[<matplotlib.lines.Line2D at 0x7f9a009925e0>]"
      ]
     },
     "execution_count": 76,
     "metadata": {},
     "output_type": "execute_result"
    },
    {
     "data": {
      "image/png": "[encoded data removed]",
      "text/plain": [
       "<Figure size 1080x360 with 1 Axes>"
      ]
     },
     "metadata": {},
     "output_type": "display_data"
    }
   ],
   "source": [
    "plt.plot(history[\"epoch_num\"][-20:], history[\"func\"][-20:])"
   ]
  },
  {
   "cell_type": "markdown",
   "metadata": {},
   "source": [
    "### n-gramm"
   ]
  },
  {
   "cell_type": "code",
   "execution_count": 77,
   "metadata": {},
   "outputs": [],
   "source": [
    "vectorizer = CountVectorizer(lowercase=True, min_df=50, ngram_range=[1, 2], stop_words=\"english\")\n",
    "X_train_v_lem_2g = vectorizer.fit_transform(X_train[\"comment_text\"])\n",
    "X_test_v_lem_2g = vectorizer.transform(X_test[\"comment_text\"])"
   ]
  },
  {
   "cell_type": "code",
   "execution_count": 78,
   "metadata": {},
   "outputs": [
    {
     "data": {
      "text/plain": [
       "(52061, 4040)"
      ]
     },
     "execution_count": 78,
     "metadata": {},
     "output_type": "execute_result"
    }
   ],
   "source": [
    "X_train_v_lem_2g.shape"
   ]
  },
  {
   "cell_type": "code",
   "execution_count": 89,
   "metadata": {},
   "outputs": [],
   "source": [
    "model = opt.SGDClassifier(batch_size=2000, step_alpha=0.4, step_beta=0,\n",
    "                          tolerance=1e-7, max_iter=5000, l2_coef=0.0001, fit_intercept=True)\n",
    "history = model.fit(X_train_v_lem_2g, y_train, trace=True, log_freq=0.7)"
   ]
  },
  {
   "cell_type": "code",
   "execution_count": 90,
   "metadata": {},
   "outputs": [
    {
     "data": {
      "text/plain": [
       "(0.9372150074902986, 0.875701296188818, 0.8985613030867636)"
      ]
     },
     "execution_count": 90,
     "metadata": {},
     "output_type": "execute_result"
    }
   ],
   "source": [
    "y_pred_test = model.predict(X_test_v_lem_2g)\n",
    "y_pred_train = model.predict(X_train_v_lem_2g)\n",
    "\n",
    "y_pred_prob = model.predict_proba(X_test_v_lem_2g)\n",
    "auc = roc_auc_score(y_test, y_pred_prob[:, 1], labels=[-1, 1])\n",
    "\n",
    "auc, acs(y_pred_test, y_test), acs(y_pred_train, y_train)"
   ]
  },
  {
   "cell_type": "code",
   "execution_count": 93,
   "metadata": {},
   "outputs": [
    {
     "data": {
      "text/plain": [
       "[<matplotlib.lines.Line2D at 0x7f99f4573910>]"
      ]
     },
     "execution_count": 93,
     "metadata": {},
     "output_type": "execute_result"
    },
    {
     "data": {
      "image/png": "[encoded data removed]",
      "text/plain": [
       "<Figure size 1080x360 with 1 Axes>"
      ]
     },
     "metadata": {},
     "output_type": "display_data"
    }
   ],
   "source": [
    "plt.plot(history[\"epoch_num\"][-20:], history[\"func\"][-20:])"
   ]
  },
  {
   "cell_type": "markdown",
   "metadata": {},
   "source": [
    "## Задание №7"
   ]
  },
  {
   "cell_type": "code",
   "execution_count": 8,
   "metadata": {},
   "outputs": [],
   "source": [
    "import time"
   ]
  },
  {
   "cell_type": "code",
   "execution_count": 31,
   "metadata": {},
   "outputs": [],
   "source": [
    "vectorizer = CountVectorizer(lowercase=True, min_df=50, stop_words=\"english\")\n",
    "X_train_v = vectorizer.fit_transform(X_train[\"comment_text\"])\n",
    "X_test_v = vectorizer.transform(X_test[\"comment_text\"])"
   ]
  },
  {
   "cell_type": "code",
   "execution_count": 53,
   "metadata": {},
   "outputs": [
    {
     "data": {
      "text/plain": [
       "[('zionist', 3659),\n",
       " ('zero', 3658),\n",
       " ('youtube', 3657),\n",
       " ('youth', 3656),\n",
       " ('youre', 3655),\n",
       " ('young', 3654),\n",
       " ('york', 3653),\n",
       " ('yo', 3652),\n",
       " ('yesterday', 3651),\n",
       " ('yes', 3650)]"
      ]
     },
     "execution_count": 53,
     "metadata": {},
     "output_type": "execute_result"
    }
   ],
   "source": [
    "sorted(list(vectorizer.vocabulary_.items()),key = lambda x: -x[1])[:10]"
   ]
  },
  {
   "cell_type": "code",
   "execution_count": 13,
   "metadata": {},
   "outputs": [],
   "source": [
    "vectorizer = TfidfVectorizer(lowercase=True, min_df=50, stop_words=\"english\")\n",
    "X_train_tf_lem = vectorizer.fit_transform(X_train[\"comment_text\"])\n",
    "X_test_tf_lem = vectorizer.transform(X_test[\"comment_text\"])"
   ]
  },
  {
   "cell_type": "code",
   "execution_count": 24,
   "metadata": {},
   "outputs": [],
   "source": [
    "min_df = [10, 100, 400, 1000]\n",
    "max_df = [300, 800, 20000]"
   ]
  },
  {
   "cell_type": "code",
   "execution_count": 25,
   "metadata": {},
   "outputs": [
    {
     "name": "stdout",
     "output_type": "stream",
     "text": [
      "[10935, 2082, 515, 150]\n",
      "[0.8512, 0.8501, 0.8369, 0.7841]\n",
      "[23.88382911682129, 7.295434951782227, 3.482736825942993, 1.9634363651275635]\n"
     ]
    }
   ],
   "source": [
    "shape = []\n",
    "acc = []\n",
    "t = []\n",
    "for m in min_df:\n",
    "    vectorizer = CountVectorizer(lowercase=True, min_df=m, stop_words=\"english\")\n",
    "    X_train_v = vectorizer.fit_transform(X_train[\"comment_text\"])\n",
    "    X_test_v = vectorizer.transform(X_test[\"comment_text\"])\n",
    "    shape.append(X_train_v.shape[1])\n",
    "    start_time = time.time()\n",
    "    model = opt.SGDClassifier(batch_size=2000, step_alpha=0.6, step_beta=0,\n",
    "                              tolerance=1e-5, max_iter=800, l2_coef=0.001, fit_intercept=True)\n",
    "    model.fit(X_train_v, y_train)\n",
    "    t.append(time.time()-start_time)\n",
    "    start_time = time.time()\n",
    "    y_pred_test = model.predict(X_test_v)\n",
    "    acc.append(round(acs(y_pred_test, y_test), 4))\n",
    "print(shape)\n",
    "print(acc)\n",
    "print(t)"
   ]
  },
  {
   "cell_type": "code",
   "execution_count": 21,
   "metadata": {},
   "outputs": [
    {
     "name": "stdout",
     "output_type": "stream",
     "text": [
      "[2957, 3452, 3660]\n",
      "[0.7423, 0.8011, 0.8485]\n",
      "[8.27504587173462, 9.799025535583496, 10.779331684112549]\n"
     ]
    }
   ],
   "source": [
    "shape_2 = []\n",
    "acc_2 = []\n",
    "t_2 = []\n",
    "for m in max_df:\n",
    "    vectorizer = CountVectorizer(lowercase=True, min_df=50, max_df=m, stop_words=\"english\")\n",
    "    X_train_v = vectorizer.fit_transform(X_train[\"comment_text\"])\n",
    "    X_test_v = vectorizer.transform(X_test[\"comment_text\"])\n",
    "    shape_2.append(X_train_v.shape[1])\n",
    "    start_time = time.time()\n",
    "    model = opt.SGDClassifier(batch_size=2000, step_alpha=0.4, step_beta=0,\n",
    "                              tolerance=1e-5, max_iter=1000, l2_coef=0.001, fit_intercept=True)\n",
    "    model.fit(X_train_v, y_train)\n",
    "    t_2.append(time.time()-start_time)\n",
    "    start_time = time.time()\n",
    "    y_pred_test = model.predict(X_test_v)\n",
    "    acc_2.append(round(acs(y_pred_test, y_test), 4))\n",
    "print(shape_2)\n",
    "print(acc_2)\n",
    "print(t_2)"
   ]
  },
  {
   "cell_type": "code",
   "execution_count": 23,
   "metadata": {},
   "outputs": [
    {
     "name": "stdout",
     "output_type": "stream",
     "text": [
      "[10935, 2082, 515, 150]\n",
      "[0.7475, 0.7788, 0.8089, 0.7824]\n",
      "[23.265947580337524, 6.683082580566406, 3.14316987991333, 1.9221878051757812]\n"
     ]
    }
   ],
   "source": [
    "shape = []\n",
    "acc = []\n",
    "t = []\n",
    "for m in min_df:\n",
    "    vectorizer = TfidfVectorizer(lowercase=True, min_df=m, stop_words=\"english\")\n",
    "    X_train_tf_lem = vectorizer.fit_transform(X_train[\"comment_text\"])\n",
    "    X_test_tf_lem = vectorizer.transform(X_test[\"comment_text\"])\n",
    "    shape.append(X_train_tf_lem.shape[1])\n",
    "    start_time = time.time()\n",
    "    model = opt.SGDClassifier(batch_size=2000, step_alpha=0.6, step_beta=0,\n",
    "                              tolerance=1e-5, max_iter=800, l2_coef=0.001, fit_intercept=True)\n",
    "    model.fit(X_train_tf_lem, y_train)\n",
    "    t.append(time.time()-start_time)\n",
    "    start_time = time.time()\n",
    "    y_pred_test = model.predict(X_test_tf_lem)\n",
    "    acc.append(round(acs(y_pred_test, y_test), 4))\n",
    "print(shape)\n",
    "print(acc)\n",
    "print(t)"
   ]
  },
  {
   "cell_type": "code",
   "execution_count": 26,
   "metadata": {},
   "outputs": [
    {
     "name": "stdout",
     "output_type": "stream",
     "text": [
      "[2957, 3452, 3660]\n",
      "[0.6983, 0.7256, 0.766]\n",
      "[7.428291320800781, 8.672260999679565, 10.543015956878662]\n"
     ]
    }
   ],
   "source": [
    "shape = []\n",
    "acc = []\n",
    "t = []\n",
    "for m in max_df:\n",
    "    vectorizer = TfidfVectorizer(lowercase=True, min_df=50, max_df=m, stop_words=\"english\")\n",
    "    X_train_tf_lem = vectorizer.fit_transform(X_train[\"comment_text\"])\n",
    "    X_test_tf_lem = vectorizer.transform(X_test[\"comment_text\"])\n",
    "    shape.append(X_train_tf_lem.shape[1])\n",
    "    start_time = time.time()\n",
    "    model = opt.SGDClassifier(batch_size=2000, step_alpha=0.6, step_beta=0,\n",
    "                              tolerance=1e-5, max_iter=800, l2_coef=0.001, fit_intercept=True)\n",
    "    model.fit(X_train_tf_lem, y_train)\n",
    "    t.append(time.time()-start_time)\n",
    "    start_time = time.time()\n",
    "    y_pred_test = model.predict(X_test_tf_lem)\n",
    "    acc.append(round(acs(y_pred_test, y_test), 4))\n",
    "print(shape)\n",
    "print(acc)\n",
    "print(t)"
   ]
  },
  {
   "cell_type": "code",
   "execution_count": null,
   "metadata": {},
   "outputs": [],
   "source": []
  }
 ],
 "metadata": {
  "kernelspec": {
   "display_name": "Python 3",
   "language": "python",
   "name": "python3"
  },
  "language_info": {
   "codemirror_mode": {
    "name": "ipython",
    "version": 3
   },
   "file_extension": ".py",
   "mimetype": "text/x-python",
   "name": "python",
   "nbconvert_exporter": "python",
   "pygments_lexer": "ipython3",
   "version": "3.8.3"
  }
 },
 "nbformat": 4,
 "nbformat_minor": 4
}
