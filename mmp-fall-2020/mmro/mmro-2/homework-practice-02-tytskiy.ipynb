{
 "cells": [
  {
   "cell_type": "markdown",
   "metadata": {},
   "source": [
    "## Машинное обучение, ВМК МГУ\n",
    "\n",
    "## Практическое задание 2\n",
    "\n",
    "### Общая информация\n",
    "Дата выдачи: 7 октября 2020\n",
    "\n",
    "Максимальная оценка: 10 баллов + 1 бонусный балл\n",
    "\n",
    "Мягкий дедлайн: 23:59MSK 20 октября\n",
    "\n",
    "Жесткий дедлайн: 23:59MSK 27 октября."
   ]
  },
  {
   "cell_type": "markdown",
   "metadata": {},
   "source": [
    "### О задании\n",
    "\n",
    "В этом задании вы:\n",
    "- Познакомитесь с методом решения задачи регрессии на основе метода ближайших соседей.\n",
    "- Реализуете алгоритм kNN для задачи регрессии.\n",
    "- Изучите методы работы с категориальными и текстовыми переменными.\n",
    "\n",
    "\n",
    "### Оценивание и штрафы\n",
    "Каждая из задач имеет определенную «стоимость» (указана в скобках около задачи). Максимально допустимая оценка за работу — 10 баллов.\n",
    "\n",
    "Сдавать задание после указанного срока сдачи нельзя. При выставлении неполного балла за задание в связи с наличием ошибок на усмотрение проверяющего предусмотрена возможность исправить работу на указанных в ответном письме условиях.\n",
    "\n",
    "Задание выполняется самостоятельно. «Похожие» решения считаются плагиатом и все задействованные студенты (в том числе те, у кого списали) не могут получить за него больше 0 баллов (подробнее о плагиате см. на странице курса). Если вы нашли решение какого-то из заданий (или его часть) в открытом источнике, необходимо указать ссылку на этот источник в отдельном блоке в конце вашей работы (скорее всего вы будете не единственным, кто это нашел, поэтому чтобы исключить подозрение в плагиате, необходима ссылка на источник).\n",
    "\n",
    "Неэффективная реализация кода может негативно отразиться на оценке.\n",
    "\n",
    "\n",
    "### Формат сдачи\n",
    "Для сдачи задания переименуйте получившийся файл *.ipynb в соответствии со следующим форматом: homework-practice-02-Username.ipynb, где Username — ваша фамилия и имя на латинице именно в таком порядке (например, homework-practice-02-ivanov.ipynb).\n",
    "\n",
    "Далее отправьте этот файл на anytask в соответсвующий раздел."
   ]
  },
  {
   "cell_type": "code",
   "execution_count": 1,
   "metadata": {},
   "outputs": [],
   "source": [
    "import numpy as np\n",
    "import pandas as pd"
   ]
  },
  {
   "cell_type": "markdown",
   "metadata": {},
   "source": [
    "Все эксперименты в этой лабораторной работе предлагается проводить на данных соревнования New York City Airbnb Open Data: https://www.kaggle.com/dgomonov/new-york-city-airbnb-open-data#AB_NYC_2019.csv\n",
    "\n",
    "В данной задаче предлагается предсказать цену на съем квартиры в зависимости от её параметров."
   ]
  },
  {
   "cell_type": "code",
   "execution_count": 2,
   "metadata": {},
   "outputs": [
    {
     "data": {
      "text/html": [
       "<div>\n",
       "<style scoped>\n",
       "    .dataframe tbody tr th:only-of-type {\n",
       "        vertical-align: middle;\n",
       "    }\n",
       "\n",
       "    .dataframe tbody tr th {\n",
       "        vertical-align: top;\n",
       "    }\n",
       "\n",
       "    .dataframe thead th {\n",
       "        text-align: right;\n",
       "    }\n",
       "</style>\n",
       "<table border=\"1\" class=\"dataframe\">\n",
       "  <thead>\n",
       "    <tr style=\"text-align: right;\">\n",
       "      <th></th>\n",
       "      <th>id</th>\n",
       "      <th>name</th>\n",
       "      <th>host_id</th>\n",
       "      <th>host_name</th>\n",
       "      <th>neighbourhood_group</th>\n",
       "      <th>neighbourhood</th>\n",
       "      <th>latitude</th>\n",
       "      <th>longitude</th>\n",
       "      <th>room_type</th>\n",
       "      <th>price</th>\n",
       "      <th>minimum_nights</th>\n",
       "      <th>number_of_reviews</th>\n",
       "      <th>last_review</th>\n",
       "      <th>reviews_per_month</th>\n",
       "      <th>calculated_host_listings_count</th>\n",
       "      <th>availability_365</th>\n",
       "    </tr>\n",
       "  </thead>\n",
       "  <tbody>\n",
       "    <tr>\n",
       "      <th>0</th>\n",
       "      <td>2539</td>\n",
       "      <td>Clean &amp; quiet apt home by the park</td>\n",
       "      <td>2787</td>\n",
       "      <td>John</td>\n",
       "      <td>Brooklyn</td>\n",
       "      <td>Kensington</td>\n",
       "      <td>40.64749</td>\n",
       "      <td>-73.97237</td>\n",
       "      <td>Private room</td>\n",
       "      <td>149</td>\n",
       "      <td>1</td>\n",
       "      <td>9</td>\n",
       "      <td>2018-10-19</td>\n",
       "      <td>0.21</td>\n",
       "      <td>6</td>\n",
       "      <td>365</td>\n",
       "    </tr>\n",
       "    <tr>\n",
       "      <th>1</th>\n",
       "      <td>2595</td>\n",
       "      <td>Skylit Midtown Castle</td>\n",
       "      <td>2845</td>\n",
       "      <td>Jennifer</td>\n",
       "      <td>Manhattan</td>\n",
       "      <td>Midtown</td>\n",
       "      <td>40.75362</td>\n",
       "      <td>-73.98377</td>\n",
       "      <td>Entire home/apt</td>\n",
       "      <td>225</td>\n",
       "      <td>1</td>\n",
       "      <td>45</td>\n",
       "      <td>2019-05-21</td>\n",
       "      <td>0.38</td>\n",
       "      <td>2</td>\n",
       "      <td>355</td>\n",
       "    </tr>\n",
       "    <tr>\n",
       "      <th>2</th>\n",
       "      <td>3647</td>\n",
       "      <td>THE VILLAGE OF HARLEM....NEW YORK !</td>\n",
       "      <td>4632</td>\n",
       "      <td>Elisabeth</td>\n",
       "      <td>Manhattan</td>\n",
       "      <td>Harlem</td>\n",
       "      <td>40.80902</td>\n",
       "      <td>-73.94190</td>\n",
       "      <td>Private room</td>\n",
       "      <td>150</td>\n",
       "      <td>3</td>\n",
       "      <td>0</td>\n",
       "      <td>NaN</td>\n",
       "      <td>NaN</td>\n",
       "      <td>1</td>\n",
       "      <td>365</td>\n",
       "    </tr>\n",
       "    <tr>\n",
       "      <th>3</th>\n",
       "      <td>3831</td>\n",
       "      <td>Cozy Entire Floor of Brownstone</td>\n",
       "      <td>4869</td>\n",
       "      <td>LisaRoxanne</td>\n",
       "      <td>Brooklyn</td>\n",
       "      <td>Clinton Hill</td>\n",
       "      <td>40.68514</td>\n",
       "      <td>-73.95976</td>\n",
       "      <td>Entire home/apt</td>\n",
       "      <td>89</td>\n",
       "      <td>1</td>\n",
       "      <td>270</td>\n",
       "      <td>2019-07-05</td>\n",
       "      <td>4.64</td>\n",
       "      <td>1</td>\n",
       "      <td>194</td>\n",
       "    </tr>\n",
       "    <tr>\n",
       "      <th>4</th>\n",
       "      <td>5022</td>\n",
       "      <td>Entire Apt: Spacious Studio/Loft by central park</td>\n",
       "      <td>7192</td>\n",
       "      <td>Laura</td>\n",
       "      <td>Manhattan</td>\n",
       "      <td>East Harlem</td>\n",
       "      <td>40.79851</td>\n",
       "      <td>-73.94399</td>\n",
       "      <td>Entire home/apt</td>\n",
       "      <td>80</td>\n",
       "      <td>10</td>\n",
       "      <td>9</td>\n",
       "      <td>2018-11-19</td>\n",
       "      <td>0.10</td>\n",
       "      <td>1</td>\n",
       "      <td>0</td>\n",
       "    </tr>\n",
       "  </tbody>\n",
       "</table>\n",
       "</div>"
      ],
      "text/plain": [
       "     id                                              name  host_id  \\\n",
       "0  2539                Clean & quiet apt home by the park     2787   \n",
       "1  2595                             Skylit Midtown Castle     2845   \n",
       "2  3647               THE VILLAGE OF HARLEM....NEW YORK !     4632   \n",
       "3  3831                   Cozy Entire Floor of Brownstone     4869   \n",
       "4  5022  Entire Apt: Spacious Studio/Loft by central park     7192   \n",
       "\n",
       "     host_name neighbourhood_group neighbourhood  latitude  longitude  \\\n",
       "0         John            Brooklyn    Kensington  40.64749  -73.97237   \n",
       "1     Jennifer           Manhattan       Midtown  40.75362  -73.98377   \n",
       "2    Elisabeth           Manhattan        Harlem  40.80902  -73.94190   \n",
       "3  LisaRoxanne            Brooklyn  Clinton Hill  40.68514  -73.95976   \n",
       "4        Laura           Manhattan   East Harlem  40.79851  -73.94399   \n",
       "\n",
       "         room_type  price  minimum_nights  number_of_reviews last_review  \\\n",
       "0     Private room    149               1                  9  2018-10-19   \n",
       "1  Entire home/apt    225               1                 45  2019-05-21   \n",
       "2     Private room    150               3                  0         NaN   \n",
       "3  Entire home/apt     89               1                270  2019-07-05   \n",
       "4  Entire home/apt     80              10                  9  2018-11-19   \n",
       "\n",
       "   reviews_per_month  calculated_host_listings_count  availability_365  \n",
       "0               0.21                               6               365  \n",
       "1               0.38                               2               355  \n",
       "2                NaN                               1               365  \n",
       "3               4.64                               1               194  \n",
       "4               0.10                               1                 0  "
      ]
     },
     "execution_count": 2,
     "metadata": {},
     "output_type": "execute_result"
    }
   ],
   "source": [
    "data = pd.read_csv('AB_NYC_2019.csv')\n",
    "data.head()"
   ]
  },
  {
   "cell_type": "code",
   "execution_count": 3,
   "metadata": {},
   "outputs": [
    {
     "data": {
      "text/plain": [
       "(48895, 16)"
      ]
     },
     "execution_count": 3,
     "metadata": {},
     "output_type": "execute_result"
    }
   ],
   "source": [
    "data.shape"
   ]
  },
  {
   "cell_type": "code",
   "execution_count": 4,
   "metadata": {},
   "outputs": [
    {
     "name": "stdout",
     "output_type": "stream",
     "text": [
      "id 48895\n",
      "name 47906\n",
      "host_id 37457\n",
      "host_name 11453\n",
      "neighbourhood_group 5\n",
      "neighbourhood 221\n",
      "latitude 19048\n",
      "longitude 14718\n",
      "room_type 3\n",
      "price 674\n",
      "minimum_nights 109\n",
      "number_of_reviews 394\n",
      "last_review 1765\n",
      "reviews_per_month 938\n",
      "calculated_host_listings_count 47\n",
      "availability_365 366\n"
     ]
    }
   ],
   "source": [
    "# число значений у признаков\n",
    "for col_name in data.columns:\n",
    "    print(col_name, len(data[col_name].unique()))"
   ]
  },
  {
   "cell_type": "code",
   "execution_count": 21,
   "metadata": {},
   "outputs": [
    {
     "data": {
      "text/plain": [
       "id                                0\n",
       "name                              0\n",
       "host_id                           0\n",
       "host_name                         0\n",
       "neighbourhood_group               0\n",
       "neighbourhood                     0\n",
       "latitude                          0\n",
       "longitude                         0\n",
       "room_type                         0\n",
       "price                             0\n",
       "minimum_nights                    0\n",
       "number_of_reviews                 0\n",
       "last_review                       0\n",
       "reviews_per_month                 0\n",
       "calculated_host_listings_count    0\n",
       "availability_365                  0\n",
       "dtype: int64"
      ]
     },
     "execution_count": 21,
     "metadata": {},
     "output_type": "execute_result"
    }
   ],
   "source": [
    "data.isna().sum()"
   ]
  },
  {
   "cell_type": "markdown",
   "metadata": {},
   "source": [
    "Проверим имеет ли смысл заполнять nan в last_review нулями"
   ]
  },
  {
   "cell_type": "code",
   "execution_count": 22,
   "metadata": {},
   "outputs": [
    {
     "data": {
      "text/plain": [
       "nan"
      ]
     },
     "execution_count": 22,
     "metadata": {},
     "output_type": "execute_result"
    }
   ],
   "source": [
    "data[data[\"last_review\"]!=data[\"last_review\"]][\"number_of_reviews\"].mean()"
   ]
  },
  {
   "cell_type": "markdown",
   "metadata": {},
   "source": [
    "Выходит, что да,ведь у всех пропусков количество review равно нулю"
   ]
  },
  {
   "cell_type": "markdown",
   "metadata": {},
   "source": [
    "Как видите, в данных есть пропуски. Не забудьте обработать их"
   ]
  },
  {
   "cell_type": "code",
   "execution_count": 23,
   "metadata": {},
   "outputs": [
    {
     "data": {
      "text/html": [
       "<div>\n",
       "<style scoped>\n",
       "    .dataframe tbody tr th:only-of-type {\n",
       "        vertical-align: middle;\n",
       "    }\n",
       "\n",
       "    .dataframe tbody tr th {\n",
       "        vertical-align: top;\n",
       "    }\n",
       "\n",
       "    .dataframe thead th {\n",
       "        text-align: right;\n",
       "    }\n",
       "</style>\n",
       "<table border=\"1\" class=\"dataframe\">\n",
       "  <thead>\n",
       "    <tr style=\"text-align: right;\">\n",
       "      <th></th>\n",
       "      <th>id</th>\n",
       "      <th>name</th>\n",
       "      <th>host_id</th>\n",
       "      <th>host_name</th>\n",
       "      <th>neighbourhood_group</th>\n",
       "      <th>neighbourhood</th>\n",
       "      <th>latitude</th>\n",
       "      <th>longitude</th>\n",
       "      <th>room_type</th>\n",
       "      <th>price</th>\n",
       "      <th>minimum_nights</th>\n",
       "      <th>number_of_reviews</th>\n",
       "      <th>last_review</th>\n",
       "      <th>reviews_per_month</th>\n",
       "      <th>calculated_host_listings_count</th>\n",
       "      <th>availability_365</th>\n",
       "    </tr>\n",
       "  </thead>\n",
       "  <tbody>\n",
       "    <tr>\n",
       "      <th>0</th>\n",
       "      <td>2539</td>\n",
       "      <td>Clean &amp; quiet apt home by the park</td>\n",
       "      <td>2787</td>\n",
       "      <td>John</td>\n",
       "      <td>Brooklyn</td>\n",
       "      <td>Kensington</td>\n",
       "      <td>40.64749</td>\n",
       "      <td>-73.97237</td>\n",
       "      <td>Private room</td>\n",
       "      <td>149</td>\n",
       "      <td>1</td>\n",
       "      <td>9</td>\n",
       "      <td>2018-10-19</td>\n",
       "      <td>0.21</td>\n",
       "      <td>6</td>\n",
       "      <td>365</td>\n",
       "    </tr>\n",
       "    <tr>\n",
       "      <th>1</th>\n",
       "      <td>2595</td>\n",
       "      <td>Skylit Midtown Castle</td>\n",
       "      <td>2845</td>\n",
       "      <td>Jennifer</td>\n",
       "      <td>Manhattan</td>\n",
       "      <td>Midtown</td>\n",
       "      <td>40.75362</td>\n",
       "      <td>-73.98377</td>\n",
       "      <td>Entire home/apt</td>\n",
       "      <td>225</td>\n",
       "      <td>1</td>\n",
       "      <td>45</td>\n",
       "      <td>2019-05-21</td>\n",
       "      <td>0.38</td>\n",
       "      <td>2</td>\n",
       "      <td>355</td>\n",
       "    </tr>\n",
       "    <tr>\n",
       "      <th>2</th>\n",
       "      <td>3647</td>\n",
       "      <td>THE VILLAGE OF HARLEM....NEW YORK !</td>\n",
       "      <td>4632</td>\n",
       "      <td>Elisabeth</td>\n",
       "      <td>Manhattan</td>\n",
       "      <td>Harlem</td>\n",
       "      <td>40.80902</td>\n",
       "      <td>-73.94190</td>\n",
       "      <td>Private room</td>\n",
       "      <td>150</td>\n",
       "      <td>3</td>\n",
       "      <td>0</td>\n",
       "      <td>no</td>\n",
       "      <td>0.00</td>\n",
       "      <td>1</td>\n",
       "      <td>365</td>\n",
       "    </tr>\n",
       "    <tr>\n",
       "      <th>3</th>\n",
       "      <td>3831</td>\n",
       "      <td>Cozy Entire Floor of Brownstone</td>\n",
       "      <td>4869</td>\n",
       "      <td>LisaRoxanne</td>\n",
       "      <td>Brooklyn</td>\n",
       "      <td>Clinton Hill</td>\n",
       "      <td>40.68514</td>\n",
       "      <td>-73.95976</td>\n",
       "      <td>Entire home/apt</td>\n",
       "      <td>89</td>\n",
       "      <td>1</td>\n",
       "      <td>270</td>\n",
       "      <td>2019-07-05</td>\n",
       "      <td>4.64</td>\n",
       "      <td>1</td>\n",
       "      <td>194</td>\n",
       "    </tr>\n",
       "    <tr>\n",
       "      <th>4</th>\n",
       "      <td>5022</td>\n",
       "      <td>Entire Apt: Spacious Studio/Loft by central park</td>\n",
       "      <td>7192</td>\n",
       "      <td>Laura</td>\n",
       "      <td>Manhattan</td>\n",
       "      <td>East Harlem</td>\n",
       "      <td>40.79851</td>\n",
       "      <td>-73.94399</td>\n",
       "      <td>Entire home/apt</td>\n",
       "      <td>80</td>\n",
       "      <td>10</td>\n",
       "      <td>9</td>\n",
       "      <td>2018-11-19</td>\n",
       "      <td>0.10</td>\n",
       "      <td>1</td>\n",
       "      <td>0</td>\n",
       "    </tr>\n",
       "  </tbody>\n",
       "</table>\n",
       "</div>"
      ],
      "text/plain": [
       "     id                                              name  host_id  \\\n",
       "0  2539                Clean & quiet apt home by the park     2787   \n",
       "1  2595                             Skylit Midtown Castle     2845   \n",
       "2  3647               THE VILLAGE OF HARLEM....NEW YORK !     4632   \n",
       "3  3831                   Cozy Entire Floor of Brownstone     4869   \n",
       "4  5022  Entire Apt: Spacious Studio/Loft by central park     7192   \n",
       "\n",
       "     host_name neighbourhood_group neighbourhood  latitude  longitude  \\\n",
       "0         John            Brooklyn    Kensington  40.64749  -73.97237   \n",
       "1     Jennifer           Manhattan       Midtown  40.75362  -73.98377   \n",
       "2    Elisabeth           Manhattan        Harlem  40.80902  -73.94190   \n",
       "3  LisaRoxanne            Brooklyn  Clinton Hill  40.68514  -73.95976   \n",
       "4        Laura           Manhattan   East Harlem  40.79851  -73.94399   \n",
       "\n",
       "         room_type  price  minimum_nights  number_of_reviews last_review  \\\n",
       "0     Private room    149               1                  9  2018-10-19   \n",
       "1  Entire home/apt    225               1                 45  2019-05-21   \n",
       "2     Private room    150               3                  0          no   \n",
       "3  Entire home/apt     89               1                270  2019-07-05   \n",
       "4  Entire home/apt     80              10                  9  2018-11-19   \n",
       "\n",
       "   reviews_per_month  calculated_host_listings_count  availability_365  \n",
       "0               0.21                               6               365  \n",
       "1               0.38                               2               355  \n",
       "2               0.00                               1               365  \n",
       "3               4.64                               1               194  \n",
       "4               0.10                               1                 0  "
      ]
     },
     "execution_count": 23,
     "metadata": {},
     "output_type": "execute_result"
    }
   ],
   "source": [
    "data.fillna({\"name\": \"missing\", \"host_name\": \"unknown\", \"last_review\": \"no\", \"reviews_per_month\": 0}, inplace=True)\n",
    "data.head(5)"
   ]
  },
  {
   "cell_type": "markdown",
   "metadata": {},
   "source": [
    "Разобъем данные на обучение и контроль."
   ]
  },
  {
   "cell_type": "code",
   "execution_count": 24,
   "metadata": {},
   "outputs": [],
   "source": [
    "from sklearn.model_selection import train_test_split\n",
    "X_train, X_test, y_train, y_test = train_test_split(data.drop(columns=['price']), data[['price']],\n",
    "                                                    test_size=0.3, random_state=241)"
   ]
  },
  {
   "cell_type": "markdown",
   "metadata": {},
   "source": [
    "## Часть 1: Алгоритм kNN в задаче регрессии"
   ]
  },
  {
   "cell_type": "markdown",
   "metadata": {},
   "source": [
    "<b> 1.1 (1.5 балла) </b>\n",
    "Реализуйте класс `KNNRegressor`, который используя метод k ближайших соседей решает задачу регрессии. Для решение данной задачи, необходимо найти $N_k$ - k соседей, и после использовать значения их целевых переменных для предсказания:\n",
    "\\begin{align}\n",
    "y = \\frac{1}{k}\\sum_{n \\in N_k}w_n y_n,\n",
    "\\end{align}\n",
    "\n",
    "где $w_n$ - вес каждого соседа. \n",
    "\n",
    "При этом `KNNRegressor` может работать в 2 режимах:\n",
    " - $uniform$ - ближайшие соседи учитываются с одинаковыми весами.\n",
    " - $distance$ - вес ближайших соседей зависит от расстояния\n",
    " \n",
    "**Сигнатуру методов, классов, функции при желании можно менять.**"
   ]
  },
  {
   "cell_type": "code",
   "execution_count": 25,
   "metadata": {},
   "outputs": [],
   "source": [
    "from typing import Union, Callable, Iterable, Optional\n",
    "from sklearn.neighbors import NearestNeighbors\n",
    "\n",
    "\n",
    "class KNNRegressor:\n",
    "\n",
    "    def __init__(self, n_neighbors: int, metric: Union[str, Callable]=\"euclidean\",\n",
    "                 mode: str = 'uniform', correct: float = 10e-5, **kwargs):\n",
    "        \"\"\"\n",
    "        params:\n",
    "            n_neighbors: number of neighbors\n",
    "            metric: metric to use for distance computation\n",
    "            mode: 'uniform' or 'distance'\n",
    "            'uniform' - all points in each neighborhood are weighted equally\n",
    "            'distance' - weight points by the inverse of their distance\n",
    "            'correct' - additive value if distance will be zero\n",
    "        \"\"\"\n",
    "        self.__nn = NearestNeighbors(n_neighbors=n_neighbors, metric=metric, algorithm=\"brute\", **kwargs)\n",
    "        self.__mode = mode\n",
    "        self.__n_neighbors = n_neighbors\n",
    "        self.__correct = correct\n",
    "\n",
    "    def fit(self, X: np.array, y: np.array) -> None:\n",
    "        \"\"\"\n",
    "            X: data\n",
    "            y: labels\n",
    "        \"\"\"\n",
    "        self.__y = y\n",
    "        self.__nn.fit(X)\n",
    "\n",
    "    def predict(self, X: np.array, n_neighbors: Optional[int] = None) -> np.array:\n",
    "        \"\"\"\n",
    "            X: data\n",
    "            n_neighbors: number of neighbors\n",
    "        \"\"\"\n",
    "        if n_neighbors is None:\n",
    "            n_neighbors = self.__n_neighbors\n",
    "        matrix_pairwise, matrix_indexs = self.__nn.kneighbors(X, n_neighbors=n_neighbors, return_distance=True)\n",
    "        y_values = np.apply_along_axis(lambda x: self.__y[x], arr=matrix_indexs, axis=1)\n",
    "\n",
    "        if self.__mode == \"distance\":\n",
    "            return np.average(y_values, weights=1/(y_values+self.__correct), axis=1)\n",
    "        return y_values.mean(axis=1)"
   ]
  },
  {
   "cell_type": "markdown",
   "metadata": {},
   "source": [
    "## Часть 2: Категориальные признаки"
   ]
  },
  {
   "cell_type": "markdown",
   "metadata": {},
   "source": [
    "<b>2.1 (1 балл)</b>\n",
    "Реализуйте три функции расстояния на категориальных признаках _(в этом задании только на них!)_ , которые обсуждались на [втором семинаре](https://github.com/mmp-mmro-team/mmp_mmro_fall_2020/blob/master/seminars/sem02_knn.pdf). Не забудьте, что KNNRegressor должен уметь работать с этими функциями расстояния. Как вариант, можно реализовать метрики как [user-defined distance](http://scikit-learn.org/stable/modules/generated/sklearn.neighbors.DistanceMetric.html)."
   ]
  },
  {
   "cell_type": "code",
   "execution_count": 26,
   "metadata": {
    "scrolled": true
   },
   "outputs": [],
   "source": [
    "\n",
    "def freq_categorical(X: np.array, uniq: Optional[list] = None, count: Optional[list] = None,\n",
    "                     return_count: bool = True) -> list:\n",
    "    tmp_list = []\n",
    "    for i in range(X.shape[1]):\n",
    "        if(uniq is not None and count is not None):\n",
    "            u, c = uniq[i], count[i]\n",
    "        else:\n",
    "            u, c = np.unique(X[:, i], return_counts=True)\n",
    "        if(not return_count):\n",
    "            c = c/c.sum()\n",
    "        tmp_list.append(dict(zip(u, c)))\n",
    "    return tmp_list\n",
    "\n",
    "\n",
    "def proba_coincidence(X: np.array) -> list:\n",
    "    tmp_list = []\n",
    "    for i in range(X.shape[1]):\n",
    "        y, count = np.unique(X[:, i], return_counts=True)\n",
    "        arg_sort = np.argsort(count)\n",
    "        y = y[arg_sort]\n",
    "        count = count*(count - 1)/(X.shape[0]*(X.shape[0]-1))\n",
    "        count = np.cumsum(count)\n",
    "        tmp_list.append(dict(zip(y, count)))\n",
    "    return tmp_list\n",
    "\n",
    "\n",
    "def freq_encoder(X: np.array, freq: Union[list, str] = \"freq_categorical\") -> np.array:\n",
    "    if isinstance(freq, str):\n",
    "        if freq == \"freq_categorical\":\n",
    "            freq = freq_categorical(X)\n",
    "        elif freq == \"proba_coincidence\":\n",
    "            freq = proba_coincidence(X)\n",
    "        else:\n",
    "            raise ValueError\n",
    "\n",
    "    ans = np.empty_like(X, dtype=float)\n",
    "    for i in range(X.shape[0]):\n",
    "        for j in range(X.shape[1]):\n",
    "            ans[i, j] = freq[j].get(X[i, j], 0)\n",
    "    return ans"
   ]
  },
  {
   "cell_type": "code",
   "execution_count": 27,
   "metadata": {},
   "outputs": [],
   "source": [
    "import sklearn.neighbors\n",
    "import sklearn.metrics\n",
    "\n",
    "vbrute = sklearn.neighbors.VALID_METRICS['brute']\n",
    "vmetrics = sklearn.metrics.pairwise._VALID_METRICS\n",
    "pairwise = sklearn.metrics.pairwise.PAIRWISE_DISTANCE_FUNCTIONS\n",
    "\n",
    "def install_metric(f):\n",
    "    name = f.__name__\n",
    "    if name not in vbrute:\n",
    "        vbrute.append(name)\n",
    "    if name not in vmetrics:\n",
    "        vmetrics.append(name)\n",
    "\n",
    "    pairwise[name] = f\n",
    "    return f\n"
   ]
  },
  {
   "cell_type": "code",
   "execution_count": 28,
   "metadata": {},
   "outputs": [],
   "source": [
    "@install_metric\n",
    "def overlap_hack(X: np.array, Z: np.array, w: Union[str, np.array] = \"uniform\") -> float:\n",
    "    if type(w) != str:\n",
    "        w = w\n",
    "    else:\n",
    "        w = np.full_like(X[0], 1, dtype=float)\n",
    "    return ((X[:, None, :] != Z[None, :, :])*w[None, None, :]).sum(axis=-1)\n",
    "\n",
    "\n",
    "@install_metric\n",
    "def flattened_overlap_hack(X: np.array, Z: np.array, prob: Optional[np.array] = None,\n",
    "                           w: Union[str, np.array] = \"uniform\") -> float:\n",
    "    if prob is None:\n",
    "        prob = freq_encoder(Z, \"proba_coincidence\")\n",
    "\n",
    "    if type(w) != str:\n",
    "        w = w\n",
    "    else:\n",
    "        w = np.full_like(X[0], 1, dtype=float)\n",
    "\n",
    "    distances = (X[:, None, :] != Z[None, :, :])+(X[:, None, :] == Z[None, :, :])*prob[None, :, :]\n",
    "    return (distances*w[None, None, :]).sum(axis=-1)\n",
    "\n",
    "\n",
    "@install_metric\n",
    "def log_overlap_hack(X: np.array, Z: np.array, Z_freq: Optional[np.array] = None,\n",
    "                     w: Union[str, np.array] = \"uniform\") -> float:\n",
    "    if Z_freq is None:\n",
    "        Z_freq = freq_encoder(Z)\n",
    "\n",
    "    if type(w) != str:\n",
    "        w = w\n",
    "    else:\n",
    "        w = np.full_like(X[0], 1, dtype=float)\n",
    "        \n",
    "    # Из-за chunks пришлось делать такой костыль\n",
    "    X_freq = freq_encoder(X)\n",
    "\n",
    "    distances = (X[:, None, :] != Z[None, :, :])*np.log(1+X_freq[:, None, :])*np.log(1+Z_freq[None, :, :])\n",
    "    return (distances*w[None, None, :]).sum(axis=-1)"
   ]
  },
  {
   "cell_type": "markdown",
   "metadata": {},
   "source": [
    "<b>2.2 (1 балл)</b> Найдите все категориальные признаки в данных. Подсчитайте для каждой из метрик качество на тестовой выборке `X_test` при числе соседей $k = 10$. Качество измеряйте с помощью RMSE.\n",
    "\n",
    "Какая функция расстояния оказалась лучшей? Почему?"
   ]
  },
  {
   "cell_type": "code",
   "execution_count": 31,
   "metadata": {},
   "outputs": [
    {
     "name": "stdout",
     "output_type": "stream",
     "text": [
      "<class 'pandas.core.frame.DataFrame'>\n",
      "RangeIndex: 48895 entries, 0 to 48894\n",
      "Data columns (total 16 columns):\n",
      " #   Column                          Non-Null Count  Dtype  \n",
      "---  ------                          --------------  -----  \n",
      " 0   id                              48895 non-null  int64  \n",
      " 1   name                            48895 non-null  object \n",
      " 2   host_id                         48895 non-null  int64  \n",
      " 3   host_name                       48895 non-null  object \n",
      " 4   neighbourhood_group             48895 non-null  object \n",
      " 5   neighbourhood                   48895 non-null  object \n",
      " 6   latitude                        48895 non-null  float64\n",
      " 7   longitude                       48895 non-null  float64\n",
      " 8   room_type                       48895 non-null  object \n",
      " 9   price                           48895 non-null  int64  \n",
      " 10  minimum_nights                  48895 non-null  int64  \n",
      " 11  number_of_reviews               48895 non-null  int64  \n",
      " 12  last_review                     48895 non-null  object \n",
      " 13  reviews_per_month               48895 non-null  float64\n",
      " 14  calculated_host_listings_count  48895 non-null  int64  \n",
      " 15  availability_365                48895 non-null  int64  \n",
      "dtypes: float64(3), int64(7), object(6)\n",
      "memory usage: 6.0+ MB\n"
     ]
    }
   ],
   "source": [
    "info=data.info()"
   ]
  },
  {
   "cell_type": "markdown",
   "metadata": {},
   "source": [
    "**Категориальных признаков:4** (На самом деле можно по-разному выбрать категориальные данные, но я остановлюсь на таком  ↓)"
   ]
  },
  {
   "cell_type": "code",
   "execution_count": 29,
   "metadata": {},
   "outputs": [],
   "source": [
    "from sklearn.preprocessing import OrdinalEncoder\n",
    "cat = [\"host_name\", \"neighbourhood_group\", \"neighbourhood\", \"room_type\"]\n",
    "encoder = OrdinalEncoder().fit(data[cat].to_numpy())\n",
    "X_train_cat = encoder.transform(X_train[cat].to_numpy())\n",
    "X_test_cat = encoder.transform(X_test[cat].to_numpy())\n",
    "\n",
    "y_train_price = y_train.to_numpy()\n",
    "y_test_price = y_test.to_numpy()"
   ]
  },
  {
   "cell_type": "code",
   "execution_count": 30,
   "metadata": {},
   "outputs": [],
   "source": [
    "from sklearn.metrics import mean_squared_error,mean_absolute_error"
   ]
  },
  {
   "cell_type": "markdown",
   "metadata": {},
   "source": [
    "**Меняю дефолтные настройки, чтобы при вычислении расстояния компьютер не умер от трехмерного тензора**"
   ]
  },
  {
   "cell_type": "code",
   "execution_count": 32,
   "metadata": {},
   "outputs": [
    {
     "data": {
      "text/plain": [
       "{'assume_finite': False,\n",
       " 'working_memory': 200,\n",
       " 'print_changed_only': True,\n",
       " 'display': 'text'}"
      ]
     },
     "execution_count": 32,
     "metadata": {},
     "output_type": "execute_result"
    }
   ],
   "source": [
    "sklearn.set_config(working_memory=200)\n",
    "sklearn.get_config()"
   ]
  },
  {
   "cell_type": "code",
   "execution_count": 33,
   "metadata": {},
   "outputs": [],
   "source": [
    "freq_train = freq_encoder(X_train_cat)\n",
    "prob = freq_encoder(X_train_cat, \"proba_coincidence\")"
   ]
  },
  {
   "cell_type": "code",
   "execution_count": 18,
   "metadata": {},
   "outputs": [
    {
     "data": {
      "text/plain": [
       "209.02866887099538"
      ]
     },
     "execution_count": 18,
     "metadata": {},
     "output_type": "execute_result"
    }
   ],
   "source": [
    "model = KNNRegressor(10, metric=\"flattened_overlap_hack\", metric_params={\"prob\": prob})\n",
    "model.fit(X_train_cat, y_train_price)\n",
    "mean_squared_error(model.predict(X_test_cat), y_test_price, squared=False)"
   ]
  },
  {
   "cell_type": "code",
   "execution_count": 19,
   "metadata": {},
   "outputs": [
    {
     "data": {
      "text/plain": [
       "215.36188612194348"
      ]
     },
     "execution_count": 19,
     "metadata": {},
     "output_type": "execute_result"
    }
   ],
   "source": [
    "model = KNNRegressor(10, metric=\"overlap_hack\")\n",
    "model.fit(X_train_cat, y_train_price)\n",
    "mean_squared_error(model.predict(X_test_cat), y_test_price, squared=False)"
   ]
  },
  {
   "cell_type": "markdown",
   "metadata": {},
   "source": [
    "**Упс.. проблема (log_overlap)**\n",
    "\n",
    "Так как Sklearn делит X_test на батчи при вычислении расстояния, log(1+fi) нормальным способом нельзя посчитать для всего X_test.\n",
    "Приходится считать для текущего батча. Это можно починить костыльным костылем в виде глобальной переменной - счетчика количества запусков,  но мое внутреннее чувство прекрасного кричит не делать этого.\n",
    "\n",
    "Наверное, это несильно страшно, просто мой компьютер не тянет этот тензор без батчей посчитать.\n",
    "\n",
    "Я думаю, что чем больше батч, тем больше будет похоже на идеально правильный вариант реализации."
   ]
  },
  {
   "cell_type": "code",
   "execution_count": 35,
   "metadata": {},
   "outputs": [
    {
     "data": {
      "text/plain": [
       "218.75029304889654"
      ]
     },
     "execution_count": 35,
     "metadata": {},
     "output_type": "execute_result"
    }
   ],
   "source": [
    "model = KNNRegressor(10, metric=\"log_overlap_hack\", metric_params={\"Z_freq\": freq_train})\n",
    "model.fit(X_train_cat, y_train_price)\n",
    "mean_squared_error(model.predict(X_test_cat), y_test_price, squared=False)"
   ]
  },
  {
   "cell_type": "markdown",
   "metadata": {},
   "source": [
    "**Если честно, то мне сложно сказать, что какая-то из функций оказалась лучше, чем другая. Все они показывают довольно плохое качество, но можно выделить flattened_overlap - она более умно действует, если xi=zi.**"
   ]
  },
  {
   "cell_type": "markdown",
   "metadata": {},
   "source": [
    "<b>2.3 (1 балл) бонус</b> Подберите лучшее (на тестовой выборке) число соседей $k$ для каждой из функций расстояния. Какого удалось достичь уровня качества?"
   ]
  },
  {
   "cell_type": "code",
   "execution_count": 27,
   "metadata": {},
   "outputs": [
    {
     "name": "stdout",
     "output_type": "stream",
     "text": [
      "neighbors: 1\n",
      "flattened_overlap RMSE: 267.24\n",
      "overlap RMSE: 267.06\n",
      "log_overlab RMSE: 255.65\n",
      "neighbors: 2\n",
      "flattened_overlap RMSE: 228.12\n",
      "overlap RMSE: 229.86\n",
      "log_overlab RMSE: 231.64\n",
      "neighbors: 3\n",
      "flattened_overlap RMSE: 216.51\n",
      "overlap RMSE: 217.29\n",
      "log_overlab RMSE: 217.9\n",
      "neighbors: 4\n",
      "flattened_overlap RMSE: 220.74\n",
      "overlap RMSE: 235.41\n",
      "log_overlab RMSE: 229.2\n",
      "neighbors: 5\n",
      "flattened_overlap RMSE: 216.74\n",
      "overlap RMSE: 227.96\n",
      "log_overlab RMSE: 224.64\n",
      "neighbors: 6\n",
      "flattened_overlap RMSE: 214.45\n",
      "overlap RMSE: 227.35\n",
      "log_overlab RMSE: 222.5\n",
      "neighbors: 7\n",
      "flattened_overlap RMSE: 213.17\n",
      "overlap RMSE: 222.3\n",
      "log_overlab RMSE: 221.81\n",
      "neighbors: 8\n",
      "flattened_overlap RMSE: 211.12\n",
      "overlap RMSE: 218.45\n",
      "log_overlab RMSE: 221.5\n",
      "neighbors: 9\n",
      "flattened_overlap RMSE: 210.34\n",
      "overlap RMSE: 216.78\n",
      "log_overlab RMSE: 220.03\n",
      "neighbors: 10\n",
      "flattened_overlap RMSE: 209.03\n",
      "overlap RMSE: 215.36\n",
      "log_overlab RMSE: 218.75\n",
      "neighbors: 11\n",
      "flattened_overlap RMSE: 209.21\n",
      "overlap RMSE: 214.32\n",
      "log_overlab RMSE: 217.46\n",
      "neighbors: 12\n",
      "flattened_overlap RMSE: 208.82\n",
      "overlap RMSE: 213.02\n",
      "log_overlab RMSE: 217.1\n",
      "neighbors: 13\n",
      "flattened_overlap RMSE: 208.38\n",
      "overlap RMSE: 212.29\n",
      "log_overlab RMSE: 215.73\n",
      "neighbors: 14\n",
      "flattened_overlap RMSE: 208.27\n",
      "overlap RMSE: 211.62\n",
      "log_overlab RMSE: 214.6\n",
      "neighbors: 15\n",
      "flattened_overlap RMSE: 207.96\n",
      "overlap RMSE: 210.94\n",
      "log_overlab RMSE: 213.97\n"
     ]
    }
   ],
   "source": [
    "models = {\n",
    "    \"flattened_overlap\": KNNRegressor(10, metric=\"flattened_overlap_hack\", metric_params={\"prob\": prob}),\n",
    "    \"overlap\": KNNRegressor(10, metric=\"overlap_hack\"),\n",
    "    \"log_overlab\": KNNRegressor(10, metric=\"log_overlap_hack\", metric_params={\"Z_freq\": freq_train})\n",
    "}\n",
    "scores = {\"flattened_overlap\": [], \"overlap\": [], \"log_overlab\": []}\n",
    "for m in models:\n",
    "    models[m].fit(X_train_cat, y_train)\n",
    "\n",
    "for i in range(1, 16):\n",
    "    print(f\"neighbors: {i}\")\n",
    "    for m in models:\n",
    "        rmse = mean_squared_error(models[m].predict(X_test_cat, n_neighbors=i),\n",
    "                                  y_test, squared=False)\n",
    "        scores[m].append(round(rmse, 2))\n",
    "        print(f\"{m} RMSE: {round(rmse,2)}\")"
   ]
  },
  {
   "cell_type": "code",
   "execution_count": 29,
   "metadata": {},
   "outputs": [
    {
     "name": "stdout",
     "output_type": "stream",
     "text": [
      "flattened_overlap, optimal k: 14 rmse 207.96\n",
      "overlap, optimal k: 14 rmse 210.94\n",
      "log_overlab, optimal k: 14 rmse 213.97\n"
     ]
    }
   ],
   "source": [
    "for s in scores:\n",
    "    tmp = np.array(scores[s])\n",
    "    print(f\"{s}, optimal k: {1+tmp.argmin()} rmse {scores[s][tmp.argmin()]}\")"
   ]
  },
  {
   "cell_type": "markdown",
   "metadata": {},
   "source": [
    "**Посмотрим на качество лучшей модели**\n"
   ]
  },
  {
   "cell_type": "code",
   "execution_count": 23,
   "metadata": {},
   "outputs": [
    {
     "data": {
      "text/plain": [
       "207.95947477001528"
      ]
     },
     "execution_count": 23,
     "metadata": {},
     "output_type": "execute_result"
    }
   ],
   "source": [
    "model = KNNRegressor(15, metric=\"flattened_overlap_hack\", metric_params={\"prob\": prob})\n",
    "model.fit(X_train_cat, y_train_price)\n",
    "pred = model.predict(X_test_cat)\n"
   ]
  },
  {
   "cell_type": "code",
   "execution_count": 46,
   "metadata": {},
   "outputs": [
    {
     "name": "stdout",
     "output_type": "stream",
     "text": [
      "mean of y_test:150.33\n",
      "rmse:207.96\n",
      "mae:70.95\n"
     ]
    }
   ],
   "source": [
    "rmse = mean_squared_error(pred, y_test_price, squared=False)\n",
    "mae = mean_absolute_error(pred, y_test_price)\n",
    "print(f\"mean of y_test:{y_test_price.mean():.2f}\\nrmse:{rmse:.2f}\\nmae:{mae:.2f}\")"
   ]
  },
  {
   "cell_type": "markdown",
   "metadata": {},
   "source": [
    "**Сравним с baseline(константная модель)**"
   ]
  },
  {
   "cell_type": "code",
   "execution_count": 50,
   "metadata": {},
   "outputs": [
    {
     "name": "stdout",
     "output_type": "stream",
     "text": [
      "rmse:220.05\n",
      "mae:89.54\n"
     ]
    }
   ],
   "source": [
    "print(f\"rmse:{y_test_price.std():.2f}\\nmae:{np.abs(y_test_price-y_test_price.mean()).mean():.2f}\")"
   ]
  },
  {
   "cell_type": "markdown",
   "metadata": {},
   "source": [
    "**Выводы**\n",
    "\n",
    "Модель обученная на категориальных признаках лишь немногим лучше, чем константный алгортим. Это может говорить о том, что в категориальных данных не хватает информации для более качественного предсказания"
   ]
  },
  {
   "cell_type": "markdown",
   "metadata": {},
   "source": [
    "<b>2.4 (2.5 балла)</b> Отойдем ненадолго от задачи регрессии и перейдём к задаче классификации: будем определять, являеться ли квартира дорогой $(target = 1)$ или дешевой $(target = 0)$. Будем считать дорогими квариры, цена которых выше среднего."
   ]
  },
  {
   "cell_type": "code",
   "execution_count": 47,
   "metadata": {},
   "outputs": [],
   "source": [
    "data['target'] = (data.price > data.price.mean()).astype(int)\n",
    "X_train, X_test, y_train, y_test = train_test_split(data.drop(columns=['target']), data[['target']],\n",
    "                                                    test_size=0.3, random_state=241)"
   ]
  },
  {
   "cell_type": "code",
   "execution_count": 48,
   "metadata": {},
   "outputs": [],
   "source": [
    "from sklearn.preprocessing import OrdinalEncoder\n",
    "\n",
    "cat = [\"host_name\", \"neighbourhood_group\", \"neighbourhood\", \"room_type\"]\n",
    "encoder = OrdinalEncoder().fit(data[cat].to_numpy())\n",
    "X_train_cat = encoder.transform(X_train[cat].to_numpy())\n",
    "X_test_cat = encoder.transform(X_test[cat].to_numpy())\n",
    "\n",
    "y_train_tar = y_train.to_numpy()\n",
    "y_test_tar = y_test.to_numpy()"
   ]
  },
  {
   "cell_type": "markdown",
   "metadata": {},
   "source": [
    "Реализуйте счетчики, которые заменят категориальные признаки на вещественные.\n",
    "\n",
    "А именно, для каждого категориального признака $f_j(x)$ необходимо сделать следующее:\n",
    "1. Число `counts` объектов в обучающей выборке с таким же значением признака.\n",
    "\\begin{align}\n",
    "counts_j(c) = \\sum_{i=1}^l [f_j(x_i) = c]\n",
    "\\end{align}\n",
    "2. Число `successes` объектов первого класса ($y = 1$) в обучающей выборке с таким же значением признака.\n",
    "\\begin{align}\n",
    "successes_j(c) = \\sum_{i=1}^l[f_j(x_i) = c][y_i = +1].\n",
    "\\end{align}\n",
    "3. Сглаженное отношение двух предыдущих величин:\n",
    "\\begin{align}\n",
    "p_j(c) = \\frac{successes_j(c) + a}{counts_j(c) + b},\n",
    "\\end{align}\n",
    "\n",
    "где $a$ и $b$ - априорные счетчики (например, a = 1, b = 2)."
   ]
  },
  {
   "cell_type": "code",
   "execution_count": 49,
   "metadata": {},
   "outputs": [],
   "source": [
    "def val_count(a, uniq, count):\n",
    "    tmp = np.where(uniq == a)[0]\n",
    "    if(tmp.size == 0):\n",
    "        return 0\n",
    "    return count[tmp]\n",
    "\n",
    "\n",
    "vec_val_count = np.vectorize(val_count, excluded=[1, 2])"
   ]
  },
  {
   "cell_type": "code",
   "execution_count": 50,
   "metadata": {},
   "outputs": [],
   "source": [
    "def counters(X, indexs=None, return_u_c=False):\n",
    "    if(indexs is None):\n",
    "        indexs = np.full(X.shape[0], True)\n",
    "    uniq = []\n",
    "    count = []\n",
    "    ans = np.empty_like(X, dtype=float)\n",
    "\n",
    "    for i in range(X.shape[1]):\n",
    "        u, c = np.unique(X[indexs.ravel(), i], return_counts=True)\n",
    "        ans[:, i] = vec_val_count(X[:, i], u, c)\n",
    "        uniq.append(u)\n",
    "        count.append(c)\n",
    "    if(return_u_c):\n",
    "        return ans, uniq, count\n",
    "    return ans"
   ]
  },
  {
   "cell_type": "markdown",
   "metadata": {},
   "source": [
    "Поскольку признаки, содержащие информацию о целевой переменной, могут привести к переобучению, может оказаться полезным сделать *фолдинг*: разбить обучающую выборку на $n$ частей, и для $i$-й части считать `counts` и `successes` по всем остальным частям. Для тестовой выборки используются счетчики, посчитанный по всей обучающей выборке. Реализуйте и такой вариант. Достаточно взять $n = 3$."
   ]
  },
  {
   "cell_type": "code",
   "execution_count": 51,
   "metadata": {},
   "outputs": [],
   "source": [
    "from sklearn.model_selection import KFold\n",
    "\n",
    "\n",
    "def fold_counters(X, n=3, indexs=None):\n",
    "    ans = np.empty_like(X, dtype=float)\n",
    "    kf = KFold(n).split(X[:,0])\n",
    "    mask = None\n",
    "    for other, arr in kf:\n",
    "        if indexs is not None:\n",
    "            if indexs.dtype == int:\n",
    "                mask = indexs[indexs < other.size]\n",
    "            elif indexs.dtype == bool:\n",
    "                mask = indexs[other].ravel()\n",
    "\n",
    "        for i in range(X.shape[1]):\n",
    "            u, c = np.unique(X[other[mask], i], return_counts=True)\n",
    "            ans[arr, i] = vec_val_count(X[arr, i], u, c)\n",
    "\n",
    "    return ans"
   ]
  },
  {
   "cell_type": "code",
   "execution_count": 52,
   "metadata": {},
   "outputs": [],
   "source": [
    "a = 1\n",
    "b = 2\n",
    "\n",
    "tmp_fold = []\n",
    "tmp_fold.append(fold_counters(X_train_cat))\n",
    "tmp_fold.append(fold_counters(X_train_cat, indexs=(y_train_tar == 1)))\n",
    "tmp_fold.append((tmp_fold[1]+a)/(tmp_fold[1]+b))\n",
    "X_train_fold = np.hstack(tmp_fold)\n",
    "\n",
    "tmp_unfold= []\n",
    "tmp_unfold.append(counters(X_train_cat))\n",
    "tmp_unfold.append(counters(X_train_cat, indexs=(y_train_tar == 1)))\n",
    "tmp_unfold.append((tmp_unfold[1]+a)/(tmp_unfold[1]+b))\n",
    "X_train_unfold = np.hstack(tmp_unfold)"
   ]
  },
  {
   "cell_type": "code",
   "execution_count": 53,
   "metadata": {},
   "outputs": [],
   "source": [
    "_, uniq, count = counters(X_train_cat, return_u_c=True)\n",
    "tmp_1 = freq_encoder(X_test_cat, freq_categorical(X_test_cat, uniq, count))\n",
    "\n",
    "_, uniq, count = counters(X_train_cat, return_u_c=True, indexs=(y_train_tar == 1))\n",
    "tmp_2 = freq_encoder(X_test_cat, freq_categorical(X_test_cat, uniq, count))\n",
    "X_test_count = np.hstack((tmp_1, tmp_2, (tmp_2+a)/(tmp_1+b)))"
   ]
  },
  {
   "cell_type": "code",
   "execution_count": 54,
   "metadata": {},
   "outputs": [],
   "source": [
    "from sklearn.neighbors import KNeighborsClassifier\n",
    "from sklearn.metrics import accuracy_score"
   ]
  },
  {
   "cell_type": "code",
   "execution_count": 77,
   "metadata": {},
   "outputs": [
    {
     "name": "stdout",
     "output_type": "stream",
     "text": [
      "(0.7841707001158906, 28)\n"
     ]
    }
   ],
   "source": [
    "acc_fold = []\n",
    "for i in range(7, 40):\n",
    "    model_fold = KNeighborsClassifier(i, weights=\"distance\")\n",
    "    model_fold.fit(X_train_fold, y_train_tar.ravel())\n",
    "    pred_fold = model_fold.predict(X_test_count)\n",
    "    acc_fold.append((accuracy_score(pred_fold, y_test_tar),i))\n",
    "best_fold = max(acc_fold)\n",
    "print(best_fold)\n",
    "\n",
    "model_fold = KNeighborsClassifier(best_fold[1], weights=\"distance\")\n",
    "model_fold.fit(X_train_fold, y_train_tar.ravel())\n",
    "pred_fold = model_fold.predict(X_test_count)"
   ]
  },
  {
   "cell_type": "code",
   "execution_count": 84,
   "metadata": {},
   "outputs": [
    {
     "name": "stdout",
     "output_type": "stream",
     "text": [
      "(0.7990319721862431, 39)\n"
     ]
    }
   ],
   "source": [
    "acc_unfold = []\n",
    "for i in range(7, 40):\n",
    "    model_unfold = KNeighborsClassifier(i, weights=\"distance\")\n",
    "    model_unfold.fit(X_train_unfold, y_train_tar.ravel())\n",
    "    pred_unfold = model_unfold.predict(X_test_count)\n",
    "    acc_unfold.append((accuracy_score(pred_unfold, y_test_tar), i))\n",
    "best_unfold = max(acc_unfold)\n",
    "print(best_unfold)\n",
    "\n",
    "model_unfold = KNeighborsClassifier(best_unfold[1], weights=\"distance\")\n",
    "model_unfold.fit(X_train_unfold, y_train_tar.ravel())\n",
    "pred_unfold = model_unfold.predict(X_test_count)"
   ]
  },
  {
   "cell_type": "markdown",
   "metadata": {},
   "source": [
    "Посчитайте на тесте AUC-ROC метода $k$ ближайших соседей с евклидовой метрикой для выборки, где категориальные признаки заменены на счетчики. Сравните по AUC-ROC два варианта формирования выборки — с фолдингом и без. Не забудьте подобрать наилучшее число соседей $k$."
   ]
  },
  {
   "cell_type": "code",
   "execution_count": 90,
   "metadata": {},
   "outputs": [
    {
     "data": {
      "image/png": "[encoded data removed]",
      "text/plain": [
       "<Figure size 1152x360 with 2 Axes>"
      ]
     },
     "metadata": {
      "needs_background": "light"
     },
     "output_type": "display_data"
    }
   ],
   "source": [
    "# https://gist.github.com/Keiku/b6dca88b9bbe7b55701e43f7f5ee19a6\n",
    "import matplotlib.pyplot as plt\n",
    "from sklearn.metrics import roc_curve, auc\n",
    "\n",
    "fpr = []\n",
    "tpr = []\n",
    "roc_auc = []\n",
    "for pred in (pred_fold, pred_unfold):\n",
    "    fpr_tmp, tpr_tmp, _ = roc_curve(y_test_tar, pred)\n",
    "    fpr.append(fpr_tmp)\n",
    "    tpr.append(tpr_tmp)\n",
    "    roc_auc.append(auc(fpr_tmp, tpr_tmp))\n",
    "\n",
    "lw = 2\n",
    "fig, ax = plt.subplots(1, 2, figsize=(16, 5))\n",
    "for s, i in zip([\"folds\", \"unfolds\"], range(2)):\n",
    "    ax[i].plot(fpr[i], tpr[i], color='darkorange',\n",
    "               lw=lw, label='ROC curve (AUC = %0.2f)' % roc_auc[i])\n",
    "    ax[i].plot([0, 1], [0, 1], color='navy', lw=lw, linestyle='--')\n",
    "    ax[i].set_xlim([0.0, 1.0])\n",
    "    ax[i].set_ylim([0.0, 1.05])\n",
    "    ax[i].set_xlabel('False Positive Rate')\n",
    "    ax[i].set_ylabel('True Positive Rate')\n",
    "    ax[i].set_title('ROC AUC '+s)\n",
    "    ax[i].grid(True)\n",
    "    ax[i].legend()"
   ]
  },
  {
   "cell_type": "markdown",
   "metadata": {},
   "source": [
    "В данном случае фолдинг действительно помогает - хоть и показатель качества лучше, мы видим, что AUC хуже, чем у кодирования с фолдами."
   ]
  },
  {
   "cell_type": "markdown",
   "metadata": {},
   "source": [
    "<b>2.5 (1 балл)</b> Вернемся к задаче регрессии. Утверждается, что для задачи регрессии можно также сделать преобразование категориальных признаков в действительные числа. Для этого достаточно для каждого значения признака $f_j$ вычислить:\n",
    "\\begin{align}\n",
    "p_j(c) = g(T_i | f_j(x_i) = c),\n",
    "\\end{align}\n",
    "\n",
    "где $T_i$ - значения целевой переменной объекта $x_i$. Функция $g$ - среднее (mean) или среднеквадратичное отклонение (std).\n",
    "\n",
    "Закодируйте категориальные признаки обоими способами и найдите значение RMSE. Используйте евклидову метрику для поиска ближайших соседей. Для какой функции $g$ значение RMSE лучше? Почему?"
   ]
  },
  {
   "cell_type": "code",
   "execution_count": 91,
   "metadata": {},
   "outputs": [],
   "source": [
    "def statistic_encoder(func, X_train, y_train, X_test=None):\n",
    "    train = np.zeros_like(X_train)\n",
    "    if(X_test is not None):\n",
    "        test = np.zeros_like(X_test)\n",
    "\n",
    "    for i in range(X_train.shape[1]):\n",
    "        uniq = np.unique(X_train[:, i])\n",
    "        for u in uniq:\n",
    "            mask = (X_train[:, i] == u)\n",
    "            stat = func(y_train[mask])\n",
    "\n",
    "            train[mask, i] = stat\n",
    "            if(X_test is not None):\n",
    "                uniq_test = np.unique(X_test[:, i])\n",
    "                if(u in uniq_test):\n",
    "                    mask_test = (X_test[:, i] == u)\n",
    "                    test[mask_test, i] = stat\n",
    "\n",
    "    if(X_test is not None):\n",
    "        return train, test\n",
    "    return train"
   ]
  },
  {
   "cell_type": "code",
   "execution_count": 92,
   "metadata": {},
   "outputs": [],
   "source": [
    "X_train_mean, X_test_mean = statistic_encoder(np.mean, X_train_cat, y_train_price, X_test_cat)\n",
    "X_train_std, X_test_std = statistic_encoder(np.std, X_train_cat, y_train_price, X_test_cat)"
   ]
  },
  {
   "cell_type": "code",
   "execution_count": 93,
   "metadata": {},
   "outputs": [],
   "source": [
    "from sklearn.preprocessing import StandardScaler\n",
    "from sklearn.pipeline import Pipeline"
   ]
  },
  {
   "cell_type": "code",
   "execution_count": 94,
   "metadata": {},
   "outputs": [
    {
     "data": {
      "text/plain": [
       "217.11714184940854"
      ]
     },
     "execution_count": 94,
     "metadata": {},
     "output_type": "execute_result"
    }
   ],
   "source": [
    "model_mean = Pipeline([(\"scale\", StandardScaler()), (\"knn\", KNNRegressor(15))])\n",
    "model_mean.fit(X_train_mean, y_train_price)\n",
    "pred_mean = model_mean.predict(X_test_mean)\n",
    "mean_squared_error(pred_mean, y_test_price, squared=False)"
   ]
  },
  {
   "cell_type": "code",
   "execution_count": 95,
   "metadata": {},
   "outputs": [
    {
     "data": {
      "text/plain": [
       "211.28884839697463"
      ]
     },
     "execution_count": 95,
     "metadata": {},
     "output_type": "execute_result"
    }
   ],
   "source": [
    "model_std = Pipeline([(\"scale\", StandardScaler()), (\"knn\", KNNRegressor(15))])\n",
    "model_std.fit(X_train_std, y_train_price)\n",
    "pred_std = model_std.predict(X_test_std)\n",
    "mean_squared_error(pred_std, y_test_price, squared=False)"
   ]
  },
  {
   "cell_type": "markdown",
   "metadata": {},
   "source": [
    "Опять же большой вопрос можно ли сравнивать качество, когда настолько большой показатель rmse(если учесть, что y_test.mean()=150.33), но можно предположить, что стандартное отклонение в данном случае лучше, потому что среднее значения при условии категори были примерно одинаковыми, а следовательно менее информативными."
   ]
  },
  {
   "cell_type": "markdown",
   "metadata": {},
   "source": [
    "## Часть 3: Текстовые признаки"
   ]
  },
  {
   "cell_type": "markdown",
   "metadata": {},
   "source": [
    "<b>3.1 (2 балла)</b> Перейдем от категориальным признаков к текстовым. Рассмотрим 2 способа преобразования текста в действительные числа:\n",
    "- Мешок слов (Bag of Words)\n",
    "- TF-IDF\n",
    "\n",
    "[Здесь](https://scikit-learn.org/stable/modules/feature_extraction.html) вы можете прочитать про их применение в Питоне.\n",
    "\n",
    "Сравните оба способа на задаче регресси. Какую лучше метрику использовать: евклидову или косинусную меру? Постройте графики зависимости качества решения задачи от способа преобразования, метрики и количества соседей. Мера качества - RMSE.\n",
    "\n",
    "Объясните полученные результаты.\n",
    "\n",
    "Перед преобразованием не забудьте уменьшить размер словаря. Например, это можно сделать за счет приведения всех слов к одному регистру и удаления [стопслов](https://en.wikipedia.org/wiki/Stop_words) (артиклей, предлогов, союзов). Можно использовать использовать, например, библиотеку nltk."
   ]
  },
  {
   "cell_type": "code",
   "execution_count": 34,
   "metadata": {},
   "outputs": [
    {
     "name": "stderr",
     "output_type": "stream",
     "text": [
      "[nltk_data] Downloading package wordnet to /home/tyskiy/nltk_data...\n",
      "[nltk_data]   Package wordnet is already up-to-date!\n",
      "[nltk_data] Downloading package punkt to /home/tyskiy/nltk_data...\n",
      "[nltk_data]   Package punkt is already up-to-date!\n"
     ]
    },
    {
     "data": {
      "text/plain": [
       "True"
      ]
     },
     "execution_count": 34,
     "metadata": {},
     "output_type": "execute_result"
    }
   ],
   "source": [
    "from nltk.stem import PorterStemmer\n",
    "import nltk\n",
    "nltk.download('wordnet')\n",
    "nltk.download('punkt')"
   ]
  },
  {
   "cell_type": "code",
   "execution_count": 35,
   "metadata": {},
   "outputs": [],
   "source": [
    "def stemmer(X):\n",
    "    tmp = []\n",
    "\n",
    "    lemmatizer = PorterStemmer()\n",
    "    for sentence in X:\n",
    "        word_list = nltk.word_tokenize(sentence)\n",
    "\n",
    "        lemmatized_s = ' '.join([lemmatizer.stem(w) for w in word_list])\n",
    "        tmp.append(lemmatized_s)\n",
    "    return tmp"
   ]
  },
  {
   "cell_type": "code",
   "execution_count": 36,
   "metadata": {},
   "outputs": [],
   "source": [
    "text_features = [\"name\"]\n",
    "X_train_text = list(arr[0] for arr in X_train[text_features].to_numpy())\n",
    "X_test_text = list(arr[0] for arr in X_test[text_features].to_numpy())\n",
    "X_train_text = stemmer(X_train_text)\n",
    "X_test_text = stemmer(X_test_text)"
   ]
  },
  {
   "cell_type": "code",
   "execution_count": 62,
   "metadata": {},
   "outputs": [
    {
     "name": "stdout",
     "output_type": "stream",
     "text": [
      "(34226, 1404) (34226, 1404)\n"
     ]
    },
    {
     "data": {
      "text/html": [
       "<div>\n",
       "<style scoped>\n",
       "    .dataframe tbody tr th:only-of-type {\n",
       "        vertical-align: middle;\n",
       "    }\n",
       "\n",
       "    .dataframe tbody tr th {\n",
       "        vertical-align: top;\n",
       "    }\n",
       "\n",
       "    .dataframe thead th {\n",
       "        text-align: right;\n",
       "    }\n",
       "</style>\n",
       "<table border=\"1\" class=\"dataframe\">\n",
       "  <thead>\n",
       "    <tr style=\"text-align: right;\">\n",
       "      <th></th>\n",
       "      <th>000</th>\n",
       "      <th>10</th>\n",
       "      <th>100</th>\n",
       "      <th>1000</th>\n",
       "      <th>107</th>\n",
       "      <th>10min</th>\n",
       "      <th>10th</th>\n",
       "      <th>11</th>\n",
       "      <th>116</th>\n",
       "      <th>11th</th>\n",
       "      <th>...</th>\n",
       "      <th>yoga</th>\n",
       "      <th>york</th>\n",
       "      <th>yorker</th>\n",
       "      <th>young</th>\n",
       "      <th>zen</th>\n",
       "      <th>zone</th>\n",
       "      <th>zoo</th>\n",
       "      <th>旅途中的家</th>\n",
       "      <th>紐約民宿</th>\n",
       "      <th>纽约之家</th>\n",
       "    </tr>\n",
       "  </thead>\n",
       "  <tbody>\n",
       "    <tr>\n",
       "      <th>0</th>\n",
       "      <td>0.0</td>\n",
       "      <td>0.0</td>\n",
       "      <td>0.0</td>\n",
       "      <td>0.0</td>\n",
       "      <td>0.0</td>\n",
       "      <td>0.0</td>\n",
       "      <td>0.0</td>\n",
       "      <td>0.0</td>\n",
       "      <td>0.0</td>\n",
       "      <td>0.0</td>\n",
       "      <td>...</td>\n",
       "      <td>0.0</td>\n",
       "      <td>0.0</td>\n",
       "      <td>0.0</td>\n",
       "      <td>0.0</td>\n",
       "      <td>0.0</td>\n",
       "      <td>0.0</td>\n",
       "      <td>0.0</td>\n",
       "      <td>0.0</td>\n",
       "      <td>0.0</td>\n",
       "      <td>0.0</td>\n",
       "    </tr>\n",
       "    <tr>\n",
       "      <th>1</th>\n",
       "      <td>0.0</td>\n",
       "      <td>0.0</td>\n",
       "      <td>0.0</td>\n",
       "      <td>0.0</td>\n",
       "      <td>0.0</td>\n",
       "      <td>0.0</td>\n",
       "      <td>0.0</td>\n",
       "      <td>0.0</td>\n",
       "      <td>0.0</td>\n",
       "      <td>0.0</td>\n",
       "      <td>...</td>\n",
       "      <td>0.0</td>\n",
       "      <td>0.0</td>\n",
       "      <td>0.0</td>\n",
       "      <td>0.0</td>\n",
       "      <td>0.0</td>\n",
       "      <td>0.0</td>\n",
       "      <td>0.0</td>\n",
       "      <td>0.0</td>\n",
       "      <td>0.0</td>\n",
       "      <td>0.0</td>\n",
       "    </tr>\n",
       "    <tr>\n",
       "      <th>2</th>\n",
       "      <td>0.0</td>\n",
       "      <td>0.0</td>\n",
       "      <td>0.0</td>\n",
       "      <td>0.0</td>\n",
       "      <td>0.0</td>\n",
       "      <td>0.0</td>\n",
       "      <td>0.0</td>\n",
       "      <td>0.0</td>\n",
       "      <td>0.0</td>\n",
       "      <td>0.0</td>\n",
       "      <td>...</td>\n",
       "      <td>0.0</td>\n",
       "      <td>0.0</td>\n",
       "      <td>0.0</td>\n",
       "      <td>0.0</td>\n",
       "      <td>0.0</td>\n",
       "      <td>0.0</td>\n",
       "      <td>0.0</td>\n",
       "      <td>0.0</td>\n",
       "      <td>0.0</td>\n",
       "      <td>0.0</td>\n",
       "    </tr>\n",
       "    <tr>\n",
       "      <th>3</th>\n",
       "      <td>0.0</td>\n",
       "      <td>0.0</td>\n",
       "      <td>0.0</td>\n",
       "      <td>0.0</td>\n",
       "      <td>0.0</td>\n",
       "      <td>0.0</td>\n",
       "      <td>0.0</td>\n",
       "      <td>0.0</td>\n",
       "      <td>0.0</td>\n",
       "      <td>0.0</td>\n",
       "      <td>...</td>\n",
       "      <td>0.0</td>\n",
       "      <td>0.0</td>\n",
       "      <td>0.0</td>\n",
       "      <td>0.0</td>\n",
       "      <td>0.0</td>\n",
       "      <td>0.0</td>\n",
       "      <td>0.0</td>\n",
       "      <td>0.0</td>\n",
       "      <td>0.0</td>\n",
       "      <td>0.0</td>\n",
       "    </tr>\n",
       "    <tr>\n",
       "      <th>4</th>\n",
       "      <td>0.0</td>\n",
       "      <td>0.0</td>\n",
       "      <td>0.0</td>\n",
       "      <td>0.0</td>\n",
       "      <td>0.0</td>\n",
       "      <td>0.0</td>\n",
       "      <td>0.0</td>\n",
       "      <td>0.0</td>\n",
       "      <td>0.0</td>\n",
       "      <td>0.0</td>\n",
       "      <td>...</td>\n",
       "      <td>0.0</td>\n",
       "      <td>0.0</td>\n",
       "      <td>0.0</td>\n",
       "      <td>0.0</td>\n",
       "      <td>0.0</td>\n",
       "      <td>0.0</td>\n",
       "      <td>0.0</td>\n",
       "      <td>0.0</td>\n",
       "      <td>0.0</td>\n",
       "      <td>0.0</td>\n",
       "    </tr>\n",
       "    <tr>\n",
       "      <th>...</th>\n",
       "      <td>...</td>\n",
       "      <td>...</td>\n",
       "      <td>...</td>\n",
       "      <td>...</td>\n",
       "      <td>...</td>\n",
       "      <td>...</td>\n",
       "      <td>...</td>\n",
       "      <td>...</td>\n",
       "      <td>...</td>\n",
       "      <td>...</td>\n",
       "      <td>...</td>\n",
       "      <td>...</td>\n",
       "      <td>...</td>\n",
       "      <td>...</td>\n",
       "      <td>...</td>\n",
       "      <td>...</td>\n",
       "      <td>...</td>\n",
       "      <td>...</td>\n",
       "      <td>...</td>\n",
       "      <td>...</td>\n",
       "      <td>...</td>\n",
       "    </tr>\n",
       "    <tr>\n",
       "      <th>34221</th>\n",
       "      <td>0.0</td>\n",
       "      <td>0.0</td>\n",
       "      <td>0.0</td>\n",
       "      <td>0.0</td>\n",
       "      <td>0.0</td>\n",
       "      <td>0.0</td>\n",
       "      <td>0.0</td>\n",
       "      <td>0.0</td>\n",
       "      <td>0.0</td>\n",
       "      <td>0.0</td>\n",
       "      <td>...</td>\n",
       "      <td>0.0</td>\n",
       "      <td>0.0</td>\n",
       "      <td>0.0</td>\n",
       "      <td>0.0</td>\n",
       "      <td>0.0</td>\n",
       "      <td>0.0</td>\n",
       "      <td>0.0</td>\n",
       "      <td>0.0</td>\n",
       "      <td>0.0</td>\n",
       "      <td>0.0</td>\n",
       "    </tr>\n",
       "    <tr>\n",
       "      <th>34222</th>\n",
       "      <td>0.0</td>\n",
       "      <td>0.0</td>\n",
       "      <td>0.0</td>\n",
       "      <td>0.0</td>\n",
       "      <td>0.0</td>\n",
       "      <td>0.0</td>\n",
       "      <td>0.0</td>\n",
       "      <td>0.0</td>\n",
       "      <td>0.0</td>\n",
       "      <td>0.0</td>\n",
       "      <td>...</td>\n",
       "      <td>0.0</td>\n",
       "      <td>0.0</td>\n",
       "      <td>0.0</td>\n",
       "      <td>0.0</td>\n",
       "      <td>0.0</td>\n",
       "      <td>0.0</td>\n",
       "      <td>0.0</td>\n",
       "      <td>0.0</td>\n",
       "      <td>0.0</td>\n",
       "      <td>0.0</td>\n",
       "    </tr>\n",
       "    <tr>\n",
       "      <th>34223</th>\n",
       "      <td>0.0</td>\n",
       "      <td>0.0</td>\n",
       "      <td>0.0</td>\n",
       "      <td>0.0</td>\n",
       "      <td>0.0</td>\n",
       "      <td>0.0</td>\n",
       "      <td>0.0</td>\n",
       "      <td>0.0</td>\n",
       "      <td>0.0</td>\n",
       "      <td>0.0</td>\n",
       "      <td>...</td>\n",
       "      <td>0.0</td>\n",
       "      <td>0.0</td>\n",
       "      <td>0.0</td>\n",
       "      <td>0.0</td>\n",
       "      <td>0.0</td>\n",
       "      <td>0.0</td>\n",
       "      <td>0.0</td>\n",
       "      <td>0.0</td>\n",
       "      <td>0.0</td>\n",
       "      <td>0.0</td>\n",
       "    </tr>\n",
       "    <tr>\n",
       "      <th>34224</th>\n",
       "      <td>0.0</td>\n",
       "      <td>0.0</td>\n",
       "      <td>0.0</td>\n",
       "      <td>0.0</td>\n",
       "      <td>0.0</td>\n",
       "      <td>0.0</td>\n",
       "      <td>0.0</td>\n",
       "      <td>0.0</td>\n",
       "      <td>0.0</td>\n",
       "      <td>0.0</td>\n",
       "      <td>...</td>\n",
       "      <td>0.0</td>\n",
       "      <td>0.0</td>\n",
       "      <td>0.0</td>\n",
       "      <td>0.0</td>\n",
       "      <td>0.0</td>\n",
       "      <td>0.0</td>\n",
       "      <td>0.0</td>\n",
       "      <td>0.0</td>\n",
       "      <td>0.0</td>\n",
       "      <td>0.0</td>\n",
       "    </tr>\n",
       "    <tr>\n",
       "      <th>34225</th>\n",
       "      <td>0.0</td>\n",
       "      <td>0.0</td>\n",
       "      <td>0.0</td>\n",
       "      <td>0.0</td>\n",
       "      <td>0.0</td>\n",
       "      <td>0.0</td>\n",
       "      <td>0.0</td>\n",
       "      <td>0.0</td>\n",
       "      <td>0.0</td>\n",
       "      <td>0.0</td>\n",
       "      <td>...</td>\n",
       "      <td>0.0</td>\n",
       "      <td>0.0</td>\n",
       "      <td>0.0</td>\n",
       "      <td>0.0</td>\n",
       "      <td>0.0</td>\n",
       "      <td>0.0</td>\n",
       "      <td>0.0</td>\n",
       "      <td>0.0</td>\n",
       "      <td>0.0</td>\n",
       "      <td>0.0</td>\n",
       "    </tr>\n",
       "  </tbody>\n",
       "</table>\n",
       "<p>34226 rows × 1404 columns</p>\n",
       "</div>"
      ],
      "text/plain": [
       "       000   10  100  1000  107  10min  10th   11  116  11th  ...  yoga  york  \\\n",
       "0      0.0  0.0  0.0   0.0  0.0    0.0   0.0  0.0  0.0   0.0  ...   0.0   0.0   \n",
       "1      0.0  0.0  0.0   0.0  0.0    0.0   0.0  0.0  0.0   0.0  ...   0.0   0.0   \n",
       "2      0.0  0.0  0.0   0.0  0.0    0.0   0.0  0.0  0.0   0.0  ...   0.0   0.0   \n",
       "3      0.0  0.0  0.0   0.0  0.0    0.0   0.0  0.0  0.0   0.0  ...   0.0   0.0   \n",
       "4      0.0  0.0  0.0   0.0  0.0    0.0   0.0  0.0  0.0   0.0  ...   0.0   0.0   \n",
       "...    ...  ...  ...   ...  ...    ...   ...  ...  ...   ...  ...   ...   ...   \n",
       "34221  0.0  0.0  0.0   0.0  0.0    0.0   0.0  0.0  0.0   0.0  ...   0.0   0.0   \n",
       "34222  0.0  0.0  0.0   0.0  0.0    0.0   0.0  0.0  0.0   0.0  ...   0.0   0.0   \n",
       "34223  0.0  0.0  0.0   0.0  0.0    0.0   0.0  0.0  0.0   0.0  ...   0.0   0.0   \n",
       "34224  0.0  0.0  0.0   0.0  0.0    0.0   0.0  0.0  0.0   0.0  ...   0.0   0.0   \n",
       "34225  0.0  0.0  0.0   0.0  0.0    0.0   0.0  0.0  0.0   0.0  ...   0.0   0.0   \n",
       "\n",
       "       yorker  young  zen  zone  zoo  旅途中的家  紐約民宿  纽约之家  \n",
       "0         0.0    0.0  0.0   0.0  0.0    0.0   0.0   0.0  \n",
       "1         0.0    0.0  0.0   0.0  0.0    0.0   0.0   0.0  \n",
       "2         0.0    0.0  0.0   0.0  0.0    0.0   0.0   0.0  \n",
       "3         0.0    0.0  0.0   0.0  0.0    0.0   0.0   0.0  \n",
       "4         0.0    0.0  0.0   0.0  0.0    0.0   0.0   0.0  \n",
       "...       ...    ...  ...   ...  ...    ...   ...   ...  \n",
       "34221     0.0    0.0  0.0   0.0  0.0    0.0   0.0   0.0  \n",
       "34222     0.0    0.0  0.0   0.0  0.0    0.0   0.0   0.0  \n",
       "34223     0.0    0.0  0.0   0.0  0.0    0.0   0.0   0.0  \n",
       "34224     0.0    0.0  0.0   0.0  0.0    0.0   0.0   0.0  \n",
       "34225     0.0    0.0  0.0   0.0  0.0    0.0   0.0   0.0  \n",
       "\n",
       "[34226 rows x 1404 columns]"
      ]
     },
     "execution_count": 62,
     "metadata": {},
     "output_type": "execute_result"
    }
   ],
   "source": [
    "from sklearn.feature_extraction.text import CountVectorizer, TfidfVectorizer\n",
    "count_vectorizer = CountVectorizer(lowercase=True, stop_words=\"english\", min_df=5)\n",
    "tfidf_vectorizer = TfidfVectorizer(lowercase=True, stop_words=\"english\", min_df=5)\n",
    "\n",
    "bag_train = count_vectorizer.fit_transform(X_train_text)\n",
    "bag_test = count_vectorizer.transform(X_test_text)\n",
    "\n",
    "tf_train = tfidf_vectorizer.fit_transform(X_train_text)\n",
    "tf_test = tfidf_vectorizer.transform(X_test_text)\n",
    "\n",
    "\n",
    "feature_names = count_vectorizer.get_feature_names()\n",
    "print(bag_train.shape, tf_train.shape)\n",
    "pd.DataFrame(data=tf_train.toarray(), columns=feature_names)"
   ]
  },
  {
   "cell_type": "code",
   "execution_count": 63,
   "metadata": {},
   "outputs": [
    {
     "data": {
      "text/plain": [
       "209.18723422735945"
      ]
     },
     "execution_count": 63,
     "metadata": {},
     "output_type": "execute_result"
    }
   ],
   "source": [
    "model = KNNRegressor(100, metric=\"cosine\")\n",
    "model.fit(bag_train, y_train_price)\n",
    "pred = model.predict(bag_test)\n",
    "mean_squared_error(pred, y_test_price, squared=False)"
   ]
  },
  {
   "cell_type": "code",
   "execution_count": 64,
   "metadata": {},
   "outputs": [
    {
     "data": {
      "text/plain": [
       "216.04094992625951"
      ]
     },
     "execution_count": 64,
     "metadata": {},
     "output_type": "execute_result"
    }
   ],
   "source": [
    "model = KNNRegressor(100)\n",
    "model.fit(tf_train, y_train_price)\n",
    "pred = model.predict(tf_test)\n",
    "mean_squared_error(pred, y_test_price, squared=False)"
   ]
  },
  {
   "cell_type": "markdown",
   "metadata": {},
   "source": [
    "<b>3.2 (1 балл)</b> Используя все доступные признаки, решите задачу регрессии. Для категориальных и текстовых признаков выберите лучшие преобразования (из сделанных раннее заданий). Повлияло ли добавление количественного признака на метрику качества?"
   ]
  },
  {
   "cell_type": "markdown",
   "metadata": {},
   "source": [
    "## Часть 4: Выводы\n"
   ]
  },
  {
   "cell_type": "code",
   "execution_count": null,
   "metadata": {},
   "outputs": [],
   "source": [
    "# Ваши выводы здесь (ノ°∀°)ノ⌒･*:.｡. .｡.:*･゜ﾟ･*☆"
   ]
  }
 ],
 "metadata": {
  "kernelspec": {
   "display_name": "Python 3",
   "language": "python",
   "name": "python3"
  },
  "language_info": {
   "codemirror_mode": {
    "name": "ipython",
    "version": 3
   },
   "file_extension": ".py",
   "mimetype": "text/x-python",
   "name": "python",
   "nbconvert_exporter": "python",
   "pygments_lexer": "ipython3",
   "version": "3.8.3"
  }
 },
 "nbformat": 4,
 "nbformat_minor": 4
}
